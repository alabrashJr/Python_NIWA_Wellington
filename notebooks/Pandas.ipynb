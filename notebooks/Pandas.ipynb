{
 "metadata": {
  "gist_id": "7ff2df68a2861dede6fc",
  "name": "",
  "signature": "sha256:4661858a7e6d6426e8cc40bcf4fa04d332409763d1f1f669304a030d6acc422d"
 },
 "nbformat": 3,
 "nbformat_minor": 0,
 "worksheets": [
  {
   "cells": [
    {
     "cell_type": "code",
     "collapsed": false,
     "input": [
      "%load_ext load_style\n",
      "%load_style talk.css\n",
      "from IPython.display import Image, HTML\n",
      "import numpy as np\n",
      "import matplotlib.pyplot as plt\n",
      "%matplotlib inline"
     ],
     "language": "python",
     "metadata": {},
     "outputs": [
      {
       "html": [
        "<style>\n",
        "\n",
        ".rendered_html {\n",
        "    font-family: \"proxima-nova\", helvetica;\n",
        "    font-size: 130%;\n",
        "    line-height: 1.5;\n",
        "}\n",
        "\n",
        ".rendered_html h1 {\n",
        "    margin: 0.25em 0em 0.5em;\n",
        "    color: #015C9C;\n",
        "    text-align: center;\n",
        "    line-height: 1.2; \n",
        "    page-break-before: always;\n",
        "}\n",
        "\n",
        ".rendered_html h2 {\n",
        "    margin: 1.1em 0em 0.5em;\n",
        "    color: #26465D;\n",
        "    line-height: 1.2;\n",
        "}\n",
        "\n",
        ".rendered_html h3 {\n",
        "    margin: 1.1em 0em 0.5em;\n",
        "    color: #002845;\n",
        "    line-height: 1.2;\n",
        "}\n",
        "\n",
        ".rendered_html li {\n",
        "    line-height: 1.5; \n",
        "}\n",
        "\n",
        "/*.prompt {\n",
        "    font-size: 120%; \n",
        "}*/\n",
        "\n",
        ".CodeMirror-lines {\n",
        "    font-size: 110%; \n",
        "}\n",
        "\n",
        "/*.output_area {\n",
        "    font-size: 120%; \n",
        "}*/\n",
        "\n",
        "/*#notebook {\n",
        "    background-image: url('files/images/witewall_3.png');\n",
        "}*/\n",
        "\n",
        "h1.bigtitle {\n",
        "    margin: 4cm 1cm 4cm 1cm;\n",
        "    font-size: 300%;\n",
        "}\n",
        "\n",
        "h3.point {\n",
        "    font-size: 200%;\n",
        "    text-align: center;\n",
        "    margin: 2em 0em 2em 0em;\n",
        "    #26465D\n",
        "}\n",
        "\n",
        ".logo {\n",
        "    margin: 20px 0 20px 0;\n",
        "}\n",
        "\n",
        "a.anchor-link {\n",
        "    display: none;\n",
        "}\n",
        "\n",
        "h1.title { \n",
        "    font-size: 250%;\n",
        "}\n",
        "\n",
        "</style>"
       ],
       "metadata": {},
       "output_type": "display_data",
       "text": [
        "<IPython.core.display.HTML at 0x1041bb750>"
       ]
      }
     ],
     "prompt_number": 1
    },
    {
     "cell_type": "heading",
     "level": 1,
     "metadata": {},
     "source": [
      "Pandas"
     ]
    },
    {
     "cell_type": "markdown",
     "metadata": {},
     "source": [
      "**pandas** is a Python package providing fast, flexible, and expressive data structures designed to work with *relational* or *labeled* data. It is a fundamental high-level building block for doing practical, real world data analysis in Python. \n",
      "\n",
      "pandas is well suited for:\n",
      "\n",
      "- Tabular data with heterogeneously-typed columns, as in an SQL table or Excel spreadsheet\n",
      "- Ordered and unordered (not necessarily fixed-frequency) time series data.\n",
      "- Arbitrary matrix data (homogeneously typed or heterogeneous) with row and column labels\n",
      "- Any other form of observational / statistical data sets. The data actually need not be labeled at all to be placed into a pandas data structure\n",
      "\n",
      "\n",
      "Key features:  \n",
      "    \n",
      "- Easy handling of **missing data**\n",
      "- **Size mutability**: columns can be inserted and deleted from DataFrame and higher dimensional objects\n",
      "- Automatic and explicit **data alignment**: objects can be explicitly aligned to a set of labels, or the data can be aligned automatically\n",
      "- Powerful, flexible **group by functionality** to perform split-apply-combine operations on data sets\n",
      "- Intelligent label-based **slicing, fancy indexing, and subsetting** of large data sets\n",
      "- Intuitive **merging and joining** data sets\n",
      "- Flexible **reshaping and pivoting** of data sets\n",
      "- **Hierarchical labeling** of axes\n",
      "- Robust **IO tools** for loading data from flat files, Excel files, databases, and HDF5\n",
      "- **Time series functionality**: date range generation and frequency conversion, moving window statistics, moving window linear regressions, date shifting and lagging, etc."
     ]
    },
    {
     "cell_type": "code",
     "collapsed": false,
     "input": [
      "HTML('<iframe src=http://pandas.pydata.org/index.html width=900 height=350></iframe>')"
     ],
     "language": "python",
     "metadata": {},
     "outputs": [
      {
       "html": [
        "<iframe src=http://pandas.pydata.org/index.html width=900 height=350></iframe>"
       ],
       "metadata": {},
       "output_type": "pyout",
       "prompt_number": 2,
       "text": [
        "<IPython.core.display.HTML at 0x104199fd0>"
       ]
      }
     ],
     "prompt_number": 2
    },
    {
     "cell_type": "markdown",
     "metadata": {},
     "source": [
      "The conventional way to import pandas is ```import pandas as pd```"
     ]
    },
    {
     "cell_type": "code",
     "collapsed": false,
     "input": [
      "import pandas as pd"
     ],
     "language": "python",
     "metadata": {},
     "outputs": [],
     "prompt_number": 3
    },
    {
     "cell_type": "markdown",
     "metadata": {},
     "source": [
      "some options setting "
     ]
    },
    {
     "cell_type": "code",
     "collapsed": false,
     "input": [
      "pd.set_option(\"display.width\", 80)\n",
      "# toggle the line below that if one doesnt want DataFrames displayed as HTML tables\n",
      "#pd.set_option(\"notebook_repr_html\", False) \n",
      "pd.set_option(\"notebook_repr_html\", True) "
     ],
     "language": "python",
     "metadata": {},
     "outputs": [],
     "prompt_number": 4
    },
    {
     "cell_type": "markdown",
     "metadata": {},
     "source": [
      "Pandas's data structures and functionalities will be familiar to R users, there's a section on Pandas's website where \n",
      "Wes McKinney gives some translation of common idioms / operations between R and Pandas "
     ]
    },
    {
     "cell_type": "code",
     "collapsed": false,
     "input": [
      "HTML('<iframe src=http://pandas.pydata.org/pandas-docs/stable/comparison_with_r.html#compare-with-r width=900 height=350></iframe>')"
     ],
     "language": "python",
     "metadata": {},
     "outputs": [
      {
       "html": [
        "<iframe src=http://pandas.pydata.org/pandas-docs/stable/comparison_with_r.html#compare-with-r width=900 height=350></iframe>"
       ],
       "metadata": {},
       "output_type": "pyout",
       "prompt_number": 5,
       "text": [
        "<IPython.core.display.HTML at 0x109ed4090>"
       ]
      }
     ],
     "prompt_number": 5
    },
    {
     "cell_type": "heading",
     "level": 2,
     "metadata": {},
     "source": [
      "Pandas data structures"
     ]
    },
    {
     "cell_type": "heading",
     "level": 3,
     "metadata": {},
     "source": [
      "Series"
     ]
    },
    {
     "cell_type": "markdown",
     "metadata": {},
     "source": [
      "\n",
      "A **Series** is a single vector of data values (think a NumPy array with shape N or (N,1)) with an **index** that labels each element in the vector."
     ]
    },
    {
     "cell_type": "heading",
     "level": 4,
     "metadata": {},
     "source": [
      "Series constructions"
     ]
    },
    {
     "cell_type": "code",
     "collapsed": false,
     "input": [
      "a = pd.Series(np.random.normal(0,1,(10,)))"
     ],
     "language": "python",
     "metadata": {},
     "outputs": [],
     "prompt_number": 6
    },
    {
     "cell_type": "code",
     "collapsed": false,
     "input": [
      "a"
     ],
     "language": "python",
     "metadata": {},
     "outputs": [
      {
       "metadata": {},
       "output_type": "pyout",
       "prompt_number": 7,
       "text": [
        "0   -1.398521\n",
        "1   -0.863246\n",
        "2   -0.226279\n",
        "3   -1.040044\n",
        "4    0.377937\n",
        "5   -1.562212\n",
        "6   -0.987568\n",
        "7   -1.606816\n",
        "8   -1.466501\n",
        "9   -0.941381\n",
        "dtype: float64"
       ]
      }
     ],
     "prompt_number": 7
    },
    {
     "cell_type": "code",
     "collapsed": false,
     "input": [
      "a.index"
     ],
     "language": "python",
     "metadata": {},
     "outputs": [
      {
       "metadata": {},
       "output_type": "pyout",
       "prompt_number": 8,
       "text": [
        "Int64Index([0, 1, 2, 3, 4, 5, 6, 7, 8, 9], dtype='int64')"
       ]
      }
     ],
     "prompt_number": 8
    },
    {
     "cell_type": "code",
     "collapsed": false,
     "input": [
      "a.values"
     ],
     "language": "python",
     "metadata": {},
     "outputs": [
      {
       "metadata": {},
       "output_type": "pyout",
       "prompt_number": 9,
       "text": [
        "array([-1.39852099, -0.86324599, -0.22627861, -1.04004355,  0.37793712,\n",
        "       -1.56221212, -0.98756817, -1.60681631, -1.46650075, -0.94138079])"
       ]
      }
     ],
     "prompt_number": 9
    },
    {
     "cell_type": "markdown",
     "metadata": {},
     "source": [
      "#### You can define your own **index**"
     ]
    },
    {
     "cell_type": "code",
     "collapsed": false,
     "input": [
      "a = pd.Series(np.random.normal(0,1,(10,)), index=np.arange(1,11))"
     ],
     "language": "python",
     "metadata": {},
     "outputs": [],
     "prompt_number": 10
    },
    {
     "cell_type": "code",
     "collapsed": false,
     "input": [
      "a"
     ],
     "language": "python",
     "metadata": {},
     "outputs": [
      {
       "metadata": {},
       "output_type": "pyout",
       "prompt_number": 11,
       "text": [
        "1    -1.262935\n",
        "2    -0.669490\n",
        "3     1.043141\n",
        "4    -0.102828\n",
        "5    -0.821477\n",
        "6     0.572384\n",
        "7    -0.621883\n",
        "8    -1.911649\n",
        "9     0.446867\n",
        "10   -0.044686\n",
        "dtype: float64"
       ]
      }
     ],
     "prompt_number": 11
    },
    {
     "cell_type": "code",
     "collapsed": false,
     "input": [
      "a = pd.Series(np.random.normal(0,1,5), \\\n",
      "              index=['a','b','c','d','e'], name='my series')"
     ],
     "language": "python",
     "metadata": {},
     "outputs": [],
     "prompt_number": 12
    },
    {
     "cell_type": "code",
     "collapsed": false,
     "input": [
      "a"
     ],
     "language": "python",
     "metadata": {},
     "outputs": [
      {
       "metadata": {},
       "output_type": "pyout",
       "prompt_number": 13,
       "text": [
        "a   -0.227054\n",
        "b    0.904130\n",
        "c    1.135842\n",
        "d   -0.422937\n",
        "e   -1.417380\n",
        "Name: my series, dtype: float64"
       ]
      }
     ],
     "prompt_number": 13
    },
    {
     "cell_type": "markdown",
     "metadata": {},
     "source": [
      "Pandas objects expose some powerful, **high level plotting functions** (built on top of Matplotlib)"
     ]
    },
    {
     "cell_type": "code",
     "collapsed": false,
     "input": [
      "plot = a.plot(kind='bar', rot=0, color='r', title=a.name)"
     ],
     "language": "python",
     "metadata": {},
     "outputs": [
      {
       "metadata": {},
       "output_type": "display_data",
       "png": "[encoded data removed]",
       "text": [
        "<matplotlib.figure.Figure at 0x109ed4550>"
       ]
      }
     ],
     "prompt_number": 14
    },
    {
     "cell_type": "code",
     "collapsed": false,
     "input": [
      "f, ax = plt.subplots()\n",
      "bars = ax.bar(np.arange(len(a)), a.values, color='w', edgecolor='k', align='center', hatch='///')\n",
      "ax.set_xticks(np.arange(len(a)))\n",
      "ax.set_xlim(-0.5, len(a)-0.5)\n",
      "ax.set_xticklabels(a.index, fontsize=16)\n",
      "ax.set_title(a.name, fontsize=16)"
     ],
     "language": "python",
     "metadata": {},
     "outputs": [
      {
       "metadata": {},
       "output_type": "pyout",
       "prompt_number": 15,
       "text": [
        "<matplotlib.text.Text at 0x10a0fa3d0>"
       ]
      },
      {
       "metadata": {},
       "output_type": "display_data",
       "png": "[encoded data removed]",
       "text": [
        "<matplotlib.figure.Figure at 0x10a02dc90>"
       ]
      }
     ],
     "prompt_number": 15
    },
    {
     "cell_type": "heading",
     "level": 4,
     "metadata": {},
     "source": [
      "Series indexing"
     ]
    },
    {
     "cell_type": "markdown",
     "metadata": {},
     "source": [
      "Selecting from a Series is easy, using the corresponding index key (like a dict)"
     ]
    },
    {
     "cell_type": "code",
     "collapsed": false,
     "input": [
      "a"
     ],
     "language": "python",
     "metadata": {},
     "outputs": [
      {
       "metadata": {},
       "output_type": "pyout",
       "prompt_number": 16,
       "text": [
        "a   -0.227054\n",
        "b    0.904130\n",
        "c    1.135842\n",
        "d   -0.422937\n",
        "e   -1.417380\n",
        "Name: my series, dtype: float64"
       ]
      }
     ],
     "prompt_number": 16
    },
    {
     "cell_type": "code",
     "collapsed": false,
     "input": [
      "a['c']"
     ],
     "language": "python",
     "metadata": {},
     "outputs": [
      {
       "metadata": {},
       "output_type": "pyout",
       "prompt_number": 17,
       "text": [
        "1.1358419942296485"
       ]
      }
     ],
     "prompt_number": 17
    },
    {
     "cell_type": "markdown",
     "metadata": {},
     "source": [
      "slices are permitted "
     ]
    },
    {
     "cell_type": "code",
     "collapsed": false,
     "input": [
      "a['a':'c'] ### Note the difference with standard Python / Numpy positional, integer indexing"
     ],
     "language": "python",
     "metadata": {},
     "outputs": [
      {
       "metadata": {},
       "output_type": "pyout",
       "prompt_number": 18,
       "text": [
        "a   -0.227054\n",
        "b    0.904130\n",
        "c    1.135842\n",
        "Name: my series, dtype: float64"
       ]
      }
     ],
     "prompt_number": 18
    },
    {
     "cell_type": "code",
     "collapsed": false,
     "input": [
      "a['c':]"
     ],
     "language": "python",
     "metadata": {},
     "outputs": [
      {
       "metadata": {},
       "output_type": "pyout",
       "prompt_number": 19,
       "text": [
        "c    1.135842\n",
        "d   -0.422937\n",
        "e   -1.417380\n",
        "Name: my series, dtype: float64"
       ]
      }
     ],
     "prompt_number": 19
    },
    {
     "cell_type": "markdown",
     "metadata": {},
     "source": [
      "deleting an element "
     ]
    },
    {
     "cell_type": "code",
     "collapsed": false,
     "input": [
      "a.drop('d')"
     ],
     "language": "python",
     "metadata": {},
     "outputs": [
      {
       "metadata": {},
       "output_type": "pyout",
       "prompt_number": 20,
       "text": [
        "a   -0.227054\n",
        "b    0.904130\n",
        "c    1.135842\n",
        "e   -1.417380\n",
        "Name: my series, dtype: float64"
       ]
      }
     ],
     "prompt_number": 20
    },
    {
     "cell_type": "markdown",
     "metadata": {},
     "source": [
      "Adding an element is (to my knowledge) not straightforward"
     ]
    },
    {
     "cell_type": "code",
     "collapsed": false,
     "input": [
      "a = a.drop('d')"
     ],
     "language": "python",
     "metadata": {},
     "outputs": [],
     "prompt_number": 21
    },
    {
     "cell_type": "code",
     "collapsed": false,
     "input": [
      "a"
     ],
     "language": "python",
     "metadata": {},
     "outputs": [
      {
       "metadata": {},
       "output_type": "pyout",
       "prompt_number": 22,
       "text": [
        "a   -0.227054\n",
        "b    0.904130\n",
        "c    1.135842\n",
        "e   -1.417380\n",
        "Name: my series, dtype: float64"
       ]
      }
     ],
     "prompt_number": 22
    },
    {
     "cell_type": "code",
     "collapsed": false,
     "input": [
      "a.append(pd.Series({'d':5}))"
     ],
     "language": "python",
     "metadata": {},
     "outputs": [
      {
       "metadata": {},
       "output_type": "pyout",
       "prompt_number": 23,
       "text": [
        "a   -0.227054\n",
        "b    0.904130\n",
        "c    1.135842\n",
        "e   -1.417380\n",
        "d    5.000000\n",
        "dtype: float64"
       ]
      }
     ],
     "prompt_number": 23
    },
    {
     "cell_type": "markdown",
     "metadata": {},
     "source": [
      "Mathematical operations involving two series will perform operations by *aligning indices*.\n",
      "\n",
      "1. The union of all indices is created\n",
      "2. The mathematical operation is performed on matching indices. \n",
      "\n",
      "Indices that do not match are given the value NaN (not a number), and values are computed for all unique pairs of repeated indices."
     ]
    },
    {
     "cell_type": "code",
     "collapsed": false,
     "input": [
      "s1 = pd.Series(np.arange(1.0,4.0),index=['a','b','c'])\n",
      "s2 = pd.Series(np.arange(1.0,4.0),index=['b','c','d'])"
     ],
     "language": "python",
     "metadata": {},
     "outputs": [],
     "prompt_number": 24
    },
    {
     "cell_type": "code",
     "collapsed": false,
     "input": [
      "s3 = s1 + s2"
     ],
     "language": "python",
     "metadata": {},
     "outputs": [],
     "prompt_number": 25
    },
    {
     "cell_type": "code",
     "collapsed": false,
     "input": [
      "s3"
     ],
     "language": "python",
     "metadata": {},
     "outputs": [
      {
       "metadata": {},
       "output_type": "pyout",
       "prompt_number": 26,
       "text": [
        "a   NaN\n",
        "b     3\n",
        "c     5\n",
        "d   NaN\n",
        "dtype: float64"
       ]
      }
     ],
     "prompt_number": 26
    },
    {
     "cell_type": "markdown",
     "metadata": {},
     "source": [
      "NaNs are ignored in all operations "
     ]
    },
    {
     "cell_type": "code",
     "collapsed": false,
     "input": [
      "s3.mean()"
     ],
     "language": "python",
     "metadata": {},
     "outputs": [
      {
       "metadata": {},
       "output_type": "pyout",
       "prompt_number": 27,
       "text": [
        "4.0"
       ]
      }
     ],
     "prompt_number": 27
    },
    {
     "cell_type": "markdown",
     "metadata": {},
     "source": [
      "You can drop them from the Series"
     ]
    },
    {
     "cell_type": "code",
     "collapsed": false,
     "input": [
      "s4 = s3.dropna()"
     ],
     "language": "python",
     "metadata": {},
     "outputs": [],
     "prompt_number": 28
    },
    {
     "cell_type": "code",
     "collapsed": false,
     "input": [
      "s4"
     ],
     "language": "python",
     "metadata": {},
     "outputs": [
      {
       "metadata": {},
       "output_type": "pyout",
       "prompt_number": 29,
       "text": [
        "b    3\n",
        "c    5\n",
        "dtype: float64"
       ]
      }
     ],
     "prompt_number": 29
    },
    {
     "cell_type": "markdown",
     "metadata": {},
     "source": [
      "Or use the `fillna` method to replace them by a value"
     ]
    },
    {
     "cell_type": "code",
     "collapsed": false,
     "input": [
      "s3.fillna(-999)"
     ],
     "language": "python",
     "metadata": {},
     "outputs": [
      {
       "metadata": {},
       "output_type": "pyout",
       "prompt_number": 30,
       "text": [
        "a   -999\n",
        "b      3\n",
        "c      5\n",
        "d   -999\n",
        "dtype: float64"
       ]
      }
     ],
     "prompt_number": 30
    },
    {
     "cell_type": "code",
     "collapsed": false,
     "input": [
      "s3.fillna(s3.mean())"
     ],
     "language": "python",
     "metadata": {},
     "outputs": [
      {
       "metadata": {},
       "output_type": "pyout",
       "prompt_number": 31,
       "text": [
        "a    4\n",
        "b    3\n",
        "c    5\n",
        "d    4\n",
        "dtype: float64"
       ]
      }
     ],
     "prompt_number": 31
    },
    {
     "cell_type": "heading",
     "level": 4,
     "metadata": {},
     "source": [
      "Series with a date / datetime index (timeseries)"
     ]
    },
    {
     "cell_type": "markdown",
     "metadata": {},
     "source": [
      "Series can have indexes representing dates / times "
     ]
    },
    {
     "cell_type": "code",
     "collapsed": false,
     "input": [
      "a"
     ],
     "language": "python",
     "metadata": {},
     "outputs": [
      {
       "metadata": {},
       "output_type": "pyout",
       "prompt_number": 32,
       "text": [
        "a   -0.227054\n",
        "b    0.904130\n",
        "c    1.135842\n",
        "e   -1.417380\n",
        "Name: my series, dtype: float64"
       ]
      }
     ],
     "prompt_number": 32
    },
    {
     "cell_type": "code",
     "collapsed": false,
     "input": [
      "a.index = pd.date_range(start='2014-1-1', periods=len(a)) # default 'period' is daily"
     ],
     "language": "python",
     "metadata": {},
     "outputs": [],
     "prompt_number": 33
    },
    {
     "cell_type": "code",
     "collapsed": false,
     "input": [
      "a.head()"
     ],
     "language": "python",
     "metadata": {},
     "outputs": [
      {
       "metadata": {},
       "output_type": "pyout",
       "prompt_number": 34,
       "text": [
        "2014-01-01   -0.227054\n",
        "2014-01-02    0.904130\n",
        "2014-01-03    1.135842\n",
        "2014-01-04   -1.417380\n",
        "Freq: D, Name: my series, dtype: float64"
       ]
      }
     ],
     "prompt_number": 34
    },
    {
     "cell_type": "code",
     "collapsed": false,
     "input": [
      "a.index"
     ],
     "language": "python",
     "metadata": {},
     "outputs": [
      {
       "metadata": {},
       "output_type": "pyout",
       "prompt_number": 35,
       "text": [
        "<class 'pandas.tseries.index.DatetimeIndex'>\n",
        "[2014-01-01, ..., 2014-01-04]\n",
        "Length: 4, Freq: D, Timezone: None"
       ]
      }
     ],
     "prompt_number": 35
    },
    {
     "cell_type": "code",
     "collapsed": false,
     "input": [
      "### but you can convert it to an numpy array of python datetime objects if you want\n",
      "py_datetimes = a.index.to_pydatetime()"
     ],
     "language": "python",
     "metadata": {},
     "outputs": [],
     "prompt_number": 36
    },
    {
     "cell_type": "markdown",
     "metadata": {},
     "source": [
      "And a number of useful methods for manipulation of time series is exposed"
     ]
    },
    {
     "cell_type": "code",
     "collapsed": false,
     "input": [
      "### resample daily time-series to 5 minutes 'period', using forward filling method\n",
      "a.resample('5min',fill_method='ffill')"
     ],
     "language": "python",
     "metadata": {},
     "outputs": [
      {
       "metadata": {},
       "output_type": "pyout",
       "prompt_number": 37,
       "text": [
        "2014-01-01 00:00:00   -0.227054\n",
        "2014-01-01 00:05:00   -0.227054\n",
        "2014-01-01 00:10:00   -0.227054\n",
        "2014-01-01 00:15:00   -0.227054\n",
        "2014-01-01 00:20:00   -0.227054\n",
        "2014-01-01 00:25:00   -0.227054\n",
        "2014-01-01 00:30:00   -0.227054\n",
        "2014-01-01 00:35:00   -0.227054\n",
        "2014-01-01 00:40:00   -0.227054\n",
        "2014-01-01 00:45:00   -0.227054\n",
        "2014-01-01 00:50:00   -0.227054\n",
        "2014-01-01 00:55:00   -0.227054\n",
        "2014-01-01 01:00:00   -0.227054\n",
        "2014-01-01 01:05:00   -0.227054\n",
        "2014-01-01 01:10:00   -0.227054\n",
        "...\n",
        "2014-01-03 22:50:00    1.135842\n",
        "2014-01-03 22:55:00    1.135842\n",
        "2014-01-03 23:00:00    1.135842\n",
        "2014-01-03 23:05:00    1.135842\n",
        "2014-01-03 23:10:00    1.135842\n",
        "2014-01-03 23:15:00    1.135842\n",
        "2014-01-03 23:20:00    1.135842\n",
        "2014-01-03 23:25:00    1.135842\n",
        "2014-01-03 23:30:00    1.135842\n",
        "2014-01-03 23:35:00    1.135842\n",
        "2014-01-03 23:40:00    1.135842\n",
        "2014-01-03 23:45:00    1.135842\n",
        "2014-01-03 23:50:00    1.135842\n",
        "2014-01-03 23:55:00    1.135842\n",
        "2014-01-04 00:00:00   -1.417380\n",
        "Freq: 5T, Name: my series, Length: 865"
       ]
      }
     ],
     "prompt_number": 37
    },
    {
     "cell_type": "code",
     "collapsed": false,
     "input": [
      "a"
     ],
     "language": "python",
     "metadata": {},
     "outputs": [
      {
       "metadata": {},
       "output_type": "pyout",
       "prompt_number": 38,
       "text": [
        "2014-01-01   -0.227054\n",
        "2014-01-02    0.904130\n",
        "2014-01-03    1.135842\n",
        "2014-01-04   -1.417380\n",
        "Freq: D, Name: my series, dtype: float64"
       ]
      }
     ],
     "prompt_number": 38
    },
    {
     "cell_type": "code",
     "collapsed": false,
     "input": [
      "### the ```shift``` method makes it easy e.g. to compare series with lead / lags \n",
      "a.shift(periods=-1)"
     ],
     "language": "python",
     "metadata": {},
     "outputs": [
      {
       "metadata": {},
       "output_type": "pyout",
       "prompt_number": 39,
       "text": [
        "2014-01-01    0.904130\n",
        "2014-01-02    1.135842\n",
        "2014-01-03   -1.417380\n",
        "2014-01-04         NaN\n",
        "Freq: D, Name: my series, dtype: float64"
       ]
      }
     ],
     "prompt_number": 39
    },
    {
     "cell_type": "code",
     "collapsed": false,
     "input": [
      "a"
     ],
     "language": "python",
     "metadata": {},
     "outputs": [
      {
       "metadata": {},
       "output_type": "pyout",
       "prompt_number": 40,
       "text": [
        "2014-01-01   -0.227054\n",
        "2014-01-02    0.904130\n",
        "2014-01-03    1.135842\n",
        "2014-01-04   -1.417380\n",
        "Freq: D, Name: my series, dtype: float64"
       ]
      }
     ],
     "prompt_number": 40
    },
    {
     "cell_type": "code",
     "collapsed": false,
     "input": [
      "### and the ```truncate`` method allows easy selection of time-slices\n",
      "a.truncate(after='2014-1-2')"
     ],
     "language": "python",
     "metadata": {},
     "outputs": [
      {
       "metadata": {},
       "output_type": "pyout",
       "prompt_number": 41,
       "text": [
        "2014-01-01   -0.227054\n",
        "2014-01-02    0.904130\n",
        "Freq: D, Name: my series, dtype: float64"
       ]
      }
     ],
     "prompt_number": 41
    },
    {
     "cell_type": "heading",
     "level": 3,
     "metadata": {},
     "source": [
      "DataFrames"
     ]
    },
    {
     "cell_type": "markdown",
     "metadata": {},
     "source": [
      "**DataFrames** are IMHO one of the most powerful data structures in the Python / data analysis world. \n",
      "\n",
      "They can be viewed as a *collection* of named Series. They feature two **indexes**, respectively for the rows and the columns, and can contain heteregoneous data types (although it must be consistent *within* each column). \n",
      "Note that a DataFrame index, either along the rows or the columns (or both !) can contain more than one level, they are called **hierarchical indexes** and allows the representation of complex data organisation. \n",
      "\n",
      "If the index along the rows of a DataFrame is of **datetime** type, all the methods exposed for the Series (re-sampling, shifting, truncating, etc) are available for the DataFrame."
     ]
    },
    {
     "cell_type": "heading",
     "level": 4,
     "metadata": {},
     "source": [
      "DataFrame constructions"
     ]
    },
    {
     "cell_type": "code",
     "collapsed": false,
     "input": [
      "import string # part of the standard library\n",
      "idx = list(string.lowercase[:10])\n",
      "print(idx)"
     ],
     "language": "python",
     "metadata": {},
     "outputs": [
      {
       "output_type": "stream",
       "stream": "stdout",
       "text": [
        "['a', 'b', 'c', 'd', 'e', 'f', 'g', 'h', 'i', 'j']\n"
       ]
      }
     ],
     "prompt_number": 42
    },
    {
     "cell_type": "code",
     "collapsed": false,
     "input": [
      "df = pd.DataFrame(np.arange(100).reshape(10,10),\\\n",
      "                  columns=idx,index=np.arange(1,11))"
     ],
     "language": "python",
     "metadata": {},
     "outputs": [],
     "prompt_number": 43
    },
    {
     "cell_type": "code",
     "collapsed": false,
     "input": [
      "df"
     ],
     "language": "python",
     "metadata": {},
     "outputs": [
      {
       "html": [
        "<div style=\"max-height:1000px;max-width:1500px;overflow:auto;\">\n",
        "<table border=\"1\" class=\"dataframe\">\n",
        "  <thead>\n",
        "    <tr style=\"text-align: right;\">\n",
        "      <th></th>\n",
        "      <th>a</th>\n",
        "      <th>b</th>\n",
        "      <th>c</th>\n",
        "      <th>d</th>\n",
        "      <th>e</th>\n",
        "      <th>f</th>\n",
        "      <th>g</th>\n",
        "      <th>h</th>\n",
        "      <th>i</th>\n",
        "      <th>j</th>\n",
        "    </tr>\n",
        "  </thead>\n",
        "  <tbody>\n",
        "    <tr>\n",
        "      <th>1 </th>\n",
        "      <td>  0</td>\n",
        "      <td>  1</td>\n",
        "      <td>  2</td>\n",
        "      <td>  3</td>\n",
        "      <td>  4</td>\n",
        "      <td>  5</td>\n",
        "      <td>  6</td>\n",
        "      <td>  7</td>\n",
        "      <td>  8</td>\n",
        "      <td>  9</td>\n",
        "    </tr>\n",
        "    <tr>\n",
        "      <th>2 </th>\n",
        "      <td> 10</td>\n",
        "      <td> 11</td>\n",
        "      <td> 12</td>\n",
        "      <td> 13</td>\n",
        "      <td> 14</td>\n",
        "      <td> 15</td>\n",
        "      <td> 16</td>\n",
        "      <td> 17</td>\n",
        "      <td> 18</td>\n",
        "      <td> 19</td>\n",
        "    </tr>\n",
        "    <tr>\n",
        "      <th>3 </th>\n",
        "      <td> 20</td>\n",
        "      <td> 21</td>\n",
        "      <td> 22</td>\n",
        "      <td> 23</td>\n",
        "      <td> 24</td>\n",
        "      <td> 25</td>\n",
        "      <td> 26</td>\n",
        "      <td> 27</td>\n",
        "      <td> 28</td>\n",
        "      <td> 29</td>\n",
        "    </tr>\n",
        "    <tr>\n",
        "      <th>4 </th>\n",
        "      <td> 30</td>\n",
        "      <td> 31</td>\n",
        "      <td> 32</td>\n",
        "      <td> 33</td>\n",
        "      <td> 34</td>\n",
        "      <td> 35</td>\n",
        "      <td> 36</td>\n",
        "      <td> 37</td>\n",
        "      <td> 38</td>\n",
        "      <td> 39</td>\n",
        "    </tr>\n",
        "    <tr>\n",
        "      <th>5 </th>\n",
        "      <td> 40</td>\n",
        "      <td> 41</td>\n",
        "      <td> 42</td>\n",
        "      <td> 43</td>\n",
        "      <td> 44</td>\n",
        "      <td> 45</td>\n",
        "      <td> 46</td>\n",
        "      <td> 47</td>\n",
        "      <td> 48</td>\n",
        "      <td> 49</td>\n",
        "    </tr>\n",
        "    <tr>\n",
        "      <th>6 </th>\n",
        "      <td> 50</td>\n",
        "      <td> 51</td>\n",
        "      <td> 52</td>\n",
        "      <td> 53</td>\n",
        "      <td> 54</td>\n",
        "      <td> 55</td>\n",
        "      <td> 56</td>\n",
        "      <td> 57</td>\n",
        "      <td> 58</td>\n",
        "      <td> 59</td>\n",
        "    </tr>\n",
        "    <tr>\n",
        "      <th>7 </th>\n",
        "      <td> 60</td>\n",
        "      <td> 61</td>\n",
        "      <td> 62</td>\n",
        "      <td> 63</td>\n",
        "      <td> 64</td>\n",
        "      <td> 65</td>\n",
        "      <td> 66</td>\n",
        "      <td> 67</td>\n",
        "      <td> 68</td>\n",
        "      <td> 69</td>\n",
        "    </tr>\n",
        "    <tr>\n",
        "      <th>8 </th>\n",
        "      <td> 70</td>\n",
        "      <td> 71</td>\n",
        "      <td> 72</td>\n",
        "      <td> 73</td>\n",
        "      <td> 74</td>\n",
        "      <td> 75</td>\n",
        "      <td> 76</td>\n",
        "      <td> 77</td>\n",
        "      <td> 78</td>\n",
        "      <td> 79</td>\n",
        "    </tr>\n",
        "    <tr>\n",
        "      <th>9 </th>\n",
        "      <td> 80</td>\n",
        "      <td> 81</td>\n",
        "      <td> 82</td>\n",
        "      <td> 83</td>\n",
        "      <td> 84</td>\n",
        "      <td> 85</td>\n",
        "      <td> 86</td>\n",
        "      <td> 87</td>\n",
        "      <td> 88</td>\n",
        "      <td> 89</td>\n",
        "    </tr>\n",
        "    <tr>\n",
        "      <th>10</th>\n",
        "      <td> 90</td>\n",
        "      <td> 91</td>\n",
        "      <td> 92</td>\n",
        "      <td> 93</td>\n",
        "      <td> 94</td>\n",
        "      <td> 95</td>\n",
        "      <td> 96</td>\n",
        "      <td> 97</td>\n",
        "      <td> 98</td>\n",
        "      <td> 99</td>\n",
        "    </tr>\n",
        "  </tbody>\n",
        "</table>\n",
        "</div>"
       ],
       "metadata": {},
       "output_type": "pyout",
       "prompt_number": 44,
       "text": [
        "     a   b   c   d   e   f   g   h   i   j\n",
        "1    0   1   2   3   4   5   6   7   8   9\n",
        "2   10  11  12  13  14  15  16  17  18  19\n",
        "3   20  21  22  23  24  25  26  27  28  29\n",
        "4   30  31  32  33  34  35  36  37  38  39\n",
        "5   40  41  42  43  44  45  46  47  48  49\n",
        "6   50  51  52  53  54  55  56  57  58  59\n",
        "7   60  61  62  63  64  65  66  67  68  69\n",
        "8   70  71  72  73  74  75  76  77  78  79\n",
        "9   80  81  82  83  84  85  86  87  88  89\n",
        "10  90  91  92  93  94  95  96  97  98  99"
       ]
      }
     ],
     "prompt_number": 44
    },
    {
     "cell_type": "code",
     "collapsed": false,
     "input": [
      "### here I am creating a DataFrame from a dictionnary\n",
      "\n",
      "df = pd.DataFrame({'A' : np.random.random(5),\\\n",
      "                   'B' : np.random.random(5),\\\n",
      "                   'C': np.random.random(5)}, index=np.arange(1,6))\n",
      "print df"
     ],
     "language": "python",
     "metadata": {},
     "outputs": [
      {
       "output_type": "stream",
       "stream": "stdout",
       "text": [
        "          A         B         C\n",
        "1  0.716446  0.471572  0.852562\n",
        "2  0.707414  0.165107  0.019657\n",
        "3  0.437102  0.854516  0.500210\n",
        "4  0.840034  0.126494  0.595981\n",
        "5  0.391240  0.545866  0.873521\n"
       ]
      }
     ],
     "prompt_number": 45
    },
    {
     "cell_type": "code",
     "collapsed": false,
     "input": [
      "df"
     ],
     "language": "python",
     "metadata": {},
     "outputs": [
      {
       "html": [
        "<div style=\"max-height:1000px;max-width:1500px;overflow:auto;\">\n",
        "<table border=\"1\" class=\"dataframe\">\n",
        "  <thead>\n",
        "    <tr style=\"text-align: right;\">\n",
        "      <th></th>\n",
        "      <th>A</th>\n",
        "      <th>B</th>\n",
        "      <th>C</th>\n",
        "    </tr>\n",
        "  </thead>\n",
        "  <tbody>\n",
        "    <tr>\n",
        "      <th>1</th>\n",
        "      <td> 0.716446</td>\n",
        "      <td> 0.471572</td>\n",
        "      <td> 0.852562</td>\n",
        "    </tr>\n",
        "    <tr>\n",
        "      <th>2</th>\n",
        "      <td> 0.707414</td>\n",
        "      <td> 0.165107</td>\n",
        "      <td> 0.019657</td>\n",
        "    </tr>\n",
        "    <tr>\n",
        "      <th>3</th>\n",
        "      <td> 0.437102</td>\n",
        "      <td> 0.854516</td>\n",
        "      <td> 0.500210</td>\n",
        "    </tr>\n",
        "    <tr>\n",
        "      <th>4</th>\n",
        "      <td> 0.840034</td>\n",
        "      <td> 0.126494</td>\n",
        "      <td> 0.595981</td>\n",
        "    </tr>\n",
        "    <tr>\n",
        "      <th>5</th>\n",
        "      <td> 0.391240</td>\n",
        "      <td> 0.545866</td>\n",
        "      <td> 0.873521</td>\n",
        "    </tr>\n",
        "  </tbody>\n",
        "</table>\n",
        "</div>"
       ],
       "metadata": {},
       "output_type": "pyout",
       "prompt_number": 46,
       "text": [
        "          A         B         C\n",
        "1  0.716446  0.471572  0.852562\n",
        "2  0.707414  0.165107  0.019657\n",
        "3  0.437102  0.854516  0.500210\n",
        "4  0.840034  0.126494  0.595981\n",
        "5  0.391240  0.545866  0.873521"
       ]
      }
     ],
     "prompt_number": 46
    },
    {
     "cell_type": "heading",
     "level": 4,
     "metadata": {},
     "source": [
      "Indexing a DataFrame"
     ]
    },
    {
     "cell_type": "markdown",
     "metadata": {},
     "source": [
      "different ways, return either a Series or a DataFrame"
     ]
    },
    {
     "cell_type": "code",
     "collapsed": false,
     "input": [
      "type(df['A'])"
     ],
     "language": "python",
     "metadata": {},
     "outputs": [
      {
       "metadata": {},
       "output_type": "pyout",
       "prompt_number": 47,
       "text": [
        "pandas.core.series.Series"
       ]
      }
     ],
     "prompt_number": 47
    },
    {
     "cell_type": "code",
     "collapsed": false,
     "input": [
      "df[['A']]"
     ],
     "language": "python",
     "metadata": {},
     "outputs": [
      {
       "html": [
        "<div style=\"max-height:1000px;max-width:1500px;overflow:auto;\">\n",
        "<table border=\"1\" class=\"dataframe\">\n",
        "  <thead>\n",
        "    <tr style=\"text-align: right;\">\n",
        "      <th></th>\n",
        "      <th>A</th>\n",
        "    </tr>\n",
        "  </thead>\n",
        "  <tbody>\n",
        "    <tr>\n",
        "      <th>1</th>\n",
        "      <td> 0.716446</td>\n",
        "    </tr>\n",
        "    <tr>\n",
        "      <th>2</th>\n",
        "      <td> 0.707414</td>\n",
        "    </tr>\n",
        "    <tr>\n",
        "      <th>3</th>\n",
        "      <td> 0.437102</td>\n",
        "    </tr>\n",
        "    <tr>\n",
        "      <th>4</th>\n",
        "      <td> 0.840034</td>\n",
        "    </tr>\n",
        "    <tr>\n",
        "      <th>5</th>\n",
        "      <td> 0.391240</td>\n",
        "    </tr>\n",
        "  </tbody>\n",
        "</table>\n",
        "</div>"
       ],
       "metadata": {},
       "output_type": "pyout",
       "prompt_number": 48,
       "text": [
        "          A\n",
        "1  0.716446\n",
        "2  0.707414\n",
        "3  0.437102\n",
        "4  0.840034\n",
        "5  0.391240"
       ]
      }
     ],
     "prompt_number": 48
    },
    {
     "cell_type": "code",
     "collapsed": false,
     "input": [
      "type(df['A']) "
     ],
     "language": "python",
     "metadata": {},
     "outputs": [
      {
       "metadata": {},
       "output_type": "pyout",
       "prompt_number": 49,
       "text": [
        "pandas.core.series.Series"
       ]
      }
     ],
     "prompt_number": 49
    },
    {
     "cell_type": "code",
     "collapsed": false,
     "input": [
      "type(df[['A']])"
     ],
     "language": "python",
     "metadata": {},
     "outputs": [
      {
       "metadata": {},
       "output_type": "pyout",
       "prompt_number": 50,
       "text": [
        "pandas.core.frame.DataFrame"
       ]
      }
     ],
     "prompt_number": 50
    },
    {
     "cell_type": "markdown",
     "metadata": {},
     "source": [
      "To access a particular *row* instead of a column, you use the *ix* method"
     ]
    },
    {
     "cell_type": "code",
     "collapsed": false,
     "input": [
      "df.ix[3]"
     ],
     "language": "python",
     "metadata": {},
     "outputs": [
      {
       "metadata": {},
       "output_type": "pyout",
       "prompt_number": 51,
       "text": [
        "A    0.437102\n",
        "B    0.854516\n",
        "C    0.500210\n",
        "Name: 3, dtype: float64"
       ]
      }
     ],
     "prompt_number": 51
    },
    {
     "cell_type": "code",
     "collapsed": false,
     "input": [
      "df"
     ],
     "language": "python",
     "metadata": {},
     "outputs": [
      {
       "html": [
        "<div style=\"max-height:1000px;max-width:1500px;overflow:auto;\">\n",
        "<table border=\"1\" class=\"dataframe\">\n",
        "  <thead>\n",
        "    <tr style=\"text-align: right;\">\n",
        "      <th></th>\n",
        "      <th>A</th>\n",
        "      <th>B</th>\n",
        "      <th>C</th>\n",
        "    </tr>\n",
        "  </thead>\n",
        "  <tbody>\n",
        "    <tr>\n",
        "      <th>1</th>\n",
        "      <td> 0.716446</td>\n",
        "      <td> 0.471572</td>\n",
        "      <td> 0.852562</td>\n",
        "    </tr>\n",
        "    <tr>\n",
        "      <th>2</th>\n",
        "      <td> 0.707414</td>\n",
        "      <td> 0.165107</td>\n",
        "      <td> 0.019657</td>\n",
        "    </tr>\n",
        "    <tr>\n",
        "      <th>3</th>\n",
        "      <td> 0.437102</td>\n",
        "      <td> 0.854516</td>\n",
        "      <td> 0.500210</td>\n",
        "    </tr>\n",
        "    <tr>\n",
        "      <th>4</th>\n",
        "      <td> 0.840034</td>\n",
        "      <td> 0.126494</td>\n",
        "      <td> 0.595981</td>\n",
        "    </tr>\n",
        "    <tr>\n",
        "      <th>5</th>\n",
        "      <td> 0.391240</td>\n",
        "      <td> 0.545866</td>\n",
        "      <td> 0.873521</td>\n",
        "    </tr>\n",
        "  </tbody>\n",
        "</table>\n",
        "</div>"
       ],
       "metadata": {},
       "output_type": "pyout",
       "prompt_number": 52,
       "text": [
        "          A         B         C\n",
        "1  0.716446  0.471572  0.852562\n",
        "2  0.707414  0.165107  0.019657\n",
        "3  0.437102  0.854516  0.500210\n",
        "4  0.840034  0.126494  0.595981\n",
        "5  0.391240  0.545866  0.873521"
       ]
      }
     ],
     "prompt_number": 52
    },
    {
     "cell_type": "markdown",
     "metadata": {},
     "source": [
      "access values per **positional indices** only"
     ]
    },
    {
     "cell_type": "code",
     "collapsed": false,
     "input": [
      "df.iloc[2,0:2]"
     ],
     "language": "python",
     "metadata": {},
     "outputs": [
      {
       "metadata": {},
       "output_type": "pyout",
       "prompt_number": 53,
       "text": [
        "A    0.437102\n",
        "B    0.854516\n",
        "Name: 3, dtype: float64"
       ]
      }
     ],
     "prompt_number": 53
    },
    {
     "cell_type": "code",
     "collapsed": false,
     "input": [
      "type(_)"
     ],
     "language": "python",
     "metadata": {},
     "outputs": [
      {
       "metadata": {},
       "output_type": "pyout",
       "prompt_number": 54,
       "text": [
        "pandas.core.series.Series"
       ]
      }
     ],
     "prompt_number": 54
    },
    {
     "cell_type": "markdown",
     "metadata": {},
     "source": [
      "And you can combine of course row (with ix) and column indexing, using the same convention for slices as we saw for the Series "
     ]
    },
    {
     "cell_type": "code",
     "collapsed": false,
     "input": [
      "df.ix[3]['A':'B']"
     ],
     "language": "python",
     "metadata": {},
     "outputs": [
      {
       "metadata": {},
       "output_type": "pyout",
       "prompt_number": 55,
       "text": [
        "A    0.437102\n",
        "B    0.854516\n",
        "Name: 3, dtype: float64"
       ]
      }
     ],
     "prompt_number": 55
    },
    {
     "cell_type": "code",
     "collapsed": false,
     "input": [
      "df.ix[3][['A','C']]"
     ],
     "language": "python",
     "metadata": {},
     "outputs": [
      {
       "metadata": {},
       "output_type": "pyout",
       "prompt_number": 56,
       "text": [
        "A    0.437102\n",
        "C    0.500210\n",
        "Name: 3, dtype: float64"
       ]
      }
     ],
     "prompt_number": 56
    },
    {
     "cell_type": "markdown",
     "metadata": {},
     "source": [
      "you can also use the `loc` method, giving it both row **AND** columns indexes \n",
      "(the indexing is based on the *label*, **NOT** on the *position*)"
     ]
    },
    {
     "cell_type": "code",
     "collapsed": false,
     "input": [
      "df"
     ],
     "language": "python",
     "metadata": {},
     "outputs": [
      {
       "html": [
        "<div style=\"max-height:1000px;max-width:1500px;overflow:auto;\">\n",
        "<table border=\"1\" class=\"dataframe\">\n",
        "  <thead>\n",
        "    <tr style=\"text-align: right;\">\n",
        "      <th></th>\n",
        "      <th>A</th>\n",
        "      <th>B</th>\n",
        "      <th>C</th>\n",
        "    </tr>\n",
        "  </thead>\n",
        "  <tbody>\n",
        "    <tr>\n",
        "      <th>1</th>\n",
        "      <td> 0.716446</td>\n",
        "      <td> 0.471572</td>\n",
        "      <td> 0.852562</td>\n",
        "    </tr>\n",
        "    <tr>\n",
        "      <th>2</th>\n",
        "      <td> 0.707414</td>\n",
        "      <td> 0.165107</td>\n",
        "      <td> 0.019657</td>\n",
        "    </tr>\n",
        "    <tr>\n",
        "      <th>3</th>\n",
        "      <td> 0.437102</td>\n",
        "      <td> 0.854516</td>\n",
        "      <td> 0.500210</td>\n",
        "    </tr>\n",
        "    <tr>\n",
        "      <th>4</th>\n",
        "      <td> 0.840034</td>\n",
        "      <td> 0.126494</td>\n",
        "      <td> 0.595981</td>\n",
        "    </tr>\n",
        "    <tr>\n",
        "      <th>5</th>\n",
        "      <td> 0.391240</td>\n",
        "      <td> 0.545866</td>\n",
        "      <td> 0.873521</td>\n",
        "    </tr>\n",
        "  </tbody>\n",
        "</table>\n",
        "</div>"
       ],
       "metadata": {},
       "output_type": "pyout",
       "prompt_number": 57,
       "text": [
        "          A         B         C\n",
        "1  0.716446  0.471572  0.852562\n",
        "2  0.707414  0.165107  0.019657\n",
        "3  0.437102  0.854516  0.500210\n",
        "4  0.840034  0.126494  0.595981\n",
        "5  0.391240  0.545866  0.873521"
       ]
      }
     ],
     "prompt_number": 57
    },
    {
     "cell_type": "code",
     "collapsed": false,
     "input": [
      "df.loc[[3,5],['A','B']]"
     ],
     "language": "python",
     "metadata": {},
     "outputs": [
      {
       "html": [
        "<div style=\"max-height:1000px;max-width:1500px;overflow:auto;\">\n",
        "<table border=\"1\" class=\"dataframe\">\n",
        "  <thead>\n",
        "    <tr style=\"text-align: right;\">\n",
        "      <th></th>\n",
        "      <th>A</th>\n",
        "      <th>B</th>\n",
        "    </tr>\n",
        "  </thead>\n",
        "  <tbody>\n",
        "    <tr>\n",
        "      <th>3</th>\n",
        "      <td> 0.437102</td>\n",
        "      <td> 0.854516</td>\n",
        "    </tr>\n",
        "    <tr>\n",
        "      <th>5</th>\n",
        "      <td> 0.391240</td>\n",
        "      <td> 0.545866</td>\n",
        "    </tr>\n",
        "  </tbody>\n",
        "</table>\n",
        "</div>"
       ],
       "metadata": {},
       "output_type": "pyout",
       "prompt_number": 71,
       "text": [
        "          A         B\n",
        "3  0.437102  0.854516\n",
        "5  0.391240  0.545866"
       ]
      }
     ],
     "prompt_number": 71
    },
    {
     "cell_type": "markdown",
     "metadata": {},
     "source": [
      "conditional indexing or subsetting of a DataFrame "
     ]
    },
    {
     "cell_type": "code",
     "collapsed": false,
     "input": [
      "df"
     ],
     "language": "python",
     "metadata": {},
     "outputs": [
      {
       "html": [
        "<div style=\"max-height:1000px;max-width:1500px;overflow:auto;\">\n",
        "<table border=\"1\" class=\"dataframe\">\n",
        "  <thead>\n",
        "    <tr style=\"text-align: right;\">\n",
        "      <th></th>\n",
        "      <th>A</th>\n",
        "      <th>B</th>\n",
        "      <th>C</th>\n",
        "    </tr>\n",
        "  </thead>\n",
        "  <tbody>\n",
        "    <tr>\n",
        "      <th>1</th>\n",
        "      <td> 0.716446</td>\n",
        "      <td> 0.471572</td>\n",
        "      <td> 0.852562</td>\n",
        "    </tr>\n",
        "    <tr>\n",
        "      <th>2</th>\n",
        "      <td> 0.707414</td>\n",
        "      <td> 0.165107</td>\n",
        "      <td> 0.019657</td>\n",
        "    </tr>\n",
        "    <tr>\n",
        "      <th>3</th>\n",
        "      <td> 0.437102</td>\n",
        "      <td> 0.854516</td>\n",
        "      <td> 0.500210</td>\n",
        "    </tr>\n",
        "    <tr>\n",
        "      <th>4</th>\n",
        "      <td> 0.840034</td>\n",
        "      <td> 0.126494</td>\n",
        "      <td> 0.595981</td>\n",
        "    </tr>\n",
        "    <tr>\n",
        "      <th>5</th>\n",
        "      <td> 0.391240</td>\n",
        "      <td> 0.545866</td>\n",
        "      <td> 0.873521</td>\n",
        "    </tr>\n",
        "  </tbody>\n",
        "</table>\n",
        "</div>"
       ],
       "metadata": {},
       "output_type": "pyout",
       "prompt_number": 59,
       "text": [
        "          A         B         C\n",
        "1  0.716446  0.471572  0.852562\n",
        "2  0.707414  0.165107  0.019657\n",
        "3  0.437102  0.854516  0.500210\n",
        "4  0.840034  0.126494  0.595981\n",
        "5  0.391240  0.545866  0.873521"
       ]
      }
     ],
     "prompt_number": 59
    },
    {
     "cell_type": "code",
     "collapsed": false,
     "input": [
      "subset = df[df['A'] <= 0.7]"
     ],
     "language": "python",
     "metadata": {},
     "outputs": [],
     "prompt_number": 60
    },
    {
     "cell_type": "code",
     "collapsed": false,
     "input": [
      "subset"
     ],
     "language": "python",
     "metadata": {},
     "outputs": [
      {
       "html": [
        "<div style=\"max-height:1000px;max-width:1500px;overflow:auto;\">\n",
        "<table border=\"1\" class=\"dataframe\">\n",
        "  <thead>\n",
        "    <tr style=\"text-align: right;\">\n",
        "      <th></th>\n",
        "      <th>A</th>\n",
        "      <th>B</th>\n",
        "      <th>C</th>\n",
        "    </tr>\n",
        "  </thead>\n",
        "  <tbody>\n",
        "    <tr>\n",
        "      <th>3</th>\n",
        "      <td> 0.437102</td>\n",
        "      <td> 0.854516</td>\n",
        "      <td> 0.500210</td>\n",
        "    </tr>\n",
        "    <tr>\n",
        "      <th>5</th>\n",
        "      <td> 0.391240</td>\n",
        "      <td> 0.545866</td>\n",
        "      <td> 0.873521</td>\n",
        "    </tr>\n",
        "  </tbody>\n",
        "</table>\n",
        "</div>"
       ],
       "metadata": {},
       "output_type": "pyout",
       "prompt_number": 61,
       "text": [
        "          A         B         C\n",
        "3  0.437102  0.854516  0.500210\n",
        "5  0.391240  0.545866  0.873521"
       ]
      }
     ],
     "prompt_number": 61
    },
    {
     "cell_type": "heading",
     "level": 4,
     "metadata": {},
     "source": [
      "queries"
     ]
    },
    {
     "cell_type": "markdown",
     "metadata": {},
     "source": [
      "as from Pandas version 0.14, you can build complex *database-like* queries on DataFrames"
     ]
    },
    {
     "cell_type": "code",
     "collapsed": false,
     "input": [
      "df"
     ],
     "language": "python",
     "metadata": {},
     "outputs": [
      {
       "html": [
        "<div style=\"max-height:1000px;max-width:1500px;overflow:auto;\">\n",
        "<table border=\"1\" class=\"dataframe\">\n",
        "  <thead>\n",
        "    <tr style=\"text-align: right;\">\n",
        "      <th></th>\n",
        "      <th>A</th>\n",
        "      <th>B</th>\n",
        "      <th>C</th>\n",
        "    </tr>\n",
        "  </thead>\n",
        "  <tbody>\n",
        "    <tr>\n",
        "      <th>1</th>\n",
        "      <td> 0.716446</td>\n",
        "      <td> 0.471572</td>\n",
        "      <td> 0.852562</td>\n",
        "    </tr>\n",
        "    <tr>\n",
        "      <th>2</th>\n",
        "      <td> 0.707414</td>\n",
        "      <td> 0.165107</td>\n",
        "      <td> 0.019657</td>\n",
        "    </tr>\n",
        "    <tr>\n",
        "      <th>3</th>\n",
        "      <td> 0.437102</td>\n",
        "      <td> 0.854516</td>\n",
        "      <td> 0.500210</td>\n",
        "    </tr>\n",
        "    <tr>\n",
        "      <th>4</th>\n",
        "      <td> 0.840034</td>\n",
        "      <td> 0.126494</td>\n",
        "      <td> 0.595981</td>\n",
        "    </tr>\n",
        "    <tr>\n",
        "      <th>5</th>\n",
        "      <td> 0.391240</td>\n",
        "      <td> 0.545866</td>\n",
        "      <td> 0.873521</td>\n",
        "    </tr>\n",
        "  </tbody>\n",
        "</table>\n",
        "</div>"
       ],
       "metadata": {},
       "output_type": "pyout",
       "prompt_number": 62,
       "text": [
        "          A         B         C\n",
        "1  0.716446  0.471572  0.852562\n",
        "2  0.707414  0.165107  0.019657\n",
        "3  0.437102  0.854516  0.500210\n",
        "4  0.840034  0.126494  0.595981\n",
        "5  0.391240  0.545866  0.873521"
       ]
      }
     ],
     "prompt_number": 62
    },
    {
     "cell_type": "code",
     "collapsed": false,
     "input": [
      "df.query('A > B')"
     ],
     "language": "python",
     "metadata": {},
     "outputs": [
      {
       "html": [
        "<div style=\"max-height:1000px;max-width:1500px;overflow:auto;\">\n",
        "<table border=\"1\" class=\"dataframe\">\n",
        "  <thead>\n",
        "    <tr style=\"text-align: right;\">\n",
        "      <th></th>\n",
        "      <th>A</th>\n",
        "      <th>B</th>\n",
        "      <th>C</th>\n",
        "    </tr>\n",
        "  </thead>\n",
        "  <tbody>\n",
        "    <tr>\n",
        "      <th>1</th>\n",
        "      <td> 0.716446</td>\n",
        "      <td> 0.471572</td>\n",
        "      <td> 0.852562</td>\n",
        "    </tr>\n",
        "    <tr>\n",
        "      <th>2</th>\n",
        "      <td> 0.707414</td>\n",
        "      <td> 0.165107</td>\n",
        "      <td> 0.019657</td>\n",
        "    </tr>\n",
        "    <tr>\n",
        "      <th>4</th>\n",
        "      <td> 0.840034</td>\n",
        "      <td> 0.126494</td>\n",
        "      <td> 0.595981</td>\n",
        "    </tr>\n",
        "  </tbody>\n",
        "</table>\n",
        "</div>"
       ],
       "metadata": {},
       "output_type": "pyout",
       "prompt_number": 63,
       "text": [
        "          A         B         C\n",
        "1  0.716446  0.471572  0.852562\n",
        "2  0.707414  0.165107  0.019657\n",
        "4  0.840034  0.126494  0.595981"
       ]
      }
     ],
     "prompt_number": 63
    },
    {
     "cell_type": "code",
     "collapsed": false,
     "input": [
      "df.query('(A > B) & (B > C)')"
     ],
     "language": "python",
     "metadata": {},
     "outputs": [
      {
       "html": [
        "<div style=\"max-height:1000px;max-width:1500px;overflow:auto;\">\n",
        "<table border=\"1\" class=\"dataframe\">\n",
        "  <thead>\n",
        "    <tr style=\"text-align: right;\">\n",
        "      <th></th>\n",
        "      <th>A</th>\n",
        "      <th>B</th>\n",
        "      <th>C</th>\n",
        "    </tr>\n",
        "  </thead>\n",
        "  <tbody>\n",
        "    <tr>\n",
        "      <th>2</th>\n",
        "      <td> 0.707414</td>\n",
        "      <td> 0.165107</td>\n",
        "      <td> 0.019657</td>\n",
        "    </tr>\n",
        "  </tbody>\n",
        "</table>\n",
        "</div>"
       ],
       "metadata": {},
       "output_type": "pyout",
       "prompt_number": 64,
       "text": [
        "          A         B         C\n",
        "2  0.707414  0.165107  0.019657"
       ]
      }
     ],
     "prompt_number": 64
    },
    {
     "cell_type": "heading",
     "level": 4,
     "metadata": {},
     "source": [
      "Extending a DataFrame"
     ]
    },
    {
     "cell_type": "markdown",
     "metadata": {},
     "source": [
      "Adding a column is easy "
     ]
    },
    {
     "cell_type": "code",
     "collapsed": false,
     "input": [
      "df"
     ],
     "language": "python",
     "metadata": {},
     "outputs": [
      {
       "html": [
        "<div style=\"max-height:1000px;max-width:1500px;overflow:auto;\">\n",
        "<table border=\"1\" class=\"dataframe\">\n",
        "  <thead>\n",
        "    <tr style=\"text-align: right;\">\n",
        "      <th></th>\n",
        "      <th>A</th>\n",
        "      <th>B</th>\n",
        "      <th>C</th>\n",
        "    </tr>\n",
        "  </thead>\n",
        "  <tbody>\n",
        "    <tr>\n",
        "      <th>1</th>\n",
        "      <td> 0.716446</td>\n",
        "      <td> 0.471572</td>\n",
        "      <td> 0.852562</td>\n",
        "    </tr>\n",
        "    <tr>\n",
        "      <th>2</th>\n",
        "      <td> 0.707414</td>\n",
        "      <td> 0.165107</td>\n",
        "      <td> 0.019657</td>\n",
        "    </tr>\n",
        "    <tr>\n",
        "      <th>3</th>\n",
        "      <td> 0.437102</td>\n",
        "      <td> 0.854516</td>\n",
        "      <td> 0.500210</td>\n",
        "    </tr>\n",
        "    <tr>\n",
        "      <th>4</th>\n",
        "      <td> 0.840034</td>\n",
        "      <td> 0.126494</td>\n",
        "      <td> 0.595981</td>\n",
        "    </tr>\n",
        "    <tr>\n",
        "      <th>5</th>\n",
        "      <td> 0.391240</td>\n",
        "      <td> 0.545866</td>\n",
        "      <td> 0.873521</td>\n",
        "    </tr>\n",
        "  </tbody>\n",
        "</table>\n",
        "</div>"
       ],
       "metadata": {},
       "output_type": "pyout",
       "prompt_number": 65,
       "text": [
        "          A         B         C\n",
        "1  0.716446  0.471572  0.852562\n",
        "2  0.707414  0.165107  0.019657\n",
        "3  0.437102  0.854516  0.500210\n",
        "4  0.840034  0.126494  0.595981\n",
        "5  0.391240  0.545866  0.873521"
       ]
      }
     ],
     "prompt_number": 65
    },
    {
     "cell_type": "code",
     "collapsed": false,
     "input": [
      "df['D'] = np.random.random(5)"
     ],
     "language": "python",
     "metadata": {},
     "outputs": [],
     "prompt_number": 66
    },
    {
     "cell_type": "code",
     "collapsed": false,
     "input": [
      "df"
     ],
     "language": "python",
     "metadata": {},
     "outputs": [
      {
       "html": [
        "<div style=\"max-height:1000px;max-width:1500px;overflow:auto;\">\n",
        "<table border=\"1\" class=\"dataframe\">\n",
        "  <thead>\n",
        "    <tr style=\"text-align: right;\">\n",
        "      <th></th>\n",
        "      <th>A</th>\n",
        "      <th>B</th>\n",
        "      <th>C</th>\n",
        "      <th>D</th>\n",
        "    </tr>\n",
        "  </thead>\n",
        "  <tbody>\n",
        "    <tr>\n",
        "      <th>1</th>\n",
        "      <td> 0.716446</td>\n",
        "      <td> 0.471572</td>\n",
        "      <td> 0.852562</td>\n",
        "      <td> 0.924574</td>\n",
        "    </tr>\n",
        "    <tr>\n",
        "      <th>2</th>\n",
        "      <td> 0.707414</td>\n",
        "      <td> 0.165107</td>\n",
        "      <td> 0.019657</td>\n",
        "      <td> 0.592678</td>\n",
        "    </tr>\n",
        "    <tr>\n",
        "      <th>3</th>\n",
        "      <td> 0.437102</td>\n",
        "      <td> 0.854516</td>\n",
        "      <td> 0.500210</td>\n",
        "      <td> 0.683429</td>\n",
        "    </tr>\n",
        "    <tr>\n",
        "      <th>4</th>\n",
        "      <td> 0.840034</td>\n",
        "      <td> 0.126494</td>\n",
        "      <td> 0.595981</td>\n",
        "      <td> 0.288203</td>\n",
        "    </tr>\n",
        "    <tr>\n",
        "      <th>5</th>\n",
        "      <td> 0.391240</td>\n",
        "      <td> 0.545866</td>\n",
        "      <td> 0.873521</td>\n",
        "      <td> 0.074705</td>\n",
        "    </tr>\n",
        "  </tbody>\n",
        "</table>\n",
        "</div>"
       ],
       "metadata": {},
       "output_type": "pyout",
       "prompt_number": 67,
       "text": [
        "          A         B         C         D\n",
        "1  0.716446  0.471572  0.852562  0.924574\n",
        "2  0.707414  0.165107  0.019657  0.592678\n",
        "3  0.437102  0.854516  0.500210  0.683429\n",
        "4  0.840034  0.126494  0.595981  0.288203\n",
        "5  0.391240  0.545866  0.873521  0.074705"
       ]
      }
     ],
     "prompt_number": 67
    },
    {
     "cell_type": "markdown",
     "metadata": {},
     "source": [
      "The following works because Pandas understands that a single value must be repeated over the row length"
     ]
    },
    {
     "cell_type": "code",
     "collapsed": false,
     "input": [
      "df['E'] = 5"
     ],
     "language": "python",
     "metadata": {},
     "outputs": [],
     "prompt_number": 68
    },
    {
     "cell_type": "code",
     "collapsed": false,
     "input": [
      "df"
     ],
     "language": "python",
     "metadata": {},
     "outputs": [
      {
       "html": [
        "<div style=\"max-height:1000px;max-width:1500px;overflow:auto;\">\n",
        "<table border=\"1\" class=\"dataframe\">\n",
        "  <thead>\n",
        "    <tr style=\"text-align: right;\">\n",
        "      <th></th>\n",
        "      <th>A</th>\n",
        "      <th>B</th>\n",
        "      <th>C</th>\n",
        "      <th>D</th>\n",
        "      <th>E</th>\n",
        "    </tr>\n",
        "  </thead>\n",
        "  <tbody>\n",
        "    <tr>\n",
        "      <th>1</th>\n",
        "      <td> 0.716446</td>\n",
        "      <td> 0.471572</td>\n",
        "      <td> 0.852562</td>\n",
        "      <td> 0.924574</td>\n",
        "      <td> 5</td>\n",
        "    </tr>\n",
        "    <tr>\n",
        "      <th>2</th>\n",
        "      <td> 0.707414</td>\n",
        "      <td> 0.165107</td>\n",
        "      <td> 0.019657</td>\n",
        "      <td> 0.592678</td>\n",
        "      <td> 5</td>\n",
        "    </tr>\n",
        "    <tr>\n",
        "      <th>3</th>\n",
        "      <td> 0.437102</td>\n",
        "      <td> 0.854516</td>\n",
        "      <td> 0.500210</td>\n",
        "      <td> 0.683429</td>\n",
        "      <td> 5</td>\n",
        "    </tr>\n",
        "    <tr>\n",
        "      <th>4</th>\n",
        "      <td> 0.840034</td>\n",
        "      <td> 0.126494</td>\n",
        "      <td> 0.595981</td>\n",
        "      <td> 0.288203</td>\n",
        "      <td> 5</td>\n",
        "    </tr>\n",
        "    <tr>\n",
        "      <th>5</th>\n",
        "      <td> 0.391240</td>\n",
        "      <td> 0.545866</td>\n",
        "      <td> 0.873521</td>\n",
        "      <td> 0.074705</td>\n",
        "      <td> 5</td>\n",
        "    </tr>\n",
        "  </tbody>\n",
        "</table>\n",
        "</div>"
       ],
       "metadata": {},
       "output_type": "pyout",
       "prompt_number": 69,
       "text": [
        "          A         B         C         D  E\n",
        "1  0.716446  0.471572  0.852562  0.924574  5\n",
        "2  0.707414  0.165107  0.019657  0.592678  5\n",
        "3  0.437102  0.854516  0.500210  0.683429  5\n",
        "4  0.840034  0.126494  0.595981  0.288203  5\n",
        "5  0.391240  0.545866  0.873521  0.074705  5"
       ]
      }
     ],
     "prompt_number": 69
    },
    {
     "cell_type": "markdown",
     "metadata": {},
     "source": [
      "The following doesn't work because there's no way to tell **where** to insert the missing value (align to 1st or last index ?)"
     ]
    },
    {
     "cell_type": "code",
     "collapsed": false,
     "input": [
      "df['F'] = np.random.random(4)"
     ],
     "language": "python",
     "metadata": {},
     "outputs": [
      {
       "ename": "ValueError",
       "evalue": "Length of values does not match length of index",
       "output_type": "pyerr",
       "traceback": [
        "\u001b[0;31m---------------------------------------------------------------------------\u001b[0m\n\u001b[0;31mValueError\u001b[0m                                Traceback (most recent call last)",
        "\u001b[0;32m<ipython-input-70-3ee1a35781af>\u001b[0m in \u001b[0;36m<module>\u001b[0;34m()\u001b[0m\n\u001b[0;32m----> 1\u001b[0;31m \u001b[0mdf\u001b[0m\u001b[0;34m[\u001b[0m\u001b[0;34m'F'\u001b[0m\u001b[0;34m]\u001b[0m \u001b[0;34m=\u001b[0m \u001b[0mnp\u001b[0m\u001b[0;34m.\u001b[0m\u001b[0mrandom\u001b[0m\u001b[0;34m.\u001b[0m\u001b[0mrandom\u001b[0m\u001b[0;34m(\u001b[0m\u001b[0;36m4\u001b[0m\u001b[0;34m)\u001b[0m\u001b[0;34m\u001b[0m\u001b[0m\n\u001b[0m",
        "\u001b[0;32m/Users/nicolasf/anaconda/lib/python2.7/site-packages/pandas/core/frame.pyc\u001b[0m in \u001b[0;36m__setitem__\u001b[0;34m(self, key, value)\u001b[0m\n\u001b[1;32m   2108\u001b[0m         \u001b[0;32melse\u001b[0m\u001b[0;34m:\u001b[0m\u001b[0;34m\u001b[0m\u001b[0m\n\u001b[1;32m   2109\u001b[0m             \u001b[0;31m# set column\u001b[0m\u001b[0;34m\u001b[0m\u001b[0;34m\u001b[0m\u001b[0m\n\u001b[0;32m-> 2110\u001b[0;31m             \u001b[0mself\u001b[0m\u001b[0;34m.\u001b[0m\u001b[0m_set_item\u001b[0m\u001b[0;34m(\u001b[0m\u001b[0mkey\u001b[0m\u001b[0;34m,\u001b[0m \u001b[0mvalue\u001b[0m\u001b[0;34m)\u001b[0m\u001b[0;34m\u001b[0m\u001b[0m\n\u001b[0m\u001b[1;32m   2111\u001b[0m \u001b[0;34m\u001b[0m\u001b[0m\n\u001b[1;32m   2112\u001b[0m     \u001b[0;32mdef\u001b[0m \u001b[0m_setitem_slice\u001b[0m\u001b[0;34m(\u001b[0m\u001b[0mself\u001b[0m\u001b[0;34m,\u001b[0m \u001b[0mkey\u001b[0m\u001b[0;34m,\u001b[0m \u001b[0mvalue\u001b[0m\u001b[0;34m)\u001b[0m\u001b[0;34m:\u001b[0m\u001b[0;34m\u001b[0m\u001b[0m\n",
        "\u001b[0;32m/Users/nicolasf/anaconda/lib/python2.7/site-packages/pandas/core/frame.pyc\u001b[0m in \u001b[0;36m_set_item\u001b[0;34m(self, key, value)\u001b[0m\n\u001b[1;32m   2185\u001b[0m \u001b[0;34m\u001b[0m\u001b[0m\n\u001b[1;32m   2186\u001b[0m         \u001b[0mself\u001b[0m\u001b[0;34m.\u001b[0m\u001b[0m_ensure_valid_index\u001b[0m\u001b[0;34m(\u001b[0m\u001b[0mvalue\u001b[0m\u001b[0;34m)\u001b[0m\u001b[0;34m\u001b[0m\u001b[0m\n\u001b[0;32m-> 2187\u001b[0;31m         \u001b[0mvalue\u001b[0m \u001b[0;34m=\u001b[0m \u001b[0mself\u001b[0m\u001b[0;34m.\u001b[0m\u001b[0m_sanitize_column\u001b[0m\u001b[0;34m(\u001b[0m\u001b[0mkey\u001b[0m\u001b[0;34m,\u001b[0m \u001b[0mvalue\u001b[0m\u001b[0;34m)\u001b[0m\u001b[0;34m\u001b[0m\u001b[0m\n\u001b[0m\u001b[1;32m   2188\u001b[0m         \u001b[0mNDFrame\u001b[0m\u001b[0;34m.\u001b[0m\u001b[0m_set_item\u001b[0m\u001b[0;34m(\u001b[0m\u001b[0mself\u001b[0m\u001b[0;34m,\u001b[0m \u001b[0mkey\u001b[0m\u001b[0;34m,\u001b[0m \u001b[0mvalue\u001b[0m\u001b[0;34m)\u001b[0m\u001b[0;34m\u001b[0m\u001b[0m\n\u001b[1;32m   2189\u001b[0m \u001b[0;34m\u001b[0m\u001b[0m\n",
        "\u001b[0;32m/Users/nicolasf/anaconda/lib/python2.7/site-packages/pandas/core/frame.pyc\u001b[0m in \u001b[0;36m_sanitize_column\u001b[0;34m(self, key, value)\u001b[0m\n\u001b[1;32m   2258\u001b[0m         \u001b[0;32melif\u001b[0m \u001b[0;34m(\u001b[0m\u001b[0misinstance\u001b[0m\u001b[0;34m(\u001b[0m\u001b[0mvalue\u001b[0m\u001b[0;34m,\u001b[0m \u001b[0mIndex\u001b[0m\u001b[0;34m)\u001b[0m \u001b[0;32mor\u001b[0m \u001b[0m_is_sequence\u001b[0m\u001b[0;34m(\u001b[0m\u001b[0mvalue\u001b[0m\u001b[0;34m)\u001b[0m\u001b[0;34m)\u001b[0m\u001b[0;34m:\u001b[0m\u001b[0;34m\u001b[0m\u001b[0m\n\u001b[1;32m   2259\u001b[0m             \u001b[0;32mfrom\u001b[0m \u001b[0mpandas\u001b[0m\u001b[0;34m.\u001b[0m\u001b[0mcore\u001b[0m\u001b[0;34m.\u001b[0m\u001b[0mseries\u001b[0m \u001b[0;32mimport\u001b[0m \u001b[0m_sanitize_index\u001b[0m\u001b[0;34m\u001b[0m\u001b[0m\n\u001b[0;32m-> 2260\u001b[0;31m             \u001b[0mvalue\u001b[0m \u001b[0;34m=\u001b[0m \u001b[0m_sanitize_index\u001b[0m\u001b[0;34m(\u001b[0m\u001b[0mvalue\u001b[0m\u001b[0;34m,\u001b[0m \u001b[0mself\u001b[0m\u001b[0;34m.\u001b[0m\u001b[0mindex\u001b[0m\u001b[0;34m,\u001b[0m \u001b[0mcopy\u001b[0m\u001b[0;34m=\u001b[0m\u001b[0mFalse\u001b[0m\u001b[0;34m)\u001b[0m\u001b[0;34m\u001b[0m\u001b[0m\n\u001b[0m\u001b[1;32m   2261\u001b[0m             \u001b[0;32mif\u001b[0m \u001b[0;32mnot\u001b[0m \u001b[0misinstance\u001b[0m\u001b[0;34m(\u001b[0m\u001b[0mvalue\u001b[0m\u001b[0;34m,\u001b[0m \u001b[0;34m(\u001b[0m\u001b[0mnp\u001b[0m\u001b[0;34m.\u001b[0m\u001b[0mndarray\u001b[0m\u001b[0;34m,\u001b[0m \u001b[0mIndex\u001b[0m\u001b[0;34m)\u001b[0m\u001b[0;34m)\u001b[0m\u001b[0;34m:\u001b[0m\u001b[0;34m\u001b[0m\u001b[0m\n\u001b[1;32m   2262\u001b[0m                 \u001b[0;32mif\u001b[0m \u001b[0misinstance\u001b[0m\u001b[0;34m(\u001b[0m\u001b[0mvalue\u001b[0m\u001b[0;34m,\u001b[0m \u001b[0mlist\u001b[0m\u001b[0;34m)\u001b[0m \u001b[0;32mand\u001b[0m \u001b[0mlen\u001b[0m\u001b[0;34m(\u001b[0m\u001b[0mvalue\u001b[0m\u001b[0;34m)\u001b[0m \u001b[0;34m>\u001b[0m \u001b[0;36m0\u001b[0m\u001b[0;34m:\u001b[0m\u001b[0;34m\u001b[0m\u001b[0m\n",
        "\u001b[0;32m/Users/nicolasf/anaconda/lib/python2.7/site-packages/pandas/core/series.pyc\u001b[0m in \u001b[0;36m_sanitize_index\u001b[0;34m(data, index, copy)\u001b[0m\n\u001b[1;32m   2542\u001b[0m \u001b[0;34m\u001b[0m\u001b[0m\n\u001b[1;32m   2543\u001b[0m     \u001b[0;32mif\u001b[0m \u001b[0mlen\u001b[0m\u001b[0;34m(\u001b[0m\u001b[0mdata\u001b[0m\u001b[0;34m)\u001b[0m \u001b[0;34m!=\u001b[0m \u001b[0mlen\u001b[0m\u001b[0;34m(\u001b[0m\u001b[0mindex\u001b[0m\u001b[0;34m)\u001b[0m\u001b[0;34m:\u001b[0m\u001b[0;34m\u001b[0m\u001b[0m\n\u001b[0;32m-> 2544\u001b[0;31m         raise ValueError('Length of values does not match length of '\n\u001b[0m\u001b[1;32m   2545\u001b[0m                          'index')\n\u001b[1;32m   2546\u001b[0m \u001b[0;34m\u001b[0m\u001b[0m\n",
        "\u001b[0;31mValueError\u001b[0m: Length of values does not match length of index"
       ]
      }
     ],
     "prompt_number": 70
    },
    {
     "cell_type": "markdown",
     "metadata": {},
     "source": [
      "Unless we make a series out of it, with a index matching at least partly the DataFrame (row) index"
     ]
    },
    {
     "cell_type": "code",
     "collapsed": false,
     "input": [
      "df['F'] = pd.Series(np.random.random(4), index=np.arange(1,5)) #"
     ],
     "language": "python",
     "metadata": {},
     "outputs": [],
     "prompt_number": 72
    },
    {
     "cell_type": "code",
     "collapsed": false,
     "input": [
      "df"
     ],
     "language": "python",
     "metadata": {},
     "outputs": [
      {
       "html": [
        "<div style=\"max-height:1000px;max-width:1500px;overflow:auto;\">\n",
        "<table border=\"1\" class=\"dataframe\">\n",
        "  <thead>\n",
        "    <tr style=\"text-align: right;\">\n",
        "      <th></th>\n",
        "      <th>A</th>\n",
        "      <th>B</th>\n",
        "      <th>C</th>\n",
        "      <th>D</th>\n",
        "      <th>E</th>\n",
        "      <th>F</th>\n",
        "    </tr>\n",
        "  </thead>\n",
        "  <tbody>\n",
        "    <tr>\n",
        "      <th>1</th>\n",
        "      <td> 0.716446</td>\n",
        "      <td> 0.471572</td>\n",
        "      <td> 0.852562</td>\n",
        "      <td> 0.924574</td>\n",
        "      <td> 5</td>\n",
        "      <td> 0.734442</td>\n",
        "    </tr>\n",
        "    <tr>\n",
        "      <th>2</th>\n",
        "      <td> 0.707414</td>\n",
        "      <td> 0.165107</td>\n",
        "      <td> 0.019657</td>\n",
        "      <td> 0.592678</td>\n",
        "      <td> 5</td>\n",
        "      <td> 0.852006</td>\n",
        "    </tr>\n",
        "    <tr>\n",
        "      <th>3</th>\n",
        "      <td> 0.437102</td>\n",
        "      <td> 0.854516</td>\n",
        "      <td> 0.500210</td>\n",
        "      <td> 0.683429</td>\n",
        "      <td> 5</td>\n",
        "      <td> 0.904796</td>\n",
        "    </tr>\n",
        "    <tr>\n",
        "      <th>4</th>\n",
        "      <td> 0.840034</td>\n",
        "      <td> 0.126494</td>\n",
        "      <td> 0.595981</td>\n",
        "      <td> 0.288203</td>\n",
        "      <td> 5</td>\n",
        "      <td> 0.047390</td>\n",
        "    </tr>\n",
        "    <tr>\n",
        "      <th>5</th>\n",
        "      <td> 0.391240</td>\n",
        "      <td> 0.545866</td>\n",
        "      <td> 0.873521</td>\n",
        "      <td> 0.074705</td>\n",
        "      <td> 5</td>\n",
        "      <td>      NaN</td>\n",
        "    </tr>\n",
        "  </tbody>\n",
        "</table>\n",
        "</div>"
       ],
       "metadata": {},
       "output_type": "pyout",
       "prompt_number": 73,
       "text": [
        "          A         B         C         D  E         F\n",
        "1  0.716446  0.471572  0.852562  0.924574  5  0.734442\n",
        "2  0.707414  0.165107  0.019657  0.592678  5  0.852006\n",
        "3  0.437102  0.854516  0.500210  0.683429  5  0.904796\n",
        "4  0.840034  0.126494  0.595981  0.288203  5  0.047390\n",
        "5  0.391240  0.545866  0.873521  0.074705  5       NaN"
       ]
      }
     ],
     "prompt_number": 73
    },
    {
     "cell_type": "heading",
     "level": 4,
     "metadata": {},
     "source": [
      "Useful DataFrames methods"
     ]
    },
    {
     "cell_type": "heading",
     "level": 5,
     "metadata": {},
     "source": [
      "applying a numpy function"
     ]
    },
    {
     "cell_type": "code",
     "collapsed": false,
     "input": [
      "df.apply(np.sqrt) # or np.sqrt(df)"
     ],
     "language": "python",
     "metadata": {},
     "outputs": [
      {
       "html": [
        "<div style=\"max-height:1000px;max-width:1500px;overflow:auto;\">\n",
        "<table border=\"1\" class=\"dataframe\">\n",
        "  <thead>\n",
        "    <tr style=\"text-align: right;\">\n",
        "      <th></th>\n",
        "      <th>A</th>\n",
        "      <th>B</th>\n",
        "      <th>C</th>\n",
        "      <th>D</th>\n",
        "      <th>E</th>\n",
        "      <th>F</th>\n",
        "    </tr>\n",
        "  </thead>\n",
        "  <tbody>\n",
        "    <tr>\n",
        "      <th>1</th>\n",
        "      <td> 0.846432</td>\n",
        "      <td> 0.686711</td>\n",
        "      <td> 0.923343</td>\n",
        "      <td> 0.961548</td>\n",
        "      <td> 2.236068</td>\n",
        "      <td> 0.856996</td>\n",
        "    </tr>\n",
        "    <tr>\n",
        "      <th>2</th>\n",
        "      <td> 0.841079</td>\n",
        "      <td> 0.406334</td>\n",
        "      <td> 0.140205</td>\n",
        "      <td> 0.769856</td>\n",
        "      <td> 2.236068</td>\n",
        "      <td> 0.923042</td>\n",
        "    </tr>\n",
        "    <tr>\n",
        "      <th>3</th>\n",
        "      <td> 0.661137</td>\n",
        "      <td> 0.924400</td>\n",
        "      <td> 0.707255</td>\n",
        "      <td> 0.826698</td>\n",
        "      <td> 2.236068</td>\n",
        "      <td> 0.951208</td>\n",
        "    </tr>\n",
        "    <tr>\n",
        "      <th>4</th>\n",
        "      <td> 0.916534</td>\n",
        "      <td> 0.355660</td>\n",
        "      <td> 0.771998</td>\n",
        "      <td> 0.536845</td>\n",
        "      <td> 2.236068</td>\n",
        "      <td> 0.217692</td>\n",
        "    </tr>\n",
        "    <tr>\n",
        "      <th>5</th>\n",
        "      <td> 0.625491</td>\n",
        "      <td> 0.738827</td>\n",
        "      <td> 0.934623</td>\n",
        "      <td> 0.273323</td>\n",
        "      <td> 2.236068</td>\n",
        "      <td>      NaN</td>\n",
        "    </tr>\n",
        "  </tbody>\n",
        "</table>\n",
        "</div>"
       ],
       "metadata": {},
       "output_type": "pyout",
       "prompt_number": 74,
       "text": [
        "          A         B         C         D         E         F\n",
        "1  0.846432  0.686711  0.923343  0.961548  2.236068  0.856996\n",
        "2  0.841079  0.406334  0.140205  0.769856  2.236068  0.923042\n",
        "3  0.661137  0.924400  0.707255  0.826698  2.236068  0.951208\n",
        "4  0.916534  0.355660  0.771998  0.536845  2.236068  0.217692\n",
        "5  0.625491  0.738827  0.934623  0.273323  2.236068       NaN"
       ]
      }
     ],
     "prompt_number": 74
    },
    {
     "cell_type": "heading",
     "level": 5,
     "metadata": {},
     "source": [
      "summarizing data"
     ]
    },
    {
     "cell_type": "code",
     "collapsed": false,
     "input": [
      "df.describe().T"
     ],
     "language": "python",
     "metadata": {},
     "outputs": [
      {
       "html": [
        "<div style=\"max-height:1000px;max-width:1500px;overflow:auto;\">\n",
        "<table border=\"1\" class=\"dataframe\">\n",
        "  <thead>\n",
        "    <tr style=\"text-align: right;\">\n",
        "      <th></th>\n",
        "      <th>count</th>\n",
        "      <th>mean</th>\n",
        "      <th>std</th>\n",
        "      <th>min</th>\n",
        "      <th>25%</th>\n",
        "      <th>50%</th>\n",
        "      <th>75%</th>\n",
        "      <th>max</th>\n",
        "    </tr>\n",
        "  </thead>\n",
        "  <tbody>\n",
        "    <tr>\n",
        "      <th>A</th>\n",
        "      <td> 5</td>\n",
        "      <td> 0.618447</td>\n",
        "      <td> 0.194377</td>\n",
        "      <td> 0.391240</td>\n",
        "      <td> 0.437102</td>\n",
        "      <td> 0.707414</td>\n",
        "      <td> 0.716446</td>\n",
        "      <td> 0.840034</td>\n",
        "    </tr>\n",
        "    <tr>\n",
        "      <th>B</th>\n",
        "      <td> 5</td>\n",
        "      <td> 0.432711</td>\n",
        "      <td> 0.299004</td>\n",
        "      <td> 0.126494</td>\n",
        "      <td> 0.165107</td>\n",
        "      <td> 0.471572</td>\n",
        "      <td> 0.545866</td>\n",
        "      <td> 0.854516</td>\n",
        "    </tr>\n",
        "    <tr>\n",
        "      <th>C</th>\n",
        "      <td> 5</td>\n",
        "      <td> 0.568386</td>\n",
        "      <td> 0.346546</td>\n",
        "      <td> 0.019657</td>\n",
        "      <td> 0.500210</td>\n",
        "      <td> 0.595981</td>\n",
        "      <td> 0.852562</td>\n",
        "      <td> 0.873521</td>\n",
        "    </tr>\n",
        "    <tr>\n",
        "      <th>D</th>\n",
        "      <td> 5</td>\n",
        "      <td> 0.512718</td>\n",
        "      <td> 0.334449</td>\n",
        "      <td> 0.074705</td>\n",
        "      <td> 0.288203</td>\n",
        "      <td> 0.592678</td>\n",
        "      <td> 0.683429</td>\n",
        "      <td> 0.924574</td>\n",
        "    </tr>\n",
        "    <tr>\n",
        "      <th>E</th>\n",
        "      <td> 5</td>\n",
        "      <td> 5.000000</td>\n",
        "      <td> 0.000000</td>\n",
        "      <td> 5.000000</td>\n",
        "      <td> 5.000000</td>\n",
        "      <td> 5.000000</td>\n",
        "      <td> 5.000000</td>\n",
        "      <td> 5.000000</td>\n",
        "    </tr>\n",
        "    <tr>\n",
        "      <th>F</th>\n",
        "      <td> 4</td>\n",
        "      <td> 0.634658</td>\n",
        "      <td> 0.397935</td>\n",
        "      <td> 0.047390</td>\n",
        "      <td> 0.562679</td>\n",
        "      <td> 0.793224</td>\n",
        "      <td> 0.865204</td>\n",
        "      <td> 0.904796</td>\n",
        "    </tr>\n",
        "  </tbody>\n",
        "</table>\n",
        "</div>"
       ],
       "metadata": {},
       "output_type": "pyout",
       "prompt_number": 75,
       "text": [
        "   count      mean       std       min       25%       50%       75%       max\n",
        "A      5  0.618447  0.194377  0.391240  0.437102  0.707414  0.716446  0.840034\n",
        "B      5  0.432711  0.299004  0.126494  0.165107  0.471572  0.545866  0.854516\n",
        "C      5  0.568386  0.346546  0.019657  0.500210  0.595981  0.852562  0.873521\n",
        "D      5  0.512718  0.334449  0.074705  0.288203  0.592678  0.683429  0.924574\n",
        "E      5  5.000000  0.000000  5.000000  5.000000  5.000000  5.000000  5.000000\n",
        "F      4  0.634658  0.397935  0.047390  0.562679  0.793224  0.865204  0.904796"
       ]
      }
     ],
     "prompt_number": 75
    },
    {
     "cell_type": "heading",
     "level": 5,
     "metadata": {},
     "source": [
      "replacing values"
     ]
    },
    {
     "cell_type": "code",
     "collapsed": false,
     "input": [
      "df.head()"
     ],
     "language": "python",
     "metadata": {},
     "outputs": [
      {
       "html": [
        "<div style=\"max-height:1000px;max-width:1500px;overflow:auto;\">\n",
        "<table border=\"1\" class=\"dataframe\">\n",
        "  <thead>\n",
        "    <tr style=\"text-align: right;\">\n",
        "      <th></th>\n",
        "      <th>A</th>\n",
        "      <th>B</th>\n",
        "      <th>C</th>\n",
        "      <th>D</th>\n",
        "      <th>E</th>\n",
        "      <th>F</th>\n",
        "    </tr>\n",
        "  </thead>\n",
        "  <tbody>\n",
        "    <tr>\n",
        "      <th>1</th>\n",
        "      <td> 0.716446</td>\n",
        "      <td> 0.471572</td>\n",
        "      <td> 0.852562</td>\n",
        "      <td> 0.924574</td>\n",
        "      <td> 5</td>\n",
        "      <td> 0.734442</td>\n",
        "    </tr>\n",
        "    <tr>\n",
        "      <th>2</th>\n",
        "      <td> 0.707414</td>\n",
        "      <td> 0.165107</td>\n",
        "      <td> 0.019657</td>\n",
        "      <td> 0.592678</td>\n",
        "      <td> 5</td>\n",
        "      <td> 0.852006</td>\n",
        "    </tr>\n",
        "    <tr>\n",
        "      <th>3</th>\n",
        "      <td> 0.437102</td>\n",
        "      <td> 0.854516</td>\n",
        "      <td> 0.500210</td>\n",
        "      <td> 0.683429</td>\n",
        "      <td> 5</td>\n",
        "      <td> 0.904796</td>\n",
        "    </tr>\n",
        "    <tr>\n",
        "      <th>4</th>\n",
        "      <td> 0.840034</td>\n",
        "      <td> 0.126494</td>\n",
        "      <td> 0.595981</td>\n",
        "      <td> 0.288203</td>\n",
        "      <td> 5</td>\n",
        "      <td> 0.047390</td>\n",
        "    </tr>\n",
        "    <tr>\n",
        "      <th>5</th>\n",
        "      <td> 0.391240</td>\n",
        "      <td> 0.545866</td>\n",
        "      <td> 0.873521</td>\n",
        "      <td> 0.074705</td>\n",
        "      <td> 5</td>\n",
        "      <td>      NaN</td>\n",
        "    </tr>\n",
        "  </tbody>\n",
        "</table>\n",
        "</div>"
       ],
       "metadata": {},
       "output_type": "pyout",
       "prompt_number": 76,
       "text": [
        "          A         B         C         D  E         F\n",
        "1  0.716446  0.471572  0.852562  0.924574  5  0.734442\n",
        "2  0.707414  0.165107  0.019657  0.592678  5  0.852006\n",
        "3  0.437102  0.854516  0.500210  0.683429  5  0.904796\n",
        "4  0.840034  0.126494  0.595981  0.288203  5  0.047390\n",
        "5  0.391240  0.545866  0.873521  0.074705  5       NaN"
       ]
      }
     ],
     "prompt_number": 76
    },
    {
     "cell_type": "code",
     "collapsed": false,
     "input": [
      "df['E'].replace(5, 0.0, inplace=True) \n",
      "# you can use dictionnary to multiple replacements"
     ],
     "language": "python",
     "metadata": {},
     "outputs": [],
     "prompt_number": 77
    },
    {
     "cell_type": "code",
     "collapsed": false,
     "input": [
      "df"
     ],
     "language": "python",
     "metadata": {},
     "outputs": [
      {
       "html": [
        "<div style=\"max-height:1000px;max-width:1500px;overflow:auto;\">\n",
        "<table border=\"1\" class=\"dataframe\">\n",
        "  <thead>\n",
        "    <tr style=\"text-align: right;\">\n",
        "      <th></th>\n",
        "      <th>A</th>\n",
        "      <th>B</th>\n",
        "      <th>C</th>\n",
        "      <th>D</th>\n",
        "      <th>E</th>\n",
        "      <th>F</th>\n",
        "    </tr>\n",
        "  </thead>\n",
        "  <tbody>\n",
        "    <tr>\n",
        "      <th>1</th>\n",
        "      <td> 0.716446</td>\n",
        "      <td> 0.471572</td>\n",
        "      <td> 0.852562</td>\n",
        "      <td> 0.924574</td>\n",
        "      <td> 0</td>\n",
        "      <td> 0.734442</td>\n",
        "    </tr>\n",
        "    <tr>\n",
        "      <th>2</th>\n",
        "      <td> 0.707414</td>\n",
        "      <td> 0.165107</td>\n",
        "      <td> 0.019657</td>\n",
        "      <td> 0.592678</td>\n",
        "      <td> 0</td>\n",
        "      <td> 0.852006</td>\n",
        "    </tr>\n",
        "    <tr>\n",
        "      <th>3</th>\n",
        "      <td> 0.437102</td>\n",
        "      <td> 0.854516</td>\n",
        "      <td> 0.500210</td>\n",
        "      <td> 0.683429</td>\n",
        "      <td> 0</td>\n",
        "      <td> 0.904796</td>\n",
        "    </tr>\n",
        "    <tr>\n",
        "      <th>4</th>\n",
        "      <td> 0.840034</td>\n",
        "      <td> 0.126494</td>\n",
        "      <td> 0.595981</td>\n",
        "      <td> 0.288203</td>\n",
        "      <td> 0</td>\n",
        "      <td> 0.047390</td>\n",
        "    </tr>\n",
        "    <tr>\n",
        "      <th>5</th>\n",
        "      <td> 0.391240</td>\n",
        "      <td> 0.545866</td>\n",
        "      <td> 0.873521</td>\n",
        "      <td> 0.074705</td>\n",
        "      <td> 0</td>\n",
        "      <td>      NaN</td>\n",
        "    </tr>\n",
        "  </tbody>\n",
        "</table>\n",
        "</div>"
       ],
       "metadata": {},
       "output_type": "pyout",
       "prompt_number": 78,
       "text": [
        "          A         B         C         D  E         F\n",
        "1  0.716446  0.471572  0.852562  0.924574  0  0.734442\n",
        "2  0.707414  0.165107  0.019657  0.592678  0  0.852006\n",
        "3  0.437102  0.854516  0.500210  0.683429  0  0.904796\n",
        "4  0.840034  0.126494  0.595981  0.288203  0  0.047390\n",
        "5  0.391240  0.545866  0.873521  0.074705  0       NaN"
       ]
      }
     ],
     "prompt_number": 78
    },
    {
     "cell_type": "heading",
     "level": 4,
     "metadata": {},
     "source": [
      "DataFrame high-level plotting functions"
     ]
    },
    {
     "cell_type": "code",
     "collapsed": false,
     "input": [
      "df.plot();"
     ],
     "language": "python",
     "metadata": {},
     "outputs": [
      {
       "metadata": {},
       "output_type": "display_data",
       "png": "[encoded data removed]",
       "text": [
        "<matplotlib.figure.Figure at 0x10a33de90>"
       ]
      }
     ],
     "prompt_number": 79
    },
    {
     "cell_type": "code",
     "collapsed": false,
     "input": [
      "df.drop('E', axis=1).plot(figsize=(8,12), \\\n",
      "                          subplots=True, \\\n",
      "                          sharex=True, \\\n",
      "                          kind='bar', rot=0); "
     ],
     "language": "python",
     "metadata": {},
     "outputs": [
      {
       "metadata": {},
       "output_type": "display_data",
       "png": "[encoded data removed]",
       "text": [
        "<matplotlib.figure.Figure at 0x10a062cd0>"
       ]
      }
     ],
     "prompt_number": 80
    },
    {
     "cell_type": "code",
     "collapsed": false,
     "input": [
      "import pandas as pd\n",
      "from sklearn.datasets import load_iris\n",
      " \n",
      "iris = load_iris()\n",
      " \n",
      "iris = pd.DataFrame(iris.data, columns=iris.feature_names)"
     ],
     "language": "python",
     "metadata": {},
     "outputs": [],
     "prompt_number": 81
    },
    {
     "cell_type": "code",
     "collapsed": false,
     "input": [
      "iris.head()"
     ],
     "language": "python",
     "metadata": {},
     "outputs": [
      {
       "html": [
        "<div style=\"max-height:1000px;max-width:1500px;overflow:auto;\">\n",
        "<table border=\"1\" class=\"dataframe\">\n",
        "  <thead>\n",
        "    <tr style=\"text-align: right;\">\n",
        "      <th></th>\n",
        "      <th>sepal length (cm)</th>\n",
        "      <th>sepal width (cm)</th>\n",
        "      <th>petal length (cm)</th>\n",
        "      <th>petal width (cm)</th>\n",
        "    </tr>\n",
        "  </thead>\n",
        "  <tbody>\n",
        "    <tr>\n",
        "      <th>0</th>\n",
        "      <td> 5.1</td>\n",
        "      <td> 3.5</td>\n",
        "      <td> 1.4</td>\n",
        "      <td> 0.2</td>\n",
        "    </tr>\n",
        "    <tr>\n",
        "      <th>1</th>\n",
        "      <td> 4.9</td>\n",
        "      <td> 3.0</td>\n",
        "      <td> 1.4</td>\n",
        "      <td> 0.2</td>\n",
        "    </tr>\n",
        "    <tr>\n",
        "      <th>2</th>\n",
        "      <td> 4.7</td>\n",
        "      <td> 3.2</td>\n",
        "      <td> 1.3</td>\n",
        "      <td> 0.2</td>\n",
        "    </tr>\n",
        "    <tr>\n",
        "      <th>3</th>\n",
        "      <td> 4.6</td>\n",
        "      <td> 3.1</td>\n",
        "      <td> 1.5</td>\n",
        "      <td> 0.2</td>\n",
        "    </tr>\n",
        "    <tr>\n",
        "      <th>4</th>\n",
        "      <td> 5.0</td>\n",
        "      <td> 3.6</td>\n",
        "      <td> 1.4</td>\n",
        "      <td> 0.2</td>\n",
        "    </tr>\n",
        "  </tbody>\n",
        "</table>\n",
        "</div>"
       ],
       "metadata": {},
       "output_type": "pyout",
       "prompt_number": 82,
       "text": [
        "   sepal length (cm)  sepal width (cm)  petal length (cm)  petal width (cm)\n",
        "0                5.1               3.5                1.4               0.2\n",
        "1                4.9               3.0                1.4               0.2\n",
        "2                4.7               3.2                1.3               0.2\n",
        "3                4.6               3.1                1.5               0.2\n",
        "4                5.0               3.6                1.4               0.2"
       ]
      }
     ],
     "prompt_number": 82
    },
    {
     "cell_type": "code",
     "collapsed": false,
     "input": [
      "iris.hist(); "
     ],
     "language": "python",
     "metadata": {},
     "outputs": [
      {
       "metadata": {},
       "output_type": "display_data",
       "png": "[encoded data removed]",
       "text": [
        "<matplotlib.figure.Figure at 0x10a447450>"
       ]
      }
     ],
     "prompt_number": 83
    },
    {
     "cell_type": "code",
     "collapsed": false,
     "input": [
      "HTML('<iframe src=http://pandas.pydata.org/pandas-docs/stable/visualization.html width=1000 height=350></iframe>')"
     ],
     "language": "python",
     "metadata": {},
     "outputs": [
      {
       "html": [
        "<iframe src=http://pandas.pydata.org/pandas-docs/stable/visualization.html width=1000 height=350></iframe>"
       ],
       "metadata": {},
       "output_type": "pyout",
       "prompt_number": 84,
       "text": [
        "<IPython.core.display.HTML at 0x10c8b57d0>"
       ]
      }
     ],
     "prompt_number": 84
    },
    {
     "cell_type": "heading",
     "level": 3,
     "metadata": {},
     "source": [
      "Input and Output in pandas"
     ]
    },
    {
     "cell_type": "markdown",
     "metadata": {},
     "source": [
      "Pandas has very powerful IO methods, allowing to load csv, excel, tab-delimited files very easily. Pandas DataFrames can also be \n",
      "saved also in csv, excel files. \n",
      "\n",
      "Other supported file types are: \n",
      "\n",
      "* JSON (JavaScript Object Notation)\n",
      "* HDF5 \n",
      "* HTML (to e.g. read tables contained in HTML documents)\n",
      "* SQL (Pandas can **query directly from SQL databases** thanks to [SQLAlchemy](http://www.sqlalchemy.org/))\n",
      "* ..."
     ]
    },
    {
     "cell_type": "code",
     "collapsed": false,
     "input": [
      "pd.read"
     ],
     "language": "python",
     "metadata": {},
     "outputs": []
    },
    {
     "cell_type": "code",
     "collapsed": false,
     "input": [
      "SOI = pd.read_csv('./data/NIWA_SOI.csv')"
     ],
     "language": "python",
     "metadata": {},
     "outputs": [],
     "prompt_number": 86
    },
    {
     "cell_type": "code",
     "collapsed": false,
     "input": [
      "SOI.head()"
     ],
     "language": "python",
     "metadata": {},
     "outputs": [
      {
       "html": [
        "<div style=\"max-height:1000px;max-width:1500px;overflow:auto;\">\n",
        "<table border=\"1\" class=\"dataframe\">\n",
        "  <thead>\n",
        "    <tr style=\"text-align: right;\">\n",
        "      <th></th>\n",
        "      <th>Year</th>\n",
        "      <th>Jan</th>\n",
        "      <th>Feb</th>\n",
        "      <th>Mar</th>\n",
        "      <th>Apr</th>\n",
        "      <th>May</th>\n",
        "      <th>Jun</th>\n",
        "      <th>Jul</th>\n",
        "      <th>Aug</th>\n",
        "      <th>Sep</th>\n",
        "      <th>Oct</th>\n",
        "      <th>Nov</th>\n",
        "      <th>Dec</th>\n",
        "    </tr>\n",
        "  </thead>\n",
        "  <tbody>\n",
        "    <tr>\n",
        "      <th>0</th>\n",
        "      <td> 1877</td>\n",
        "      <td>-1.044600</td>\n",
        "      <td>-0.834198</td>\n",
        "      <td>-0.759131</td>\n",
        "      <td>-1.103454</td>\n",
        "      <td> 0.349381</td>\n",
        "      <td>-1.901213</td>\n",
        "      <td>-1.002934</td>\n",
        "      <td>-1.044881</td>\n",
        "      <td>-1.839545</td>\n",
        "      <td>-1.745311</td>\n",
        "      <td>-1.453885</td>\n",
        "      <td>-1.541774</td>\n",
        "    </tr>\n",
        "    <tr>\n",
        "      <th>1</th>\n",
        "      <td> 1878</td>\n",
        "      <td>-0.940401</td>\n",
        "      <td>-2.339884</td>\n",
        "      <td>-1.981073</td>\n",
        "      <td>-1.009742</td>\n",
        "      <td> 0.189664</td>\n",
        "      <td>-0.448601</td>\n",
        "      <td> 1.568691</td>\n",
        "      <td> 1.216173</td>\n",
        "      <td> 1.734780</td>\n",
        "      <td> 1.002227</td>\n",
        "      <td> 1.460825</td>\n",
        "      <td> 1.744423</td>\n",
        "    </tr>\n",
        "    <tr>\n",
        "      <th>2</th>\n",
        "      <td> 1879</td>\n",
        "      <td> 1.404088</td>\n",
        "      <td> 1.302904</td>\n",
        "      <td> 1.257072</td>\n",
        "      <td> 1.426758</td>\n",
        "      <td> 0.189664</td>\n",
        "      <td> 1.602146</td>\n",
        "      <td> 2.147306</td>\n",
        "      <td> 2.243925</td>\n",
        "      <td> 1.858033</td>\n",
        "      <td> 1.439335</td>\n",
        "      <td> 0.905642</td>\n",
        "      <td>-0.774995</td>\n",
        "    </tr>\n",
        "    <tr>\n",
        "      <th>3</th>\n",
        "      <td> 1880</td>\n",
        "      <td> 1.195689</td>\n",
        "      <td> 0.622917</td>\n",
        "      <td> 1.379266</td>\n",
        "      <td> 0.583354</td>\n",
        "      <td> 1.227823</td>\n",
        "      <td> 0.833116</td>\n",
        "      <td> 0.154297</td>\n",
        "      <td> 1.353207</td>\n",
        "      <td> 0.748760</td>\n",
        "      <td> 0.377786</td>\n",
        "      <td> 0.628051</td>\n",
        "      <td>-0.391605</td>\n",
        "    </tr>\n",
        "    <tr>\n",
        "      <th>4</th>\n",
        "      <td> 1881</td>\n",
        "      <td>-0.784101</td>\n",
        "      <td>-0.737057</td>\n",
        "      <td>-0.025966</td>\n",
        "      <td> 0.021085</td>\n",
        "      <td>-0.449204</td>\n",
        "      <td>-0.619496</td>\n",
        "      <td>-0.552899</td>\n",
        "      <td>-1.387465</td>\n",
        "      <td>-1.469787</td>\n",
        "      <td>-2.557084</td>\n",
        "      <td> 0.628051</td>\n",
        "      <td> 0.868104</td>\n",
        "    </tr>\n",
        "  </tbody>\n",
        "</table>\n",
        "</div>"
       ],
       "metadata": {},
       "output_type": "pyout",
       "prompt_number": 87,
       "text": [
        "   Year       Jan       Feb       Mar       Apr       May       Jun       Jul  \\\n",
        "0  1877 -1.044600 -0.834198 -0.759131 -1.103454  0.349381 -1.901213 -1.002934   \n",
        "1  1878 -0.940401 -2.339884 -1.981073 -1.009742  0.189664 -0.448601  1.568691   \n",
        "2  1879  1.404088  1.302904  1.257072  1.426758  0.189664  1.602146  2.147306   \n",
        "3  1880  1.195689  0.622917  1.379266  0.583354  1.227823  0.833116  0.154297   \n",
        "4  1881 -0.784101 -0.737057 -0.025966  0.021085 -0.449204 -0.619496 -0.552899   \n",
        "\n",
        "        Aug       Sep       Oct       Nov       Dec  \n",
        "0 -1.044881 -1.839545 -1.745311 -1.453885 -1.541774  \n",
        "1  1.216173  1.734780  1.002227  1.460825  1.744423  \n",
        "2  2.243925  1.858033  1.439335  0.905642 -0.774995  \n",
        "3  1.353207  0.748760  0.377786  0.628051 -0.391605  \n",
        "4 -1.387465 -1.469787 -2.557084  0.628051  0.868104  "
       ]
      }
     ],
     "prompt_number": 87
    },
    {
     "cell_type": "code",
     "collapsed": false,
     "input": [
      "SOI = pd.read_csv('./data/NIWA_SOI.csv', index_col=0)"
     ],
     "language": "python",
     "metadata": {},
     "outputs": [],
     "prompt_number": 88
    },
    {
     "cell_type": "code",
     "collapsed": false,
     "input": [
      "SOI.head()"
     ],
     "language": "python",
     "metadata": {},
     "outputs": [
      {
       "html": [
        "<div style=\"max-height:1000px;max-width:1500px;overflow:auto;\">\n",
        "<table border=\"1\" class=\"dataframe\">\n",
        "  <thead>\n",
        "    <tr style=\"text-align: right;\">\n",
        "      <th></th>\n",
        "      <th>Jan</th>\n",
        "      <th>Feb</th>\n",
        "      <th>Mar</th>\n",
        "      <th>Apr</th>\n",
        "      <th>May</th>\n",
        "      <th>Jun</th>\n",
        "      <th>Jul</th>\n",
        "      <th>Aug</th>\n",
        "      <th>Sep</th>\n",
        "      <th>Oct</th>\n",
        "      <th>Nov</th>\n",
        "      <th>Dec</th>\n",
        "    </tr>\n",
        "    <tr>\n",
        "      <th>Year</th>\n",
        "      <th></th>\n",
        "      <th></th>\n",
        "      <th></th>\n",
        "      <th></th>\n",
        "      <th></th>\n",
        "      <th></th>\n",
        "      <th></th>\n",
        "      <th></th>\n",
        "      <th></th>\n",
        "      <th></th>\n",
        "      <th></th>\n",
        "      <th></th>\n",
        "    </tr>\n",
        "  </thead>\n",
        "  <tbody>\n",
        "    <tr>\n",
        "      <th>1877</th>\n",
        "      <td>-1.044600</td>\n",
        "      <td>-0.834198</td>\n",
        "      <td>-0.759131</td>\n",
        "      <td>-1.103454</td>\n",
        "      <td> 0.349381</td>\n",
        "      <td>-1.901213</td>\n",
        "      <td>-1.002934</td>\n",
        "      <td>-1.044881</td>\n",
        "      <td>-1.839545</td>\n",
        "      <td>-1.745311</td>\n",
        "      <td>-1.453885</td>\n",
        "      <td>-1.541774</td>\n",
        "    </tr>\n",
        "    <tr>\n",
        "      <th>1878</th>\n",
        "      <td>-0.940401</td>\n",
        "      <td>-2.339884</td>\n",
        "      <td>-1.981073</td>\n",
        "      <td>-1.009742</td>\n",
        "      <td> 0.189664</td>\n",
        "      <td>-0.448601</td>\n",
        "      <td> 1.568691</td>\n",
        "      <td> 1.216173</td>\n",
        "      <td> 1.734780</td>\n",
        "      <td> 1.002227</td>\n",
        "      <td> 1.460825</td>\n",
        "      <td> 1.744423</td>\n",
        "    </tr>\n",
        "    <tr>\n",
        "      <th>1879</th>\n",
        "      <td> 1.404088</td>\n",
        "      <td> 1.302904</td>\n",
        "      <td> 1.257072</td>\n",
        "      <td> 1.426758</td>\n",
        "      <td> 0.189664</td>\n",
        "      <td> 1.602146</td>\n",
        "      <td> 2.147306</td>\n",
        "      <td> 2.243925</td>\n",
        "      <td> 1.858033</td>\n",
        "      <td> 1.439335</td>\n",
        "      <td> 0.905642</td>\n",
        "      <td>-0.774995</td>\n",
        "    </tr>\n",
        "    <tr>\n",
        "      <th>1880</th>\n",
        "      <td> 1.195689</td>\n",
        "      <td> 0.622917</td>\n",
        "      <td> 1.379266</td>\n",
        "      <td> 0.583354</td>\n",
        "      <td> 1.227823</td>\n",
        "      <td> 0.833116</td>\n",
        "      <td> 0.154297</td>\n",
        "      <td> 1.353207</td>\n",
        "      <td> 0.748760</td>\n",
        "      <td> 0.377786</td>\n",
        "      <td> 0.628051</td>\n",
        "      <td>-0.391605</td>\n",
        "    </tr>\n",
        "    <tr>\n",
        "      <th>1881</th>\n",
        "      <td>-0.784101</td>\n",
        "      <td>-0.737057</td>\n",
        "      <td>-0.025966</td>\n",
        "      <td> 0.021085</td>\n",
        "      <td>-0.449204</td>\n",
        "      <td>-0.619496</td>\n",
        "      <td>-0.552899</td>\n",
        "      <td>-1.387465</td>\n",
        "      <td>-1.469787</td>\n",
        "      <td>-2.557084</td>\n",
        "      <td> 0.628051</td>\n",
        "      <td> 0.868104</td>\n",
        "    </tr>\n",
        "  </tbody>\n",
        "</table>\n",
        "</div>"
       ],
       "metadata": {},
       "output_type": "pyout",
       "prompt_number": 89,
       "text": [
        "           Jan       Feb       Mar       Apr       May       Jun       Jul  \\\n",
        "Year                                                                         \n",
        "1877 -1.044600 -0.834198 -0.759131 -1.103454  0.349381 -1.901213 -1.002934   \n",
        "1878 -0.940401 -2.339884 -1.981073 -1.009742  0.189664 -0.448601  1.568691   \n",
        "1879  1.404088  1.302904  1.257072  1.426758  0.189664  1.602146  2.147306   \n",
        "1880  1.195689  0.622917  1.379266  0.583354  1.227823  0.833116  0.154297   \n",
        "1881 -0.784101 -0.737057 -0.025966  0.021085 -0.449204 -0.619496 -0.552899   \n",
        "\n",
        "           Aug       Sep       Oct       Nov       Dec  \n",
        "Year                                                    \n",
        "1877 -1.044881 -1.839545 -1.745311 -1.453885 -1.541774  \n",
        "1878  1.216173  1.734780  1.002227  1.460825  1.744423  \n",
        "1879  2.243925  1.858033  1.439335  0.905642 -0.774995  \n",
        "1880  1.353207  0.748760  0.377786  0.628051 -0.391605  \n",
        "1881 -1.387465 -1.469787 -2.557084  0.628051  0.868104  "
       ]
      }
     ],
     "prompt_number": 89
    },
    {
     "cell_type": "code",
     "collapsed": false,
     "input": [
      "SOI.ix[1950:2000].head()"
     ],
     "language": "python",
     "metadata": {},
     "outputs": [
      {
       "html": [
        "<div style=\"max-height:1000px;max-width:1500px;overflow:auto;\">\n",
        "<table border=\"1\" class=\"dataframe\">\n",
        "  <thead>\n",
        "    <tr style=\"text-align: right;\">\n",
        "      <th></th>\n",
        "      <th>Jan</th>\n",
        "      <th>Feb</th>\n",
        "      <th>Mar</th>\n",
        "      <th>Apr</th>\n",
        "      <th>May</th>\n",
        "      <th>Jun</th>\n",
        "      <th>Jul</th>\n",
        "      <th>Aug</th>\n",
        "      <th>Sep</th>\n",
        "      <th>Oct</th>\n",
        "      <th>Nov</th>\n",
        "      <th>Dec</th>\n",
        "    </tr>\n",
        "    <tr>\n",
        "      <th>Year</th>\n",
        "      <th></th>\n",
        "      <th></th>\n",
        "      <th></th>\n",
        "      <th></th>\n",
        "      <th></th>\n",
        "      <th></th>\n",
        "      <th></th>\n",
        "      <th></th>\n",
        "      <th></th>\n",
        "      <th></th>\n",
        "      <th></th>\n",
        "      <th></th>\n",
        "    </tr>\n",
        "  </thead>\n",
        "  <tbody>\n",
        "    <tr>\n",
        "      <th>1950</th>\n",
        "      <td> 0.570492</td>\n",
        "      <td> 1.642897</td>\n",
        "      <td> 1.745849</td>\n",
        "      <td> 1.895316</td>\n",
        "      <td> 0.748673</td>\n",
        "      <td> 2.712966</td>\n",
        "      <td> 2.083016</td>\n",
        "      <td> 1.147657</td>\n",
        "      <td> 0.625507</td>\n",
        "      <td> 1.626667</td>\n",
        "      <td> 1.183234</td>\n",
        "      <td> 2.292122</td>\n",
        "    </tr>\n",
        "    <tr>\n",
        "      <th>1951</th>\n",
        "      <td> 1.820886</td>\n",
        "      <td> 0.817199</td>\n",
        "      <td>-0.392549</td>\n",
        "      <td>-0.166338</td>\n",
        "      <td>-0.688779</td>\n",
        "      <td> 0.405877</td>\n",
        "      <td>-0.810062</td>\n",
        "      <td>-0.222680</td>\n",
        "      <td>-0.791898</td>\n",
        "      <td>-0.933539</td>\n",
        "      <td>-0.482315</td>\n",
        "      <td>-0.501145</td>\n",
        "    </tr>\n",
        "    <tr>\n",
        "      <th>1952</th>\n",
        "      <td>-0.992500</td>\n",
        "      <td>-0.979910</td>\n",
        "      <td>-0.209257</td>\n",
        "      <td>-1.009742</td>\n",
        "      <td> 0.588956</td>\n",
        "      <td> 0.662220</td>\n",
        "      <td> 0.347169</td>\n",
        "      <td>-0.565264</td>\n",
        "      <td>-0.422140</td>\n",
        "      <td> 0.065566</td>\n",
        "      <td>-0.204724</td>\n",
        "      <td>-1.541774</td>\n",
        "    </tr>\n",
        "    <tr>\n",
        "      <th>1953</th>\n",
        "      <td> 0.257894</td>\n",
        "      <td>-0.785628</td>\n",
        "      <td>-0.881325</td>\n",
        "      <td>-0.072626</td>\n",
        "      <td>-3.244249</td>\n",
        "      <td>-0.363153</td>\n",
        "      <td>-0.102865</td>\n",
        "      <td>-2.004117</td>\n",
        "      <td>-1.408161</td>\n",
        "      <td>-0.121766</td>\n",
        "      <td>-0.343519</td>\n",
        "      <td>-0.610685</td>\n",
        "    </tr>\n",
        "    <tr>\n",
        "      <th>1954</th>\n",
        "      <td> 0.674692</td>\n",
        "      <td>-0.542775</td>\n",
        "      <td>-0.331452</td>\n",
        "      <td> 0.770778</td>\n",
        "      <td> 0.429239</td>\n",
        "      <td>-0.277705</td>\n",
        "      <td> 0.411460</td>\n",
        "      <td> 0.942106</td>\n",
        "      <td> 0.379002</td>\n",
        "      <td> 0.065566</td>\n",
        "      <td> 0.281061</td>\n",
        "      <td> 1.196723</td>\n",
        "    </tr>\n",
        "  </tbody>\n",
        "</table>\n",
        "</div>"
       ],
       "metadata": {},
       "output_type": "pyout",
       "prompt_number": 90,
       "text": [
        "           Jan       Feb       Mar       Apr       May       Jun       Jul  \\\n",
        "Year                                                                         \n",
        "1950  0.570492  1.642897  1.745849  1.895316  0.748673  2.712966  2.083016   \n",
        "1951  1.820886  0.817199 -0.392549 -0.166338 -0.688779  0.405877 -0.810062   \n",
        "1952 -0.992500 -0.979910 -0.209257 -1.009742  0.588956  0.662220  0.347169   \n",
        "1953  0.257894 -0.785628 -0.881325 -0.072626 -3.244249 -0.363153 -0.102865   \n",
        "1954  0.674692 -0.542775 -0.331452  0.770778  0.429239 -0.277705  0.411460   \n",
        "\n",
        "           Aug       Sep       Oct       Nov       Dec  \n",
        "Year                                                    \n",
        "1950  1.147657  0.625507  1.626667  1.183234  2.292122  \n",
        "1951 -0.222680 -0.791898 -0.933539 -0.482315 -0.501145  \n",
        "1952 -0.565264 -0.422140  0.065566 -0.204724 -1.541774  \n",
        "1953 -2.004117 -1.408161 -0.121766 -0.343519 -0.610685  \n",
        "1954  0.942106  0.379002  0.065566  0.281061  1.196723  "
       ]
      }
     ],
     "prompt_number": 90
    },
    {
     "cell_type": "markdown",
     "metadata": {},
     "source": [
      "#### Stacking "
     ]
    },
    {
     "cell_type": "code",
     "collapsed": false,
     "input": [
      "SOIs = SOI.stack()"
     ],
     "language": "python",
     "metadata": {},
     "outputs": [],
     "prompt_number": 91
    },
    {
     "cell_type": "code",
     "collapsed": false,
     "input": [
      "SOIs.head()"
     ],
     "language": "python",
     "metadata": {},
     "outputs": [
      {
       "metadata": {},
       "output_type": "pyout",
       "prompt_number": 92,
       "text": [
        "Year     \n",
        "1877  Jan   -1.044600\n",
        "      Feb   -0.834198\n",
        "      Mar   -0.759131\n",
        "      Apr   -1.103454\n",
        "      May    0.349381\n",
        "dtype: float64"
       ]
      }
     ],
     "prompt_number": 92
    },
    {
     "cell_type": "code",
     "collapsed": false,
     "input": [
      "SOIs.index"
     ],
     "language": "python",
     "metadata": {},
     "outputs": [
      {
       "metadata": {},
       "output_type": "pyout",
       "prompt_number": 93,
       "text": [
        "MultiIndex(levels=[[1877, 1878, 1879, 1880, 1881, 1882, 1883, 1884, 1885, 1886, 1887, 1888, 1889, 1890, 1891, 1892, 1893, 1894, 1895, 1896, 1897, 1898, 1899, 1900, 1901, 1902, 1903, 1904, 1905, 1906, 1907, 1908, 1909, 1910, 1911, 1912, 1913, 1914, 1915, 1916, 1917, 1918, 1919, 1920, 1921, 1922, 1923, 1924, 1925, 1926, 1927, 1928, 1929, 1930, 1931, 1932, 1933, 1934, 1935, 1936, 1937, 1938, 1939, 1940, 1941, 1942, 1943, 1944, 1945, 1946, 1947, 1948, 1949, 1950, 1951, 1952, 1953, 1954, 1955, 1956, 1957, 1958, 1959, 1960, 1961, 1962, 1963, 1964, 1965, 1966, 1967, 1968, 1969, 1970, 1971, 1972, 1973, 1974, 1975, 1976, ...], [u'Jan', u'Feb', u'Mar', u'Apr', u'May', u'Jun', u'Jul', u'Aug', u'Sep', u'Oct', u'Nov', u'Dec']],\n",
        "           labels=[[0, 0, 0, 0, 0, 0, 0, 0, 0, 0, 0, 0, 1, 1, 1, 1, 1, 1, 1, 1, 1, 1, 1, 1, 2, 2, 2, 2, 2, 2, 2, 2, 2, 2, 2, 2, 3, 3, 3, 3, 3, 3, 3, 3, 3, 3, 3, 3, 4, 4, 4, 4, 4, 4, 4, 4, 4, 4, 4, 4, 5, 5, 5, 5, 5, 5, 5, 5, 5, 5, 5, 5, 6, 6, 6, 6, 6, 6, 6, 6, 6, 6, 6, 6, 7, 7, 7, 7, 7, 7, 7, 7, 7, 7, 7, 7, 8, 8, 8, 8, ...], [0, 1, 2, 3, 4, 5, 6, 7, 8, 9, 10, 11, 0, 1, 2, 3, 4, 5, 6, 7, 8, 9, 10, 11, 0, 1, 2, 3, 4, 5, 6, 7, 8, 9, 10, 11, 0, 1, 2, 3, 4, 5, 6, 7, 8, 9, 10, 11, 0, 1, 2, 3, 4, 5, 6, 7, 8, 9, 10, 11, 0, 1, 2, 3, 4, 5, 6, 7, 8, 9, 10, 11, 0, 1, 2, 3, 4, 5, 6, 7, 8, 9, 10, 11, 0, 1, 2, 3, 4, 5, 6, 7, 8, 9, 10, 11, 0, 1, 2, 3, ...]],\n",
        "           names=[u'Year', None])"
       ]
      }
     ],
     "prompt_number": 93
    },
    {
     "cell_type": "code",
     "collapsed": false,
     "input": [
      "from dateutil import parser"
     ],
     "language": "python",
     "metadata": {},
     "outputs": [],
     "prompt_number": 94
    },
    {
     "cell_type": "code",
     "collapsed": false,
     "input": [
      "dateindex = [parser.parse(\"-\".join(map(str, [x[0], x[1], 1]))) for x in SOIs.index]"
     ],
     "language": "python",
     "metadata": {},
     "outputs": [],
     "prompt_number": 95
    },
    {
     "cell_type": "code",
     "collapsed": false,
     "input": [
      "SOIs.index=dateindex"
     ],
     "language": "python",
     "metadata": {},
     "outputs": [],
     "prompt_number": 96
    },
    {
     "cell_type": "code",
     "collapsed": false,
     "input": [
      "SOIs.head()"
     ],
     "language": "python",
     "metadata": {},
     "outputs": [
      {
       "metadata": {},
       "output_type": "pyout",
       "prompt_number": 97,
       "text": [
        "1877-01-01   -1.044600\n",
        "1877-02-01   -0.834198\n",
        "1877-03-01   -0.759131\n",
        "1877-04-01   -1.103454\n",
        "1877-05-01    0.349381\n",
        "dtype: float64"
       ]
      }
     ],
     "prompt_number": 97
    },
    {
     "cell_type": "code",
     "collapsed": false,
     "input": [
      "SOIs.plot(figsize=(12,5))"
     ],
     "language": "python",
     "metadata": {},
     "outputs": [
      {
       "metadata": {},
       "output_type": "pyout",
       "prompt_number": 98,
       "text": [
        "<matplotlib.axes._subplots.AxesSubplot at 0x10c533890>"
       ]
      },
      {
       "metadata": {},
       "output_type": "display_data",
       "png": "[encoded data removed]",
       "text": [
        "<matplotlib.figure.Figure at 0x10c58ca90>"
       ]
      }
     ],
     "prompt_number": 98
    },
    {
     "cell_type": "code",
     "collapsed": false,
     "input": [
      "pd.rolling_mean(SOIs,12).plot()"
     ],
     "language": "python",
     "metadata": {},
     "outputs": [
      {
       "metadata": {},
       "output_type": "pyout",
       "prompt_number": 99,
       "text": [
        "<matplotlib.axes._subplots.AxesSubplot at 0x10a4f7410>"
       ]
      },
      {
       "metadata": {},
       "output_type": "display_data",
       "png": "[encoded data removed]",
       "text": [
        "<matplotlib.figure.Figure at 0x10a458d90>"
       ]
      }
     ],
     "prompt_number": 99
    },
    {
     "cell_type": "heading",
     "level": 5,
     "metadata": {},
     "source": [
      "Saving in csv, excel etc"
     ]
    },
    {
     "cell_type": "code",
     "collapsed": false,
     "input": [
      "SOIs = pd.DataFrame(SOIs)"
     ],
     "language": "python",
     "metadata": {},
     "outputs": [],
     "prompt_number": 100
    },
    {
     "cell_type": "code",
     "collapsed": false,
     "input": [
      "SOIs.to_excel('./data/SOI_time_series.xlsx', header=False)"
     ],
     "language": "python",
     "metadata": {},
     "outputs": [],
     "prompt_number": 106
    },
    {
     "cell_type": "code",
     "collapsed": false,
     "input": [
      "#!open ./data/SOI_time_series.xlsx"
     ],
     "language": "python",
     "metadata": {},
     "outputs": [],
     "prompt_number": 107
    },
    {
     "cell_type": "heading",
     "level": 4,
     "metadata": {},
     "source": [
      "Reading Excel files"
     ]
    },
    {
     "cell_type": "markdown",
     "metadata": {},
     "source": [
      "first example: an Excel file, containing one sheet, with an Excel `dates` column"
     ]
    },
    {
     "cell_type": "code",
     "collapsed": false,
     "input": [
      "#!open ./data/ISO_datetime.xls"
     ],
     "language": "python",
     "metadata": {},
     "outputs": []
    },
    {
     "cell_type": "code",
     "collapsed": false,
     "input": [
      "data = pd.read_excel('./data/ISO_datetime.xls', sheetname='Sheet1')"
     ],
     "language": "python",
     "metadata": {},
     "outputs": [],
     "prompt_number": 108
    },
    {
     "cell_type": "code",
     "collapsed": false,
     "input": [
      "data.head()"
     ],
     "language": "python",
     "metadata": {},
     "outputs": [
      {
       "html": [
        "<div style=\"max-height:1000px;max-width:1500px;overflow:auto;\">\n",
        "<table border=\"1\" class=\"dataframe\">\n",
        "  <thead>\n",
        "    <tr style=\"text-align: right;\">\n",
        "      <th></th>\n",
        "      <th>date</th>\n",
        "      <th>value</th>\n",
        "    </tr>\n",
        "  </thead>\n",
        "  <tbody>\n",
        "    <tr>\n",
        "      <th>0</th>\n",
        "      <td>2014-01-02</td>\n",
        "      <td> 0.786299</td>\n",
        "    </tr>\n",
        "    <tr>\n",
        "      <th>1</th>\n",
        "      <td>2014-01-03</td>\n",
        "      <td> 0.354398</td>\n",
        "    </tr>\n",
        "    <tr>\n",
        "      <th>2</th>\n",
        "      <td>2014-01-04</td>\n",
        "      <td> 0.747329</td>\n",
        "    </tr>\n",
        "    <tr>\n",
        "      <th>3</th>\n",
        "      <td>2014-01-05</td>\n",
        "      <td> 0.461564</td>\n",
        "    </tr>\n",
        "    <tr>\n",
        "      <th>4</th>\n",
        "      <td>2014-01-06</td>\n",
        "      <td> 0.626105</td>\n",
        "    </tr>\n",
        "  </tbody>\n",
        "</table>\n",
        "</div>"
       ],
       "metadata": {},
       "output_type": "pyout",
       "prompt_number": 109,
       "text": [
        "        date     value\n",
        "0 2014-01-02  0.786299\n",
        "1 2014-01-03  0.354398\n",
        "2 2014-01-04  0.747329\n",
        "3 2014-01-05  0.461564\n",
        "4 2014-01-06  0.626105"
       ]
      }
     ],
     "prompt_number": 109
    },
    {
     "cell_type": "code",
     "collapsed": false,
     "input": [
      "data.date"
     ],
     "language": "python",
     "metadata": {},
     "outputs": [
      {
       "metadata": {},
       "output_type": "pyout",
       "prompt_number": 110,
       "text": [
        "0   2014-01-02\n",
        "1   2014-01-03\n",
        "2   2014-01-04\n",
        "3   2014-01-05\n",
        "4   2014-01-06\n",
        "5   2014-01-07\n",
        "6   2014-01-08\n",
        "7   2014-01-09\n",
        "8   2014-01-10\n",
        "9   2014-01-11\n",
        "Name: date, dtype: datetime64[ns]"
       ]
      }
     ],
     "prompt_number": 110
    },
    {
     "cell_type": "code",
     "collapsed": false,
     "input": [
      "data = pd.read_excel('./data/ISO_datetime.xls', \\\n",
      "                     sheetname='Sheet1', index_col=0)"
     ],
     "language": "python",
     "metadata": {},
     "outputs": [],
     "prompt_number": 111
    },
    {
     "cell_type": "code",
     "collapsed": false,
     "input": [
      "data.index"
     ],
     "language": "python",
     "metadata": {},
     "outputs": [
      {
       "metadata": {},
       "output_type": "pyout",
       "prompt_number": 112,
       "text": [
        "<class 'pandas.tseries.index.DatetimeIndex'>\n",
        "[2014-01-02, ..., 2014-01-11]\n",
        "Length: 10, Freq: None, Timezone: None"
       ]
      }
     ],
     "prompt_number": 112
    },
    {
     "cell_type": "heading",
     "level": 4,
     "metadata": {},
     "source": [
      "correctly parsing date(times) when date and time information are contained in different columns"
     ]
    },
    {
     "cell_type": "code",
     "collapsed": false,
     "input": [
      "!open ./data/year_month_day.xlsx"
     ],
     "language": "python",
     "metadata": {},
     "outputs": [],
     "prompt_number": 113
    },
    {
     "cell_type": "code",
     "collapsed": false,
     "input": [
      "ymd = pd.read_excel('./data/year_month_day.xlsx', sheetname='Sheet1')\n",
      "ymd.head()"
     ],
     "language": "python",
     "metadata": {},
     "outputs": [
      {
       "html": [
        "<div style=\"max-height:1000px;max-width:1500px;overflow:auto;\">\n",
        "<table border=\"1\" class=\"dataframe\">\n",
        "  <thead>\n",
        "    <tr style=\"text-align: right;\">\n",
        "      <th></th>\n",
        "      <th>year</th>\n",
        "      <th>month</th>\n",
        "      <th>day</th>\n",
        "      <th>value</th>\n",
        "    </tr>\n",
        "  </thead>\n",
        "  <tbody>\n",
        "    <tr>\n",
        "      <th>0</th>\n",
        "      <td> 2014</td>\n",
        "      <td> 1</td>\n",
        "      <td> 2</td>\n",
        "      <td> 0.786299</td>\n",
        "    </tr>\n",
        "    <tr>\n",
        "      <th>1</th>\n",
        "      <td> 2014</td>\n",
        "      <td> 1</td>\n",
        "      <td> 3</td>\n",
        "      <td> 0.354398</td>\n",
        "    </tr>\n",
        "    <tr>\n",
        "      <th>2</th>\n",
        "      <td> 2014</td>\n",
        "      <td> 1</td>\n",
        "      <td> 4</td>\n",
        "      <td> 0.747329</td>\n",
        "    </tr>\n",
        "    <tr>\n",
        "      <th>3</th>\n",
        "      <td> 2014</td>\n",
        "      <td> 1</td>\n",
        "      <td> 5</td>\n",
        "      <td> 0.461564</td>\n",
        "    </tr>\n",
        "    <tr>\n",
        "      <th>4</th>\n",
        "      <td> 2014</td>\n",
        "      <td> 1</td>\n",
        "      <td> 6</td>\n",
        "      <td> 0.626105</td>\n",
        "    </tr>\n",
        "  </tbody>\n",
        "</table>\n",
        "</div>"
       ],
       "metadata": {},
       "output_type": "pyout",
       "prompt_number": 114,
       "text": [
        "   year  month  day     value\n",
        "0  2014      1    2  0.786299\n",
        "1  2014      1    3  0.354398\n",
        "2  2014      1    4  0.747329\n",
        "3  2014      1    5  0.461564\n",
        "4  2014      1    6  0.626105"
       ]
      }
     ],
     "prompt_number": 114
    },
    {
     "cell_type": "code",
     "collapsed": false,
     "input": [
      "ymd = pd.read_excel('./data/year_month_day.xlsx', sheetname='Sheet1', \\\n",
      "                    parse_dates = {'date': [0, 1, 2]}, \\\n",
      "                    index_col='date')\n",
      "ymd.head()"
     ],
     "language": "python",
     "metadata": {},
     "outputs": [
      {
       "html": [
        "<div style=\"max-height:1000px;max-width:1500px;overflow:auto;\">\n",
        "<table border=\"1\" class=\"dataframe\">\n",
        "  <thead>\n",
        "    <tr style=\"text-align: right;\">\n",
        "      <th></th>\n",
        "      <th>value</th>\n",
        "    </tr>\n",
        "    <tr>\n",
        "      <th>date</th>\n",
        "      <th></th>\n",
        "    </tr>\n",
        "  </thead>\n",
        "  <tbody>\n",
        "    <tr>\n",
        "      <th>2014-01-02</th>\n",
        "      <td> 0.786299</td>\n",
        "    </tr>\n",
        "    <tr>\n",
        "      <th>2014-01-03</th>\n",
        "      <td> 0.354398</td>\n",
        "    </tr>\n",
        "    <tr>\n",
        "      <th>2014-01-04</th>\n",
        "      <td> 0.747329</td>\n",
        "    </tr>\n",
        "    <tr>\n",
        "      <th>2014-01-05</th>\n",
        "      <td> 0.461564</td>\n",
        "    </tr>\n",
        "    <tr>\n",
        "      <th>2014-01-06</th>\n",
        "      <td> 0.626105</td>\n",
        "    </tr>\n",
        "  </tbody>\n",
        "</table>\n",
        "</div>"
       ],
       "metadata": {},
       "output_type": "pyout",
       "prompt_number": 115,
       "text": [
        "               value\n",
        "date                \n",
        "2014-01-02  0.786299\n",
        "2014-01-03  0.354398\n",
        "2014-01-04  0.747329\n",
        "2014-01-05  0.461564\n",
        "2014-01-06  0.626105"
       ]
      }
     ],
     "prompt_number": 115
    },
    {
     "cell_type": "code",
     "collapsed": false,
     "input": [
      "myd = pd.read_excel('./data/year_month_day.xlsx', sheetname='Sheet2'); myd.head()"
     ],
     "language": "python",
     "metadata": {},
     "outputs": [
      {
       "html": [
        "<div style=\"max-height:1000px;max-width:1500px;overflow:auto;\">\n",
        "<table border=\"1\" class=\"dataframe\">\n",
        "  <thead>\n",
        "    <tr style=\"text-align: right;\">\n",
        "      <th></th>\n",
        "      <th>month</th>\n",
        "      <th>year</th>\n",
        "      <th>day</th>\n",
        "      <th>value</th>\n",
        "    </tr>\n",
        "  </thead>\n",
        "  <tbody>\n",
        "    <tr>\n",
        "      <th>0</th>\n",
        "      <td> 1</td>\n",
        "      <td> 2014</td>\n",
        "      <td> 2</td>\n",
        "      <td> 0.478467</td>\n",
        "    </tr>\n",
        "    <tr>\n",
        "      <th>1</th>\n",
        "      <td> 1</td>\n",
        "      <td> 2014</td>\n",
        "      <td> 3</td>\n",
        "      <td> 0.833801</td>\n",
        "    </tr>\n",
        "    <tr>\n",
        "      <th>2</th>\n",
        "      <td> 1</td>\n",
        "      <td> 2014</td>\n",
        "      <td> 4</td>\n",
        "      <td> 0.837646</td>\n",
        "    </tr>\n",
        "    <tr>\n",
        "      <th>3</th>\n",
        "      <td> 1</td>\n",
        "      <td> 2014</td>\n",
        "      <td> 5</td>\n",
        "      <td> 0.453646</td>\n",
        "    </tr>\n",
        "    <tr>\n",
        "      <th>4</th>\n",
        "      <td> 1</td>\n",
        "      <td> 2014</td>\n",
        "      <td> 6</td>\n",
        "      <td> 0.260355</td>\n",
        "    </tr>\n",
        "  </tbody>\n",
        "</table>\n",
        "</div>"
       ],
       "metadata": {},
       "output_type": "pyout",
       "prompt_number": 116,
       "text": [
        "   month  year  day     value\n",
        "0      1  2014    2  0.478467\n",
        "1      1  2014    3  0.833801\n",
        "2      1  2014    4  0.837646\n",
        "3      1  2014    5  0.453646\n",
        "4      1  2014    6  0.260355"
       ]
      }
     ],
     "prompt_number": 116
    },
    {
     "cell_type": "code",
     "collapsed": false,
     "input": [
      "myd = pd.read_excel('./data/year_month_day.xlsx', sheetname='Sheet2',\\\n",
      "                    parse_dates = {'date': [1, 0, 2]}, \\\n",
      "                    index_col='date'); \n",
      "myd.head()"
     ],
     "language": "python",
     "metadata": {},
     "outputs": [
      {
       "html": [
        "<div style=\"max-height:1000px;max-width:1500px;overflow:auto;\">\n",
        "<table border=\"1\" class=\"dataframe\">\n",
        "  <thead>\n",
        "    <tr style=\"text-align: right;\">\n",
        "      <th></th>\n",
        "      <th>value</th>\n",
        "    </tr>\n",
        "    <tr>\n",
        "      <th>date</th>\n",
        "      <th></th>\n",
        "    </tr>\n",
        "  </thead>\n",
        "  <tbody>\n",
        "    <tr>\n",
        "      <th>2014-01-02</th>\n",
        "      <td> 0.478467</td>\n",
        "    </tr>\n",
        "    <tr>\n",
        "      <th>2014-01-03</th>\n",
        "      <td> 0.833801</td>\n",
        "    </tr>\n",
        "    <tr>\n",
        "      <th>2014-01-04</th>\n",
        "      <td> 0.837646</td>\n",
        "    </tr>\n",
        "    <tr>\n",
        "      <th>2014-01-05</th>\n",
        "      <td> 0.453646</td>\n",
        "    </tr>\n",
        "    <tr>\n",
        "      <th>2014-01-06</th>\n",
        "      <td> 0.260355</td>\n",
        "    </tr>\n",
        "  </tbody>\n",
        "</table>\n",
        "</div>"
       ],
       "metadata": {},
       "output_type": "pyout",
       "prompt_number": 117,
       "text": [
        "               value\n",
        "date                \n",
        "2014-01-02  0.478467\n",
        "2014-01-03  0.833801\n",
        "2014-01-04  0.837646\n",
        "2014-01-05  0.453646\n",
        "2014-01-06  0.260355"
       ]
      }
     ],
     "prompt_number": 117
    },
    {
     "cell_type": "heading",
     "level": 3,
     "metadata": {},
     "source": [
      "groupby operations in Pandas "
     ]
    },
    {
     "cell_type": "markdown",
     "metadata": {},
     "source": [
      "The **groupby** method is a very powerful method of pandas DataFrames, in a nutschell it allows you to\n",
      "\n",
      "1. **split** your data according to unique values of a variable (or unique *combinations* of *N* variables)\n",
      "\n",
      "2. **apply** some operation to the groups thus defined, either an *aggregation* or *transformation* method \n",
      "\n",
      "3. **combine** the results into a DataFrame\n",
      "\n",
      "This process is illustrated below, where the operation is here calculating the mean of the groups's values\n",
      "\n",
      "A very nice explanation of the **groupby** method, with examples, is available from Pandas's documentation at:  \n",
      "\n",
      "[http://pandas.pydata.org/pandas-docs/stable/groupby.html](http://pandas.pydata.org/pandas-docs/stable/groupby.html)\n",
      "\n",
      "and a short tutorial on Wes McKinney's blog [here](http://wesmckinney.com/blog/?p=125)"
     ]
    },
    {
     "cell_type": "code",
     "collapsed": false,
     "input": [
      "Image(filename='images/split-apply-combine.png', width=800)"
     ],
     "language": "python",
     "metadata": {},
     "outputs": [
      {
       "metadata": {
        "png": {
         "width": 800
        }
       },
       "output_type": "pyout",
       "png": "[encoded data removed]",
       "prompt_number": 118,
       "text": [
        "<IPython.core.display.Image at 0x10c5dee90>"
       ]
      }
     ],
     "prompt_number": 118
    },
    {
     "cell_type": "code",
     "collapsed": false,
     "input": [
      "url = \"ftp://ftp.cpc.ncep.noaa.gov/wd52dg/data/indices/ersst3b.nino.mth.81-10.ascii\""
     ],
     "language": "python",
     "metadata": {},
     "outputs": [],
     "prompt_number": 119
    },
    {
     "cell_type": "code",
     "collapsed": false,
     "input": [
      "!wget -P ./data ftp://ftp.cpc.ncep.noaa.gov/wd52dg/data/indices/ersst3b.nino.mth.81-10.ascii"
     ],
     "language": "python",
     "metadata": {},
     "outputs": []
    },
    {
     "cell_type": "code",
     "collapsed": false,
     "input": [
      "data = pd.read_table('./data/ersst3b.nino.mth.81-10.ascii', sep='\\s+') #the '\\s+' is a regular expression meaning any number of spaces"
     ],
     "language": "python",
     "metadata": {},
     "outputs": [],
     "prompt_number": 122
    },
    {
     "cell_type": "code",
     "collapsed": false,
     "input": [
      "# if the network confirguration allows it, you can read directly off the URL (ftp):\n",
      "\n",
      "#data = pd.read_table(url, sep='\\s+')"
     ],
     "language": "python",
     "metadata": {},
     "outputs": []
    },
    {
     "cell_type": "code",
     "collapsed": false,
     "input": [
      "data.tail()"
     ],
     "language": "python",
     "metadata": {},
     "outputs": [
      {
       "html": [
        "<div style=\"max-height:1000px;max-width:1500px;overflow:auto;\">\n",
        "<table border=\"1\" class=\"dataframe\">\n",
        "  <thead>\n",
        "    <tr style=\"text-align: right;\">\n",
        "      <th></th>\n",
        "      <th>YR</th>\n",
        "      <th>MON</th>\n",
        "      <th>NINO1+2</th>\n",
        "      <th>ANOM</th>\n",
        "      <th>NINO3</th>\n",
        "      <th>ANOM.1</th>\n",
        "      <th>NINO4</th>\n",
        "      <th>ANOM.2</th>\n",
        "      <th>NINO3.4</th>\n",
        "      <th>ANOM.3</th>\n",
        "    </tr>\n",
        "  </thead>\n",
        "  <tbody>\n",
        "    <tr>\n",
        "      <th>763</th>\n",
        "      <td> 2013</td>\n",
        "      <td>  8</td>\n",
        "      <td> 19.99</td>\n",
        "      <td>-1.11</td>\n",
        "      <td> 24.56</td>\n",
        "      <td>-0.64</td>\n",
        "      <td> 28.64</td>\n",
        "      <td>-0.08</td>\n",
        "      <td> 26.56</td>\n",
        "      <td>-0.37</td>\n",
        "    </tr>\n",
        "    <tr>\n",
        "      <th>764</th>\n",
        "      <td> 2013</td>\n",
        "      <td>  9</td>\n",
        "      <td> 20.04</td>\n",
        "      <td>-0.84</td>\n",
        "      <td> 24.54</td>\n",
        "      <td>-0.49</td>\n",
        "      <td> 28.68</td>\n",
        "      <td>-0.03</td>\n",
        "      <td> 26.55</td>\n",
        "      <td>-0.27</td>\n",
        "    </tr>\n",
        "    <tr>\n",
        "      <th>765</th>\n",
        "      <td> 2013</td>\n",
        "      <td> 10</td>\n",
        "      <td> 20.44</td>\n",
        "      <td>-0.76</td>\n",
        "      <td> 24.87</td>\n",
        "      <td>-0.20</td>\n",
        "      <td> 28.74</td>\n",
        "      <td> 0.02</td>\n",
        "      <td> 26.65</td>\n",
        "      <td>-0.14</td>\n",
        "    </tr>\n",
        "    <tr>\n",
        "      <th>766</th>\n",
        "      <td> 2013</td>\n",
        "      <td> 11</td>\n",
        "      <td> 21.49</td>\n",
        "      <td>-0.33</td>\n",
        "      <td> 24.93</td>\n",
        "      <td>-0.21</td>\n",
        "      <td> 28.54</td>\n",
        "      <td>-0.11</td>\n",
        "      <td> 26.54</td>\n",
        "      <td>-0.19</td>\n",
        "    </tr>\n",
        "    <tr>\n",
        "      <th>767</th>\n",
        "      <td> 2013</td>\n",
        "      <td> 12</td>\n",
        "      <td> 22.58</td>\n",
        "      <td>-0.43</td>\n",
        "      <td> 25.03</td>\n",
        "      <td>-0.28</td>\n",
        "      <td> 28.32</td>\n",
        "      <td>-0.21</td>\n",
        "      <td> 26.26</td>\n",
        "      <td>-0.43</td>\n",
        "    </tr>\n",
        "  </tbody>\n",
        "</table>\n",
        "</div>"
       ],
       "metadata": {},
       "output_type": "pyout",
       "prompt_number": 123,
       "text": [
        "       YR  MON  NINO1+2  ANOM  NINO3  ANOM.1  NINO4  ANOM.2  NINO3.4  ANOM.3\n",
        "763  2013    8    19.99 -1.11  24.56   -0.64  28.64   -0.08    26.56   -0.37\n",
        "764  2013    9    20.04 -0.84  24.54   -0.49  28.68   -0.03    26.55   -0.27\n",
        "765  2013   10    20.44 -0.76  24.87   -0.20  28.74    0.02    26.65   -0.14\n",
        "766  2013   11    21.49 -0.33  24.93   -0.21  28.54   -0.11    26.54   -0.19\n",
        "767  2013   12    22.58 -0.43  25.03   -0.28  28.32   -0.21    26.26   -0.43"
       ]
      }
     ],
     "prompt_number": 123
    },
    {
     "cell_type": "markdown",
     "metadata": {},
     "source": [
      "I only keep the raw - monthly - values of NINO 3.4 "
     ]
    },
    {
     "cell_type": "code",
     "collapsed": false,
     "input": [
      "nino = data[['YR','MON','NINO3.4']]"
     ],
     "language": "python",
     "metadata": {},
     "outputs": [],
     "prompt_number": 124
    },
    {
     "cell_type": "code",
     "collapsed": false,
     "input": [
      "nino.tail()"
     ],
     "language": "python",
     "metadata": {},
     "outputs": [
      {
       "html": [
        "<div style=\"max-height:1000px;max-width:1500px;overflow:auto;\">\n",
        "<table border=\"1\" class=\"dataframe\">\n",
        "  <thead>\n",
        "    <tr style=\"text-align: right;\">\n",
        "      <th></th>\n",
        "      <th>YR</th>\n",
        "      <th>MON</th>\n",
        "      <th>NINO3.4</th>\n",
        "    </tr>\n",
        "  </thead>\n",
        "  <tbody>\n",
        "    <tr>\n",
        "      <th>763</th>\n",
        "      <td> 2013</td>\n",
        "      <td>  8</td>\n",
        "      <td> 26.56</td>\n",
        "    </tr>\n",
        "    <tr>\n",
        "      <th>764</th>\n",
        "      <td> 2013</td>\n",
        "      <td>  9</td>\n",
        "      <td> 26.55</td>\n",
        "    </tr>\n",
        "    <tr>\n",
        "      <th>765</th>\n",
        "      <td> 2013</td>\n",
        "      <td> 10</td>\n",
        "      <td> 26.65</td>\n",
        "    </tr>\n",
        "    <tr>\n",
        "      <th>766</th>\n",
        "      <td> 2013</td>\n",
        "      <td> 11</td>\n",
        "      <td> 26.54</td>\n",
        "    </tr>\n",
        "    <tr>\n",
        "      <th>767</th>\n",
        "      <td> 2013</td>\n",
        "      <td> 12</td>\n",
        "      <td> 26.26</td>\n",
        "    </tr>\n",
        "  </tbody>\n",
        "</table>\n",
        "</div>"
       ],
       "metadata": {},
       "output_type": "pyout",
       "prompt_number": 125,
       "text": [
        "       YR  MON  NINO3.4\n",
        "763  2013    8    26.56\n",
        "764  2013    9    26.55\n",
        "765  2013   10    26.65\n",
        "766  2013   11    26.54\n",
        "767  2013   12    26.26"
       ]
      }
     ],
     "prompt_number": 125
    },
    {
     "cell_type": "markdown",
     "metadata": {},
     "source": [
      "Now I want to calculate a climatology (over the whole period available)\n",
      "\n",
      "I first group by UNIQUE values of the variable months, I should get 12 groups"
     ]
    },
    {
     "cell_type": "code",
     "collapsed": false,
     "input": [
      "groups = nino.groupby('MON')"
     ],
     "language": "python",
     "metadata": {},
     "outputs": [],
     "prompt_number": 126
    },
    {
     "cell_type": "code",
     "collapsed": false,
     "input": [
      "for month, group in groups:\n",
      "    print month\n",
      "    print group.head()"
     ],
     "language": "python",
     "metadata": {},
     "outputs": [
      {
       "output_type": "stream",
       "stream": "stdout",
       "text": [
        "1\n",
        "      YR  MON  NINO3.4\n",
        "0   1950    1    24.83\n",
        "12  1951    1    25.46\n",
        "24  1952    1    26.85\n",
        "36  1953    1    26.85\n",
        "48  1954    1    27.03\n",
        "2\n",
        "      YR  MON  NINO3.4\n",
        "1   1950    2    25.20\n",
        "13  1951    2    25.78\n",
        "25  1952    2    26.79\n",
        "37  1953    2    27.19\n",
        "49  1954    2    27.22\n",
        "3\n",
        "      YR  MON  NINO3.4\n",
        "2   1950    3    26.03\n",
        "14  1951    3    26.72\n",
        "26  1952    3    27.32\n",
        "38  1953    3    27.68\n",
        "50  1954    3    27.21\n",
        "4\n",
        "      YR  MON  NINO3.4\n",
        "3   1950    4    26.36\n",
        "15  1951    4    27.24\n",
        "27  1952    4    27.88\n",
        "39  1953    4    28.19\n",
        "51  1954    4    26.87\n",
        "5\n",
        "      YR  MON  NINO3.4\n",
        "4   1950    5    26.19\n",
        "16  1951    5    27.68\n",
        "28  1952    5    27.99\n",
        "40  1953    5    28.29\n",
        "52  1954    5    27.06\n",
        "6\n",
        "      YR  MON  NINO3.4\n",
        "5   1950    6    26.52\n",
        "17  1951    6    27.46\n",
        "29  1952    6    27.33\n",
        "41  1953    6    28.02\n",
        "53  1954    6    26.93\n",
        "7\n",
        "      YR  MON  NINO3.4\n",
        "6   1950    7    26.42\n",
        "18  1951    7    27.72\n",
        "30  1952    7    26.72\n",
        "42  1953    7    27.52\n",
        "54  1954    7    26.37\n",
        "8\n",
        "      YR  MON  NINO3.4\n",
        "7   1950    8    25.98\n",
        "19  1951    8    27.36\n",
        "31  1952    8    26.46\n",
        "43  1953    8    27.16\n",
        "55  1954    8    25.73\n",
        "9\n",
        "      YR  MON  NINO3.4\n",
        "8   1950    9    25.78\n",
        "20  1951    9    27.51\n",
        "32  1952    9    26.54\n",
        "44  1953    9    27.13\n",
        "56  1954    9    25.38\n",
        "10\n",
        "      YR  MON  NINO3.4\n",
        "9   1950   10    25.96\n",
        "21  1951   10    27.43\n",
        "33  1952   10    26.54\n",
        "45  1953   10    27.02\n",
        "57  1954   10    25.51\n",
        "11\n",
        "      YR  MON  NINO3.4\n",
        "10  1950   11    25.64\n",
        "22  1951   11    27.48\n",
        "34  1952   11    26.36\n",
        "46  1953   11    26.96\n",
        "58  1954   11    25.67\n",
        "12\n",
        "      YR  MON  NINO3.4\n",
        "11  1950   12    25.50\n",
        "23  1951   12    27.12\n",
        "35  1952   12    26.53\n",
        "47  1953   12    26.99\n",
        "59  1954   12    25.37\n"
       ]
      }
     ],
     "prompt_number": 127
    },
    {
     "cell_type": "code",
     "collapsed": false,
     "input": [
      "climatology = groups.mean()"
     ],
     "language": "python",
     "metadata": {},
     "outputs": [],
     "prompt_number": 128
    },
    {
     "cell_type": "markdown",
     "metadata": {},
     "source": [
      "Same as \n",
      "\n",
      "    climatology = groups.aggregate(np.mean)\n",
      "    \n",
      "    "
     ]
    },
    {
     "cell_type": "code",
     "collapsed": false,
     "input": [
      "climatology['NINO3.4'].head(12)"
     ],
     "language": "python",
     "metadata": {},
     "outputs": [
      {
       "metadata": {},
       "output_type": "pyout",
       "prompt_number": 129,
       "text": [
        "MON\n",
        "1      26.491719\n",
        "2      26.686719\n",
        "3      27.189531\n",
        "4      27.622969\n",
        "5      27.733125\n",
        "6      27.540469\n",
        "7      27.149531\n",
        "8      26.764531\n",
        "9      26.667344\n",
        "10     26.632656\n",
        "11     26.593750\n",
        "12     26.530000\n",
        "Name: NINO3.4, dtype: float64"
       ]
      }
     ],
     "prompt_number": 129
    },
    {
     "cell_type": "code",
     "collapsed": false,
     "input": [
      "f, ax = plt.subplots()\n",
      "\n",
      "climatology['NINO3.4'].plot(ax=ax, kind='bar',ylim=[26,28], rot=0, width=0.9)\n",
      "\n",
      "ax.set_xticklabels(list('JFMAMJJASOND'));\n",
      "\n",
      "f.savefig('./climatology.pdf')"
     ],
     "language": "python",
     "metadata": {},
     "outputs": [
      {
       "metadata": {},
       "output_type": "display_data",
       "png": "[encoded data removed]",
       "text": [
        "<matplotlib.figure.Figure at 0x10c540310>"
       ]
      }
     ],
     "prompt_number": 130
    },
    {
     "cell_type": "markdown",
     "metadata": {},
     "source": [
      "Now suppose we want to apply a function that doesnt **aggregate** the values in the groups (such as *sum*, or *mean*) but rather want to **apply a function** to those values ... \n",
      "\n",
      "An example would be calculating the standardized anomalies per month (to each value subtract the mean of the corresponding month, then divide by the standard-deviation)"
     ]
    },
    {
     "cell_type": "code",
     "collapsed": false,
     "input": [
      "def zscore(x): \n",
      "    z = (x - x.mean()) / x.std()\n",
      "    return z"
     ],
     "language": "python",
     "metadata": {},
     "outputs": [],
     "prompt_number": 131
    },
    {
     "cell_type": "code",
     "collapsed": false,
     "input": [
      "transformed = nino.groupby(nino.MON).apply(zscore)"
     ],
     "language": "python",
     "metadata": {},
     "outputs": [],
     "prompt_number": 132
    },
    {
     "cell_type": "code",
     "collapsed": false,
     "input": [
      "transformed['NINO3.4'].plot()"
     ],
     "language": "python",
     "metadata": {},
     "outputs": [
      {
       "metadata": {},
       "output_type": "pyout",
       "prompt_number": 133,
       "text": [
        "<matplotlib.axes._subplots.AxesSubplot at 0x10a6b0790>"
       ]
      },
      {
       "metadata": {},
       "output_type": "display_data",
       "png": "[encoded data removed]",
       "text": [
        "<matplotlib.figure.Figure at 0x10c84eed0>"
       ]
      }
     ],
     "prompt_number": 133
    },
    {
     "cell_type": "markdown",
     "metadata": {},
     "source": [
      "Now we want calculate (just) the anomalies WRT to the climatology, but with a ** *normal* established over 1980 - 2010**"
     ]
    },
    {
     "cell_type": "code",
     "collapsed": false,
     "input": [
      "nino.head()"
     ],
     "language": "python",
     "metadata": {},
     "outputs": [
      {
       "html": [
        "<div style=\"max-height:1000px;max-width:1500px;overflow:auto;\">\n",
        "<table border=\"1\" class=\"dataframe\">\n",
        "  <thead>\n",
        "    <tr style=\"text-align: right;\">\n",
        "      <th></th>\n",
        "      <th>YR</th>\n",
        "      <th>MON</th>\n",
        "      <th>NINO3.4</th>\n",
        "    </tr>\n",
        "  </thead>\n",
        "  <tbody>\n",
        "    <tr>\n",
        "      <th>0</th>\n",
        "      <td> 1950</td>\n",
        "      <td> 1</td>\n",
        "      <td> 24.83</td>\n",
        "    </tr>\n",
        "    <tr>\n",
        "      <th>1</th>\n",
        "      <td> 1950</td>\n",
        "      <td> 2</td>\n",
        "      <td> 25.20</td>\n",
        "    </tr>\n",
        "    <tr>\n",
        "      <th>2</th>\n",
        "      <td> 1950</td>\n",
        "      <td> 3</td>\n",
        "      <td> 26.03</td>\n",
        "    </tr>\n",
        "    <tr>\n",
        "      <th>3</th>\n",
        "      <td> 1950</td>\n",
        "      <td> 4</td>\n",
        "      <td> 26.36</td>\n",
        "    </tr>\n",
        "    <tr>\n",
        "      <th>4</th>\n",
        "      <td> 1950</td>\n",
        "      <td> 5</td>\n",
        "      <td> 26.19</td>\n",
        "    </tr>\n",
        "  </tbody>\n",
        "</table>\n",
        "</div>"
       ],
       "metadata": {},
       "output_type": "pyout",
       "prompt_number": 134,
       "text": [
        "     YR  MON  NINO3.4\n",
        "0  1950    1    24.83\n",
        "1  1950    2    25.20\n",
        "2  1950    3    26.03\n",
        "3  1950    4    26.36\n",
        "4  1950    5    26.19"
       ]
      }
     ],
     "prompt_number": 134
    },
    {
     "cell_type": "markdown",
     "metadata": {},
     "source": [
      "we can make use of the *query* method of Pandas DataFrames to select the climatological period"
     ]
    },
    {
     "cell_type": "code",
     "collapsed": false,
     "input": [
      "nino.query('YR >= 1981 & YR <= 2000').head()"
     ],
     "language": "python",
     "metadata": {},
     "outputs": [
      {
       "html": [
        "<div style=\"max-height:1000px;max-width:1500px;overflow:auto;\">\n",
        "<table border=\"1\" class=\"dataframe\">\n",
        "  <thead>\n",
        "    <tr style=\"text-align: right;\">\n",
        "      <th></th>\n",
        "      <th>YR</th>\n",
        "      <th>MON</th>\n",
        "      <th>NINO3.4</th>\n",
        "    </tr>\n",
        "  </thead>\n",
        "  <tbody>\n",
        "    <tr>\n",
        "      <th>372</th>\n",
        "      <td> 1981</td>\n",
        "      <td> 1</td>\n",
        "      <td> 26.17</td>\n",
        "    </tr>\n",
        "    <tr>\n",
        "      <th>373</th>\n",
        "      <td> 1981</td>\n",
        "      <td> 2</td>\n",
        "      <td> 26.13</td>\n",
        "    </tr>\n",
        "    <tr>\n",
        "      <th>374</th>\n",
        "      <td> 1981</td>\n",
        "      <td> 3</td>\n",
        "      <td> 26.75</td>\n",
        "    </tr>\n",
        "    <tr>\n",
        "      <th>375</th>\n",
        "      <td> 1981</td>\n",
        "      <td> 4</td>\n",
        "      <td> 27.32</td>\n",
        "    </tr>\n",
        "    <tr>\n",
        "      <th>376</th>\n",
        "      <td> 1981</td>\n",
        "      <td> 5</td>\n",
        "      <td> 27.41</td>\n",
        "    </tr>\n",
        "  </tbody>\n",
        "</table>\n",
        "</div>"
       ],
       "metadata": {},
       "output_type": "pyout",
       "prompt_number": 135,
       "text": [
        "       YR  MON  NINO3.4\n",
        "372  1981    1    26.17\n",
        "373  1981    2    26.13\n",
        "374  1981    3    26.75\n",
        "375  1981    4    27.32\n",
        "376  1981    5    27.41"
       ]
      }
     ],
     "prompt_number": 135
    },
    {
     "cell_type": "code",
     "collapsed": false,
     "input": [
      "def demean(x): \n",
      "    z = x - x.query('YR >= 1981 & YR <= 2000').mean()\n",
      "    return z"
     ],
     "language": "python",
     "metadata": {},
     "outputs": [],
     "prompt_number": 136
    },
    {
     "cell_type": "code",
     "collapsed": false,
     "input": [
      "anoms = nino.groupby([nino.MON]).apply(demean)"
     ],
     "language": "python",
     "metadata": {},
     "outputs": [],
     "prompt_number": 137
    },
    {
     "cell_type": "code",
     "collapsed": false,
     "input": [
      "f, ax = plt.subplots(figsize=(10,6))\n",
      "anoms['NINO3.4'].plot()\n",
      "data['ANOM.3'].plot() # Should be the same"
     ],
     "language": "python",
     "metadata": {},
     "outputs": [
      {
       "metadata": {},
       "output_type": "pyout",
       "prompt_number": 138,
       "text": [
        "<matplotlib.axes._subplots.AxesSubplot at 0x10a4c1410>"
       ]
      },
      {
       "metadata": {},
       "output_type": "display_data",
       "png": "[encoded data removed]",
       "text": [
        "<matplotlib.figure.Figure at 0x10c4cfa10>"
       ]
      }
     ],
     "prompt_number": 138
    },
    {
     "cell_type": "heading",
     "level": 3,
     "metadata": {},
     "source": [
      "Exercise"
     ]
    },
    {
     "cell_type": "markdown",
     "metadata": {},
     "source": [
      "The file [Daily_clim_data_Auckland.csv](./data/Daily_clim_data_Auckland.csv) in the `data` directory contains \n",
      "daily values for rainfall, minimum and maximum temperatures for Auckland from 1972 to now.  \n",
      "\n",
      "1. Read the data in a Pandas DataFrame, correctly setting up the index as a datetime object \n",
      "2. calculate monthly means for the temperature data, monthly totals for rainfall \n",
      "3. calculate and plot a climatology over the period 1981 - 2000 for all parameters \n",
      "4. calculate the anomalies WRT this climatology for all parameters \n",
      "5. plots the time-series of minimum and maximum temperature \n",
      "6. dig into the Scipy documentation to find how to calculate the linear trend over the period for the temperature data \n",
      "7. calculate and plot the trend \n",
      "8. Contact the [New Zealand Climate Science Coalition](http://www.nzclimatescience.org/)"
     ]
    },
    {
     "cell_type": "heading",
     "level": 3,
     "metadata": {},
     "source": [
      "Some more data manipulation with Pandas"
     ]
    },
    {
     "cell_type": "markdown",
     "metadata": {},
     "source": [
      "This is some real data provided by Dan Smale (NIWA Lauder). It is a summary file of daily QA/QC (data quality) diagnostics of raw GPS data collected at NIWA Lauder. The GPS data can be used to infer the amount of total column water vapour in the atmosphere (above Lauder).\n",
      "\n",
      "Summary of data\n",
      "/data/gruan/gnss_processing/data/netr9_laud/rinex_211/LAUD0010.13S:SUM 13  1  1 00:00 13  1  1 23:59 24.00  30  25298  23597  93  0.57  0.43  11799\n",
      "\n",
      "+ 13  1  1 00:00 13  1  1 23:59: time period the QC/QA variables are calculated for.\n",
      "+ 24 = number of hourly entries\n",
      "+ 30 = dt\n",
      "+ 25298  = #expt = number of data points expected\n",
      "+ 23597  = #have = number of data points collected\n",
      "+ 93  =% #have/#expt*100\n",
      "+ 0.57 = mp1 = mean path 1\n",
      "+ 0.43  = mp2 = mean path 2\n",
      "+ 11799 =o/slps = number of time slips\n"
     ]
    },
    {
     "cell_type": "code",
     "collapsed": false,
     "input": [
      "data = pd.read_table('./data/teqc_SUM.dat', sep='\\s+', header=None) ## the '\\s+' is a regular expression"
     ],
     "language": "python",
     "metadata": {},
     "outputs": []
    },
    {
     "cell_type": "code",
     "collapsed": false,
     "input": [
      "data.head()"
     ],
     "language": "python",
     "metadata": {},
     "outputs": []
    },
    {
     "cell_type": "code",
     "collapsed": false,
     "input": [
      "data = pd.read_table('./data/teqc_SUM.dat', header=None, sep='\\s+', \\\n",
      "                     names=['path','year1','m1','d1','t1','year2','m2','d2','t2','nh','nd','c1','c2','c3','c4','c5','c6'])\n",
      "                                    "
     ],
     "language": "python",
     "metadata": {},
     "outputs": []
    },
    {
     "cell_type": "code",
     "collapsed": false,
     "input": [
      "data.head()"
     ],
     "language": "python",
     "metadata": {},
     "outputs": []
    },
    {
     "cell_type": "markdown",
     "metadata": {},
     "source": [
      "We want the index (row wise) to properly represent datetime info "
     ]
    },
    {
     "cell_type": "code",
     "collapsed": false,
     "input": [
      "from datetime import datetime"
     ],
     "language": "python",
     "metadata": {},
     "outputs": []
    },
    {
     "cell_type": "code",
     "collapsed": false,
     "input": [
      "data.index = [datetime(y,m,d) for y,m,d in zip(data.year1+2000,data.m1,data.d1)]  # note that we are using list comprehension"
     ],
     "language": "python",
     "metadata": {},
     "outputs": []
    },
    {
     "cell_type": "code",
     "collapsed": false,
     "input": [
      "data.head()"
     ],
     "language": "python",
     "metadata": {},
     "outputs": []
    },
    {
     "cell_type": "code",
     "collapsed": false,
     "input": [
      "data.pop('path') # we pop the 'path' variable, ve careful it operates in place"
     ],
     "language": "python",
     "metadata": {},
     "outputs": []
    },
    {
     "cell_type": "code",
     "collapsed": false,
     "input": [
      "data.head()"
     ],
     "language": "python",
     "metadata": {},
     "outputs": []
    },
    {
     "cell_type": "markdown",
     "metadata": {},
     "source": [
      "Sort the dataframe according to the index values (rowwise)  \n",
      "\n",
      "Note that for plotting purposes, you don't even have to do that, pandas + matplotlib understand that the dates need to be in chronological order  "
     ]
    },
    {
     "cell_type": "code",
     "collapsed": false,
     "input": [
      "data2 = data.sort()"
     ],
     "language": "python",
     "metadata": {},
     "outputs": []
    },
    {
     "cell_type": "code",
     "collapsed": false,
     "input": [
      "data2.head()"
     ],
     "language": "python",
     "metadata": {},
     "outputs": []
    },
    {
     "cell_type": "code",
     "collapsed": false,
     "input": [
      "data['c3'].plot(rot=90)"
     ],
     "language": "python",
     "metadata": {},
     "outputs": []
    },
    {
     "cell_type": "code",
     "collapsed": false,
     "input": [
      "plt.plot(data2.c3.values)"
     ],
     "language": "python",
     "metadata": {},
     "outputs": []
    },
    {
     "cell_type": "code",
     "collapsed": false,
     "input": [
      "data.columns"
     ],
     "language": "python",
     "metadata": {},
     "outputs": []
    },
    {
     "cell_type": "code",
     "collapsed": false,
     "input": [
      "data2 = data[data.columns[-6:]] \n",
      "# same as data2 = data[['c1','c2','c3','c4','c5','c6']] or data2 = data.ix[:,10::]"
     ],
     "language": "python",
     "metadata": {},
     "outputs": []
    },
    {
     "cell_type": "code",
     "collapsed": false,
     "input": [
      "data2.head()"
     ],
     "language": "python",
     "metadata": {},
     "outputs": []
    },
    {
     "cell_type": "code",
     "collapsed": false,
     "input": [
      "data2.plot(subplots=True, sharex=True, color='b', title='teqc_SUM', figsize=(14,13), rot=90)\n",
      "plt.savefig('teqc_SUM.pdf')"
     ],
     "language": "python",
     "metadata": {},
     "outputs": []
    }
   ],
   "metadata": {}
  }
 ]
}