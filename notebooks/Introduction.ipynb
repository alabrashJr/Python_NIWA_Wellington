{
 "metadata": {
  "name": "",
  "signature": "sha256:631873d7f1436860d8d97e55809ec17f675c36cc099f375a95b90bd3f900e4bd"
 },
 "nbformat": 3,
 "nbformat_minor": 0,
 "worksheets": [
  {
   "cells": [
    {
     "cell_type": "code",
     "collapsed": false,
     "input": [
      "%load_ext load_style\n",
      "%load_style talk.css"
     ],
     "language": "python",
     "metadata": {},
     "outputs": [
      {
       "html": [
        "<style>\n",
        "\n",
        ".rendered_html {\n",
        "    font-family: \"proxima-nova\", helvetica;\n",
        "    font-size: 130%;\n",
        "    line-height: 1.5;\n",
        "}\n",
        "\n",
        ".rendered_html h1 {\n",
        "    margin: 0.25em 0em 0.5em;\n",
        "    color: #015C9C;\n",
        "    text-align: center;\n",
        "    line-height: 1.2; \n",
        "    page-break-before: always;\n",
        "}\n",
        "\n",
        ".rendered_html h2 {\n",
        "    margin: 1.1em 0em 0.5em;\n",
        "    color: #26465D;\n",
        "    line-height: 1.2;\n",
        "}\n",
        "\n",
        ".rendered_html h3 {\n",
        "    margin: 1.1em 0em 0.5em;\n",
        "    color: #002845;\n",
        "    line-height: 1.2;\n",
        "}\n",
        "\n",
        ".rendered_html li {\n",
        "    line-height: 1.5; \n",
        "}\n",
        "\n",
        "/*.prompt {\n",
        "    font-size: 120%; \n",
        "}*/\n",
        "\n",
        ".CodeMirror-lines {\n",
        "    font-size: 110%; \n",
        "}\n",
        "\n",
        "/*.output_area {\n",
        "    font-size: 120%; \n",
        "}*/\n",
        "\n",
        "/*#notebook {\n",
        "    background-image: url('files/images/witewall_3.png');\n",
        "}*/\n",
        "\n",
        "h1.bigtitle {\n",
        "    margin: 4cm 1cm 4cm 1cm;\n",
        "    font-size: 300%;\n",
        "}\n",
        "\n",
        "h3.point {\n",
        "    font-size: 200%;\n",
        "    text-align: center;\n",
        "    margin: 2em 0em 2em 0em;\n",
        "    #26465D\n",
        "}\n",
        "\n",
        ".logo {\n",
        "    margin: 20px 0 20px 0;\n",
        "}\n",
        "\n",
        "a.anchor-link {\n",
        "    display: none;\n",
        "}\n",
        "\n",
        "h1.title { \n",
        "    font-size: 250%;\n",
        "}\n",
        "\n",
        "</style>"
       ],
       "metadata": {},
       "output_type": "display_data",
       "text": [
        "<IPython.core.display.HTML at 0x10447ae50>"
       ]
      }
     ],
     "prompt_number": 1
    },
    {
     "cell_type": "markdown",
     "metadata": {},
     "source": [
      "<hr size=5>\n",
      "\n",
      "**PYTHON tutorial** \n",
      "\n",
      "**26 November 2014** \n",
      "\n",
      "**NIWA Wellington**\n",
      "\n",
      "Email: <mailto:Nicolas.Fauchereau@gmail.com>, <mailto:Nicolas.Fauchereau@niwa.co.nz>\n",
      "\n",
      "twitter: <a href=\"https://twitter.com/NFauchereau\" class=\"twitter-follow-button\" data-show-count=\"false\" data-size=\"large\">@NFauchereau</a>\n",
      "<script>!function(d,s,id){var js,fjs=d.getElementsByTagName(s)[0],p=/^http:/.test(d.location)?'http':'https';if(!d.getElementById(id)){js=d.createElement(s);js.id=id;js.src=p+'://platform.twitter.com/widgets.js';fjs.parentNode.insertBefore(js,fjs);}}(document, 'script', 'twitter-wjs');</script>\n",
      "\n",
      "All the material is available at:\n",
      "\n",
      "http://nicolasfauchereau.github.io/Python_NIWA_Wellington\n",
      "\n",
      "If you have git installed, you can clone my repository (from the command line): \n",
      "\n",
      "    git clone https://github.com/nicolasfauchereau/Python_NIWA_Wellington\n",
      "\n",
      "<hr size=5>"
     ]
    },
    {
     "cell_type": "heading",
     "level": 2,
     "metadata": {},
     "source": [
      "Setting up your environment for NIWA machines on NIWA's network"
     ]
    },
    {
     "cell_type": "markdown",
     "metadata": {},
     "source": [
      "As you may have experienced, there are possible issues installing libraries (via the conda and pip commands) or running \n",
      "the ipython notebook when using a machine on NIWA's network.  \n",
      "\n",
      "This is mostly related to the fact that all connections through http: are going through a proxy\n",
      "\n",
      "A few workaround possible: \n",
      "    \n",
      "1. Use the guest wifi network !\n",
      "\n",
      "2. Set up the proxy in your system preferences, i.e.:\n",
      "    * **Windows machines**: go to `Control Panel | System | Advanced Systems Settings | Advanced Tab | Environment Variables | System Variables | New`  \n",
      "        \n",
      "        then create:\n",
      "            * HTTP_PROXY=http://proxy:port\n",
      "            * HTTPS_PROXY=http://proxy:port\n",
      "            \n",
      "    * Macs: edit the **.bash_profile** file in your home directory and add: \n",
      "    \n",
      "            * export http_proxy=http://proxy:port\n",
      "            * export https_proxy=http://proxy:port\n",
      "            \n",
      "         or open `System Preferences | Network | Advanced | Proxies`  \n",
      "            \n",
      "         and set up the corresponding *Web Proxy (http)* and *Secure Web Proxy (https)* values \n",
      "         \n",
      "    * Linux: edit the **.bashrc** file in your home directory and add:\n",
      "    \n",
      "            * export http_proxy=http://proxy_:port\n",
      "            * export https_proxy=http://proxy:port\n",
      "            \n",
      "If you can't open the notebooks, launch IPython notebook without a web-browser by entering the commmand: \n",
      "\n",
      "    $ ipython notebook --no-browser \n",
      "    \n",
      "and look for the line that says something like \n",
      "\n",
      "    The IPython Notebook is running at: http://localhost:8000/\n",
      "    \n",
      "copy http://localhost:8000/ in the address bar of Firefox (or Chrome or Safari, but NOT Internet Explorer)"
     ]
    },
    {
     "cell_type": "heading",
     "level": 2,
     "metadata": {},
     "source": [
      "Structure of the repository"
     ]
    },
    {
     "cell_type": "markdown",
     "metadata": {},
     "source": [
      "Following the links open the executable IPython notebooks\n",
      "\n",
      "1. [Introduction (this notebook)](./Introduction.ipynb)\n",
      "2. [The IPython notebook](./IPython_notebook.ipynb)\n",
      "3. [IPython notebook widgets](./IPython_widgets.ipynb)  \n",
      "\n",
      "4. [Numpy](./Numpy.ipynb)\n",
      "5. [Scipy](./Scipy.ipynb)\n",
      "6. [Matplotlib and Basemap](./Matplotlib_Basemap.ipynb)\n",
      "7. [Beyond Matplotlib: Interactive plots in the browser](./Interactive_plots.ipynb) \n",
      "8. [Pandas](./Pandas.ipynb)  \n",
      "9. [statsmodels and scikit-learn](./statistical_modelling.ipynb)\n",
      "      \n",
      "<hr size=5>"
     ]
    },
    {
     "cell_type": "heading",
     "level": 2,
     "metadata": {},
     "source": [
      "Installing and using the anaconda python distribution "
     ]
    },
    {
     "cell_type": "markdown",
     "metadata": {},
     "source": [
      "For this tutorial, I recommend installing the **Anaconda Python distribution**. It is a completely free enterprise-ready Python distribution for large-scale data processing, predictive analytics, and scientific computing. It includes the python interpreter itself, the python standard library as well as a set of packages exposing data structures and methods for data manipulation and scientific computing and visualization. In particular it provides [Numpy](http://www.numpy.org/), [Scipy](http://www.scipy.org/), [Pandas](http://pandas.pydata.org/), [Matplotlib](http://matplotlib.org/), [scikit-learn](http://scikit-learn.org/stable/) and [statmodels](http://statsmodels.sourceforge.net/), i.e. all the main packages we will be using during the tutorial. The full list of packages is available at:\n",
      "\n",
      "[http://docs.continuum.io/anaconda/pkgs.html](http://docs.continuum.io/anaconda/pkgs.html)\n",
      "\n",
      "The Anaconda python distribution must be downloaded from:\n",
      "\n",
      "[http://continuum.io/downloads](http://continuum.io/downloads)\n",
      "\n",
      "For your platform.\n",
      "\n",
      "Once you have installed Anaconda, you can update to the latest compatible versions of all the pre-installed packages by running:\n",
      "\n",
      "```\n",
      "conda update conda\n",
      "```\n",
      "\n",
      "Then\n",
      "\n",
      "```\n",
      "conda update anaconda\n",
      "```\n",
      "\n",
      "In a terminal.\n",
      "\n",
      "You also need to install [pip](https://github.com/pypa/pip) to install packages from the [Python Package Index](http://pypi.python.org/pypi).\n",
      "\n",
      "```\n",
      "conda install pip\n",
      "```"
     ]
    },
    {
     "cell_type": "heading",
     "level": 3,
     "metadata": {},
     "source": [
      "Installation of additional libraries"
     ]
    },
    {
     "cell_type": "markdown",
     "metadata": {},
     "source": [
      "While we might not have the time to cover them in depth during the tutorial, I would recommend that you have a look at a few extra libraries.\n",
      "\n",
      "### Basemap\n",
      "\n",
      "**Basemap** is a graphic library for plotting (static, publication quality) geographical maps (see [http://matplotlib.org/basemap/](http://matplotlib.org/basemap/)). **Basemap** is available directly in **Anaconda** using the conda package manager, install with:\n",
      "\n",
      "```\n",
      "$ conda install basemap\n",
      "```\n",
      "\n",
      "### Bokeh\n",
      "\n",
      "[Bokeh]() is a new interactive plotting library developed by the team behind **anaconda**: it is thus installable with conda (if not already installed):\n",
      "\n",
      "```\n",
      "$ conda install bokeh\n",
      "```\n",
      "\n",
      "### Seaborn\n",
      "\n",
      "[seaborn](http://web.stanford.edu/~mwaskom/software/seaborn/) is a Python visualization library based on matplotlib. It provides a high-level interface for drawing attractive statistical graphics. You should be able to install it with ```conda```:\n",
      "\n",
      "```\n",
      "$ conda install seaborn\n",
      "```\n",
      "\n",
      "### mplD3\n",
      "\n",
      "[mplD3](http://mpld3.github.io/) aims at *bringing matplotlib to the browser*. It has been developed by Jake VanDerPlas. It is also installable by ```pip```:\n",
      "\n",
      "```\n",
      "$ pip install mpld3\n",
      "```\n",
      "\n",
      "### bearcart\n",
      "\n",
      "[bearcart](https://github.com/wrobstory/bearcart) has been developed by [Rob Story](http://wrobstory.github.io/) and provides an interface to the rickshaw JavaScript library. It is also installable via ```pip```:\n",
      "\n",
      "```\n",
      "$ pip install bearcart\n",
      "```\n",
      "\n",
      "### folium\n",
      "\n",
      "[folium](https://github.com/wrobstory/folium)  has been also been developed by [Rob Story](http://wrobstory.github.io/) to provide an interface to the [leaflet.js](http://leafletjs.com/) JavaScript mapping library. Install with:\n",
      "\n",
      "```\n",
      "$ pip install folium\n",
      "```\n",
      "\n",
      "<hr size=5>"
     ]
    },
    {
     "cell_type": "heading",
     "level": 2,
     "metadata": {},
     "source": [
      "Running or visualizing the material"
     ]
    },
    {
     "cell_type": "markdown",
     "metadata": {},
     "source": [
      "Once the [Anaconda scientific python distribution](https://store.continuum.io/cshop/anaconda/) has been installed: \n",
      "    \n",
      "1. navigate (in the terminal) to the directory where you have unpacked or cloned my repository (`*.ipynb` files should be present)  \n",
      "\n",
      "2. run: \n",
      "\n",
      "```\n",
      "${HOME}/anaconda/bin/ipython notebook\n",
      "```\n",
      "\n",
      "or simply: \n",
      "\n",
      "```\n",
      "ipython notebook\n",
      "```\n",
      "\n",
      "3. Open [test.ipynb](./test.ipynb) and in the menu bar select `Cell / Run all` to see if everything installed fine\n",
      "\n",
      "\n",
      "<hr size=5>"
     ]
    },
    {
     "cell_type": "heading",
     "level": 2,
     "metadata": {},
     "source": [
      "Pointers and resources"
     ]
    },
    {
     "cell_type": "markdown",
     "metadata": {},
     "source": [
      "Below a partial list of resources (in no particular order !)"
     ]
    },
    {
     "cell_type": "heading",
     "level": 3,
     "metadata": {},
     "source": [
      "Object Oriented Programming in Python "
     ]
    },
    {
     "cell_type": "markdown",
     "metadata": {},
     "source": [
      "+ [www.google.com](www.google.com)\n",
      "+ [A good tutorial by Alan Gauld](http://www.freenetpages.co.uk/hp/alan.gauld/tutclass.htm)\n",
      "+ The [classes](http://docs.python.org/2/tutorial/classes.html) entry from the official Python doc \n",
      "+ A short [pdf](http://www1.gly.bris.ac.uk/~walker/PythonEarthSci/PfES_3.pdf) from Andrew Walker's [Python for Earth Scientists](http://www1.gly.bris.ac.uk/~walker/PythonEarthSci/) course\n"
     ]
    },
    {
     "cell_type": "heading",
     "level": 3,
     "metadata": {},
     "source": [
      "Python as a glue: wrapping of C, C++, Fortran or the Cython module  \n"
     ]
    },
    {
     "cell_type": "markdown",
     "metadata": {},
     "source": [
      "+ [using python as a *glue*](http://docs.scipy.org/doc/numpy/user/c-info.python-as-glue.html)\n",
      "+ [SWIG (Simplified Wrapper and Interface Generator)](http://www.swig.org/Doc1.3/Python.html)\n",
      "+ [Cython](http://cython.org)\n",
      "+ [f2py](http://www.f2py.com/)\n",
      "+ [A notebook on using C and Fortran with Python](http://nbviewer.ipython.org/github/jrjohansson/scientific-python-lectures/blob/master/Lecture-6A-Fortran-and-C.ipynb)"
     ]
    },
    {
     "cell_type": "heading",
     "level": 3,
     "metadata": {},
     "source": [
      "Real-time acquisition, physical programming"
     ]
    },
    {
     "cell_type": "markdown",
     "metadata": {},
     "source": [
      "+ [pyserial](http://pyserial.sourceforge.net): Module that encapsulates the access for the serial port\n",
      "+ [Real World Instrumentation, Automated Data Acquisition and Control Systems](http://www.amazon.com/Real-World-Instrumentation-Python-Acquisition/dp/0596809565): A book available on Amazon.\n",
      "+ [Programming Raspberry Pi: Getting Started with Python](http://www.monkmakes.com/?page_id=63): book (not free) with code (free)\n",
      "+ [PyVISA](https://pyvisa.readthedocs.org/en/latest/): The PyVISA package enables you to control all kinds of measurement equipment through various busses (GPIB, RS232, USB) with Python programs"
     ]
    },
    {
     "cell_type": "heading",
     "level": 3,
     "metadata": {},
     "source": [
      "Image processing"
     ]
    },
    {
     "cell_type": "markdown",
     "metadata": {},
     "source": [
      "+ PIL [(Python Image Library)](http://www.pythonware.com/products/pil/): Image processing capabilities to your Python interpreter.\n",
      "+ [pillow](http://python-pillow.github.io/): A more user-friendly `fork` of PIL\n",
      "+ [scikit-image](http://scikit-image.org): more Image processing, built on top of Numpy / Scipy."
     ]
    },
    {
     "cell_type": "heading",
     "level": 3,
     "metadata": {},
     "source": [
      "Symbolic maths"
     ]
    },
    {
     "cell_type": "markdown",
     "metadata": {},
     "source": [
      "+ The [SymPy](www.sympy.org) library is a Python library for symbolic mathematics. It supports polynomials, calculus, solving equations, etc\n"
     ]
    },
    {
     "cell_type": "heading",
     "level": 3,
     "metadata": {},
     "source": [
      "Geospatial statistics"
     ]
    },
    {
     "cell_type": "markdown",
     "metadata": {},
     "source": [
      "+ [PySAL](http://pysal.readthedocs.org/en/v1.6/): PySAL is a cross-platform library of spatial analysis functions written in Python. It is intended to support the development of high level applications for spatial analysis.\n",
      "+ [GeoPandas](http://geopandas.org/): A project based on [Pandas](http://pandas.pydata.org/) to make working with geospatial data in python easier\n",
      "+ [Rasterio](https://github.com/mapbox/rasterio): Clean and fast and geospatial raster I/O with Numpy support, developed by the team at [https://www.mapbox.com/](https://www.mapbox.com/)\n",
      "+ [Pyproj](https://code.google.com/p/pyproj/): Performs cartographic transformations and geodetic computations. Wrapper around the Proj version 4 library\n",
      "+ [Python GDAL/OGR](https://pypi.python.org/pypi/GDAL/): Python bindings + tools around the Geospatial Data Abstraction Library"
     ]
    },
    {
     "cell_type": "heading",
     "level": 3,
     "metadata": {},
     "source": [
      "Biology, ecology"
     ]
    },
    {
     "cell_type": "markdown",
     "metadata": {},
     "source": [
      "+ [Biopython](http://biopython.org/wiki/Main_Page): Biopython is a set of freely available tools for biological computation written in Python by an international team of developers. \n",
      "+ [GeoEco](https://pypi.python.org/pypi/GeoEco): Open source geoprocessing toolbox designed for coastal and marine researchers and GIS analysts who work with spatially-explicit ecological and oceanographic data. For Windows (> XP) only.\n",
      "+ [Galaxy](http://galaxyproject.org/): Galaxy is a scientific workflow, data integration and data and analysis persistence and publishing platform that aims to make computational biology accessible to research scientists that do not have computer programming experience."
     ]
    },
    {
     "cell_type": "heading",
     "level": 3,
     "metadata": {},
     "source": [
      "Computational Fluid Dynamics and PDE solvers"
     ]
    },
    {
     "cell_type": "markdown",
     "metadata": {},
     "source": [
      "+ [CFD Python: 12 steps to Navier-Stokes](http://lorenabarba.com/blog/cfd-python-12-steps-to-navier-stokes/)\n",
      "+ [github repository for the above](https://github.com/barbagroup/CFDPython)\n",
      "+ [Python bindings to OpenFOAM](http://openfoamwiki.net/index.php/Contrib_PyFoam)\n",
      "+ [FiPy: A Finite Volume PDE Solver Using Python](http://matforge.org/fipy/)\n",
      "+ [\"Practical Numerical Methods with Python\" MOOC]()"
     ]
    },
    {
     "cell_type": "heading",
     "level": 3,
     "metadata": {},
     "source": [
      "Python on the GPU "
     ]
    },
    {
     "cell_type": "markdown",
     "metadata": {},
     "source": [
      "+ [PyCUDA](http://mathema.tician.de/software/pycuda/): PyCUDA lets you access Nvidia\u2018s CUDA parallel computation API from Python"
     ]
    },
    {
     "cell_type": "heading",
     "level": 3,
     "metadata": {},
     "source": [
      "Parallel computing with Python"
     ]
    },
    {
     "cell_type": "markdown",
     "metadata": {},
     "source": [
      "+ [IPython parallel introduction](http://ipython.org/ipython-doc/2/parallel/parallel_intro.html)\n",
      "+ [Interactive Parallel computing with IPython](https://www.youtube.com/watch?v=y4hgalfhc1Y&index=49&list=PLYx7XA2nY5GfuhCvStxgbynFNrxr3VFog): tutorials by Min. Raglan-Kelley at Scipy2014 (3 parts in the youtube list)\n",
      "+ [IPython parallel for distributed computing](https://www.youtube.com/watch?v=eyUeYnT-18s&index=32&list=PLs4CJRBY5F1Jm7H1dlesRvEgr-28QGXpR): A talk at PyCON Australia by Nathan Faggian"
     ]
    },
    {
     "cell_type": "heading",
     "level": 3,
     "metadata": {},
     "source": [
      "Signal processing in Python"
     ]
    },
    {
     "cell_type": "markdown",
     "metadata": {},
     "source": [
      "+ [scipy.signal](http://docs.scipy.org/doc/scipy/reference/tutorial/signal.html)\n",
      "+ [Python for signal processing blog](http://python-for-signal-processing.blogspot.co.nz/)\n",
      "+ [Python for signal processing github repository](https://github.com/unpingco/Python-for-Signal-Processing)\n",
      "+ [Python for signal processing book](http://www.springer.com/engineering/signals/book/978-3-319-01341-1)"
     ]
    },
    {
     "cell_type": "heading",
     "level": 3,
     "metadata": {},
     "source": [
      "Python for Matlab and R users "
     ]
    },
    {
     "cell_type": "markdown",
     "metadata": {},
     "source": [
      "+ [Moving from MATLAB matrices to NumPy arrays - A Matrix Cheatsheet](http://sebastianraschka.com/Articles/2014_matlab_vs_numpy.html)\n",
      "\n",
      "+ [NumPy for Matlab Users](http://wiki.scipy.org/NumPy_for_Matlab_Users)\n"
     ]
    },
    {
     "cell_type": "heading",
     "level": 3,
     "metadata": {},
     "source": [
      "Some URLs and blogs"
     ]
    },
    {
     "cell_type": "markdown",
     "metadata": {},
     "source": [
      "+ [Python Scientific Lectures Notes](http://scipy-lectures.github.io): Tutorial material on the scientific Python ecosystem, a quick introduction to central tools and techniques.\n",
      "\n",
      "+ [Python for earth scientists](http://www1.gly.bris.ac.uk/~walker/PythonEarthSci/): A two afternoons course by Andrew Walker (University of Bristol) on Python in the earth sciences. \n",
      "\n",
      "+ [oceanpython](http://oceanpython.org/): Python for oceanography \n",
      "\n",
      "+ [PyAOS](http://pyaos.johnny-lin.com/): Python for the Atmospheric and Oceanic Sciences \n",
      "\n",
      "+ [python4oceanographers](http://ocefpaf.github.io/): Learn python with examples applied to marine sciences.\n",
      "\n",
      "+ [Pythonic perambulations](http://jakevdp.github.io): A blog by Jake VanderPlas"
     ]
    },
    {
     "cell_type": "heading",
     "level": 3,
     "metadata": {},
     "source": [
      "Github repositories: notebooks and accompanying material"
     ]
    },
    {
     "cell_type": "markdown",
     "metadata": {},
     "source": [
      "+ [A gallery of interesting IPython Notebooks](https://github.com/ipython/ipython/wiki/A-gallery-of-interesting-IPython-Notebooks)\n",
      "\"...a curated collection of IPython notebooks that are notable for some reason.\"\n",
      "\n",
      "+ [Scikit-learn tutorial](https://github.com/jakevdp/sklearn_scipy2013): Files and other info associated with the Scipy 2013 scikit-learn tutorial developped by Ga\u00ebl Varoquaux, Olivier Grisel and Jake VanderPlas.\n",
      "\n",
      "+ [Statistical Analysis tutorial](https://github.com/fonnesbeck/statistical-analysis-python-tutorial) from Chris. Fonnesbeck. \n",
      "\n",
      "+ [AstroML: Machine Learning and Data Mining for Astronomy](http://www.astroml.org): A library and tutorial by Jake VanderPlas and co-authors, accompanying the book [Statistics, Data Mining, and Machine Learning in Astronomy](http://www.amazon.com/Statistics-Mining-Machine-Learning-Astronomy/dp/0691151687/)\n",
      "\n",
      "+ [Scientific Python lectures from Robert Johansson](https://github.com/jrjohansson/scientific-python-lectures)\n",
      "\n",
      "+ [Data Science in Python](http://blog.yhathq.com/posts/data-science-in-python-tutorial.html): A series of annotated notebooks on data science (i.e. geared towards machine learning) in python\n",
      "\n",
      "+ [http://earthpy.org/](http://earthpy.org/): EarthPy is a collection of IPython notebooks with examples of Earth Science related Python code\n"
     ]
    },
    {
     "cell_type": "heading",
     "level": 3,
     "metadata": {},
     "source": [
      "Some books "
     ]
    },
    {
     "cell_type": "markdown",
     "metadata": {},
     "source": [
      "+ [Python for Data Analysis](http://shop.oreilly.com/product/0636920023784.do): From Wes McKinney (Developer of [Pandas](www.pandas.pydata.org))\n",
      "\n",
      "+ [Think stats](http://www.greenteapress.com/thinkstats/): Probability and statistics for programmers, from Allen Downey, pdf available for free. \n",
      "\n",
      "+ [Think complexity](http://www.greenteapress.com/compmod/): Complexity science (graphs, cellular automata, agent-based models), from Allen Downey, pdf available for free.\n",
      "\n",
      "+ [Python in hydrology](http://www.greenteapress.com/pythonhydro/pythonhydro.html): A book freely available in pdf, from Sat Kumar Tomer.\n",
      "\n",
      "+ [Programming collective intelligence](http://shop.oreilly.com/product/9780596529321.do): By Toby Segaran, Good intro on (general) Machine Learning algorithms.\n",
      "\n",
      "+ [Machine Learning in action](http://www.manning.com/pharrington/): By Peter Harrington.\n",
      "\n",
      "+ [Introduction to Python for Econometrics, Statistics and Numerical Analysis: Second Edition](http://www.kevinsheppard.com/images/0/09/Python_introduction.pdf): By Kevin Sheppard, Oxford Uni.\n",
      "\n",
      "+ [A Hands-On Introduction to Using Python in the Atmospheric and Oceanic Sciences](http://www.johnny-lin.com/pyintro/): By [Johnny Lin](http://www.johnny-lin.com), Professor of physics and head of the Climate Research Group at North Park University.\n",
      "\n",
      "+ [principles of planetary climate](http://geosci.uchicago.edu/~rtp1/PrinciplesPlanetaryClimate/index.html): by Ray Pierrehumbert. Excellent book on the physics of planetary climates, with freely downloadable python code to follow the examples given in the book. "
     ]
    },
    {
     "cell_type": "heading",
     "level": 3,
     "metadata": {},
     "source": [
      "Some interesting libraries, built on top of the main Scientific stack"
     ]
    },
    {
     "cell_type": "markdown",
     "metadata": {},
     "source": [
      "+ [PYMC](http://pymc-devs.github.io/pymc/): By Chris Fonnesbeck, Bayesian statistical models and fitting algorithms, including Markov chain Monte Carlo. \n",
      "\n",
      "+ [Seaborn](http://www.stanford.edu/~mwaskom/software/seaborn/): Statistical data visualization, by Michael Waskom. Its [graphical representation of linear models](http://www.stanford.edu/~mwaskom/software/seaborn/linear_models.html) is particularly interesting. \n",
      "\n",
      "+ [ggplot](https://github.com/yhat/ggplot/): For [R](http://cran.r-project.org) users, a 'port' of the [ggplot2](http://ggplot2.org) package to Python, see [here](http://blog.yhathq.com/posts/ggplot-0.4-released.html) for what's new in the latest release. \n",
      "\n",
      "+ [coards](https://pypi.python.org/pypi/coards): A COARDS compliant time parser. See also [netcdftime](http://netcdf4-python.googlecode.com/svn/trunk/docs/netcdftime.netcdftime-module.html) which is part of the [NetCDF4 module](https://code.google.com/p/netcdf4-python/)\n",
      "\n",
      "+ [seawater](http://www.imr.no/~bjorn/python/seawater/index.html): Similar to the MATLAB toolboxes SEAWATER from CSIRO and parts of OCEANS from Woods Hole Institute.\n",
      "\n",
      "+ [fluid](https://pypi.python.org/pypi/fluid): Procedures to study fluids on Python, focused for oceanography, meteorology and related sciences.\n",
      "\n",
      "+ [kyPyWavelet](https://github.com/regeirk/kPyWavelet): Continuous wavelet transform module for Python *ala* Torrence and Compo. Some manual edits were necessary to make it work for me ... \n",
      "\n",
      "+ [pyresample](https://code.google.com/p/pyresample/): Resampling (reprojection) of geospatial image data in Python\n",
      "\n",
      "+ [Rpy2](http://rpy.sourceforge.net/rpy2.html): calling R from Python"
     ]
    },
    {
     "cell_type": "heading",
     "level": 3,
     "metadata": {},
     "source": [
      "Some articles on open and reproducible research"
     ]
    },
    {
     "cell_type": "markdown",
     "metadata": {},
     "source": [
      "+ [Reproducible Research in Computational Science](http://dx.doi.org/10.1126/science.1213847), Roger D. Peng, Science 334, 1226 (2011).\n",
      "\n",
      "+ [Shining Light into Black Boxes](http://dx.doi.org/10.1126/science.1218263), A. Morin et al., Science 336, 159-160 (2012).\n",
      " \n",
      "+ [The case for open computer programs](http://dx.doi.org/doi:10.1038/nature10836), D.C. Ince, Nature 482, 485 (2012).\n",
      "\n",
      "+ [Best practices for scientific computing](http://www.plosbiology.org/article/info%3Adoi%2F10.1371%2Fjournal.pbio.1001745): Paper in PLOS Biology exposing some of the tools and methods to build better Scientific software.\n"
     ]
    },
    {
     "cell_type": "heading",
     "level": 2,
     "metadata": {},
     "source": [
      "Acknowledgments"
     ]
    },
    {
     "cell_type": "markdown",
     "metadata": {},
     "source": [
      "In building this material, I have liberally '*borrowed*' from lecture notes, online notebooks, video recording of talks, code examples, articles, etc, that are freely available online, I would like to acknowledge in particular (list not exhaustive and in no particular order): \n",
      "\n",
      "+ [Fernando Perez](http://blog.fperez.org): Lead developper of [IPython](www.ipython.org), great advocate of [open science](http://en.wikipedia.org/wiki/Open_science) and reproducible research\n",
      "+ Brian Granger: Lead developper of the [IPython notebook](http://ipython.org/notebook.html)\n",
      "+ [Wes McKinney](http://blog.wesmckinney.com): Lead developper of Pandas, author of [Python for Data Analysis](http://shop.oreilly.com/product/0636920023784.do)\n",
      "+ [Christopher Fonnesbeck](http://biostat.mc.vanderbilt.edu/wiki/Main/ChrisFonnesbeck): Developper of [PYMC](http://pymc-devs.github.io/pymc/) (Bayesian statistical models and fitting algorithms, including Markov chain Monte Carlo)\n",
      "+ [Jake VanderPlas](http://www.astro.washington.edu/users/vanderplas/): Astronomer, contributor to [scikit-learn](http://scikit-learn.org)\n",
      "+ [Ga\u00ebl Varoquaux](http://gael-varoquaux.info): One of the main contributors to [scikit-learn](http://scikit-learn.org)\n",
      "+ [Olivier Grisel](http://ogrisel.com): Also main contributor to [scikit-learn](http://scikit-learn.org)\n",
      "+ [Travis Oliphant](http://technicaldiscovery.blogspot.co.nz): One of the lead developpers of Numpy / Scipy, and founder of [Continuum Analytics](http://continuum.io).\n",
      "+ J.R. Johansson http://dml.riken.jp/~rob/\n",
      "+ [Thomas Wiecki](http://twiecki.github.io/): developper of [PYMC3](https://github.com/pymc-devs/pymc), a fork of PYMC. \n",
      "+ [Skipper Seabold](http://jseabold.net/): The main developper of [statsmodels](http://statsmodels.sourceforge.net/)\n",
      "+ [Kevin Sheppard](http://www.kevinsheppard.com/wiki/Main_Page) from University of Oxford: author or the book [Introduction to Python for Econometrics, Statistics and Numerical Analysis: Second Edition](http://www.kevinsheppard.com/images/0/09/Python_introduction.pdf). \n",
      "\n",
      "And finally [John Hunter](http://blog.fperez.org/2013/07/in-memoriam-john-d-hunter-iii-1968-2012.html), He was the founder and lead developper of [Matplotlib](http://matplotlib.org), a pivotal library to make Python a viable free and open-source alternative to commercial scientific software, and very sadly passed away in 2012.\n",
      "\n",
      "I encourage you - if you carry on using Python for science - to look up these people on google, have a look at their github repositories and the projects they contribute to, and follow them on twitter, some of them (*e.g.* Jake VanderPlas) have also very informative blogs. You can also donate to the [John Hunter memorial fund](http://numfocus.org/johnhunter.html) as a way to give back to an important contributor to the Python scientific community.\n",
      "\n",
      "---"
     ]
    },
    {
     "cell_type": "markdown",
     "metadata": {},
     "source": [
      "<center>\n",
      "![](files/images/python.png)\n",
      "</center>"
     ]
    },
    {
     "cell_type": "code",
     "collapsed": false,
     "input": [],
     "language": "python",
     "metadata": {},
     "outputs": []
    }
   ],
   "metadata": {}
  }
 ]
}