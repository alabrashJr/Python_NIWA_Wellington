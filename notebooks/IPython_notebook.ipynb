{
 "metadata": {
  "name": "",
  "signature": "sha256:3ed194334fa6fa4bef35f7a01038b34f64415bb299b61b114746f7a68a79e2d6"
 },
 "nbformat": 3,
 "nbformat_minor": 0,
 "worksheets": [
  {
   "cells": [
    {
     "cell_type": "code",
     "collapsed": false,
     "input": [
      "%load_ext load_style\n",
      "%load_style talk.css"
     ],
     "language": "python",
     "metadata": {},
     "outputs": [
      {
       "html": [
        "<style>\n",
        "\n",
        ".rendered_html {\n",
        "    font-family: \"proxima-nova\", helvetica;\n",
        "    font-size: 130%;\n",
        "    line-height: 1.5;\n",
        "}\n",
        "\n",
        ".rendered_html h1 {\n",
        "    margin: 0.25em 0em 0.5em;\n",
        "    color: #015C9C;\n",
        "    text-align: center;\n",
        "    line-height: 1.2; \n",
        "    page-break-before: always;\n",
        "}\n",
        "\n",
        ".rendered_html h2 {\n",
        "    margin: 1.1em 0em 0.5em;\n",
        "    color: #26465D;\n",
        "    line-height: 1.2;\n",
        "}\n",
        "\n",
        ".rendered_html h3 {\n",
        "    margin: 1.1em 0em 0.5em;\n",
        "    color: #002845;\n",
        "    line-height: 1.2;\n",
        "}\n",
        "\n",
        ".rendered_html li {\n",
        "    line-height: 1.5; \n",
        "}\n",
        "\n",
        "/*.prompt {\n",
        "    font-size: 120%; \n",
        "}*/\n",
        "\n",
        ".CodeMirror-lines {\n",
        "    font-size: 110%; \n",
        "}\n",
        "\n",
        "/*.output_area {\n",
        "    font-size: 120%; \n",
        "}*/\n",
        "\n",
        "/*#notebook {\n",
        "    background-image: url('files/images/witewall_3.png');\n",
        "}*/\n",
        "\n",
        "h1.bigtitle {\n",
        "    margin: 4cm 1cm 4cm 1cm;\n",
        "    font-size: 300%;\n",
        "}\n",
        "\n",
        "h3.point {\n",
        "    font-size: 200%;\n",
        "    text-align: center;\n",
        "    margin: 2em 0em 2em 0em;\n",
        "    #26465D\n",
        "}\n",
        "\n",
        ".logo {\n",
        "    margin: 20px 0 20px 0;\n",
        "}\n",
        "\n",
        "a.anchor-link {\n",
        "    display: none;\n",
        "}\n",
        "\n",
        "h1.title { \n",
        "    font-size: 250%;\n",
        "}\n",
        "\n",
        "</style>"
       ],
       "metadata": {},
       "output_type": "display_data",
       "text": [
        "<IPython.core.display.HTML at 0x10524de50>"
       ]
      }
     ],
     "prompt_number": 1
    },
    {
     "cell_type": "heading",
     "level": 2,
     "metadata": {},
     "source": [
      "Overview of the IPython notebook "
     ]
    },
    {
     "cell_type": "code",
     "collapsed": false,
     "input": [
      "from IPython.display import display, HTML"
     ],
     "language": "python",
     "metadata": {},
     "outputs": [],
     "prompt_number": 6
    },
    {
     "cell_type": "markdown",
     "metadata": {},
     "source": [
      "Python ships with a basic interactive interpreter ... not much fun here\n",
      "\n",
      "\n",
      "<div align=\"center\">\n",
      "<img src=\"files/images/python_console.png\" width=\"700\">\n",
      "</div>\n",
      "\n",
      "[IPython](www.ipython.org) is an enhanced interactive interpreter, developped for scientific development, adding e.g. history, tab-completion, interactive help, and lots and lots of goodies: \n",
      "\n",
      "<div align=\"center\">\n",
      "<img src=\"files/images/ipython_console.png\" width=\"700\">\n",
      "</div>\n",
      "\n",
      "<hr>\n",
      "\n",
      "Since 2005, the IPython development team has introduced the **IPython notebook**. This is a web application, running in the browser, that is connected to a Python kernel running in the background. "
     ]
    },
    {
     "cell_type": "code",
     "collapsed": false,
     "input": [
      "HTML('<iframe src=http://ipython.org/notebook.html width=900 height=350></iframe>')"
     ],
     "language": "python",
     "metadata": {},
     "outputs": []
    },
    {
     "cell_type": "markdown",
     "metadata": {},
     "source": [
      "It behaves as an **interactive notebook**, in which you can weave Python code and outputs, figures generated from Python / matplotlib, images (either local and remote), websites, videos and richly formatted comments using [markdown](wikipedia/markdown), which is a superset of HTML with a very simple syntax (see [here](www.markdown.com) for more) \n",
      "\n",
      "It is structured into executable cells, into which by default you can run arbitrary python code\n",
      "\n",
      "It has a sophisticated tab completion and help system \n",
      "\n",
      "The power of IPython comes in part because of its numerous extensions and *magic* functions\n",
      "\n",
      "And finally you can *export* a notebook in different formats, including HTML and Latex (and PDF). "
     ]
    },
    {
     "cell_type": "markdown",
     "metadata": {},
     "source": [
      "Recently the IPython notebook as been featured in the **toolbox** section of [Nature](http://www.nature.com)"
     ]
    },
    {
     "cell_type": "code",
     "collapsed": false,
     "input": [
      "HTML('<iframe src=http://www.nature.com/news/interactive-notebooks-sharing-the-code-1.16261 width=1000 height=350></iframe>')"
     ],
     "language": "python",
     "metadata": {},
     "outputs": [
      {
       "html": [
        "<iframe src=http://www.nature.com/news/interactive-notebooks-sharing-the-code-1.16261 width=1000 height=350></iframe>"
       ],
       "metadata": {},
       "output_type": "pyout",
       "prompt_number": 5,
       "text": [
        "<IPython.core.display.HTML at 0x105261050>"
       ]
      }
     ],
     "prompt_number": 5
    },
    {
     "cell_type": "heading",
     "level": 2,
     "metadata": {},
     "source": [
      "Using the IPython notebook"
     ]
    },
    {
     "cell_type": "markdown",
     "metadata": {},
     "source": [
      "To start an IPython notebook session open a command prompt, navigate to a desired working directory then issue the following command:\n",
      "\n",
      "`$ ipython notebook`\n",
      "\n",
      "A new window will open in your web browser where you can open an existing notebook or start a new one.\n",
      "Notebooks are organinzed with cells. You may have a code cell for inputing commands followed by its result cell which contains the output of the code. You may also have a text cell, such as this one you're reading right now. Cell type can be changed in the above dropdown menu.\n",
      "\n",
      "There is the menubar above for navigating a notebook but you will find the following shortcuts helpful:\n",
      "\n",
      "- `Enter` : Enter the edit mode of a cell\n",
      "- `Esc` : Leave the edit mode and get into the *control* mode (see icons on the right of the menu bar)\n",
      "- `Shift + Enter` : Execute cell and advance to next cell\n",
      "- `Alt + Enter` : Execute cell and insert and empty cell below\n",
      "- `Ctrl + Enter` : Execute cell in place (do not advance to the next cell)\n",
      "- Press `esc` (command mode) then `h` to display keyboard shortcuts\n",
      "\n",
      "At times you might run code that gets stuck in an infinite loop or simply you want to clear all your workspace variables and start over. To do that you can do:\n",
      "\n",
      "`Kernel -> Interrupt`\n",
      "\n",
      "`Kernel -> Restart`\n"
     ]
    },
    {
     "cell_type": "code",
     "collapsed": false,
     "input": [
      "### This is a code cell, containing python code, it is executed by <shift>-<enter> or <alt>-<enter>\n",
      "\n",
      "def func(x):\n",
      "    return x**3\n",
      "\n",
      "[func(x) for x in xrange(10)]"
     ],
     "language": "python",
     "metadata": {},
     "outputs": [
      {
       "metadata": {},
       "output_type": "pyout",
       "prompt_number": 21,
       "text": [
        "[0, 1, 8, 27, 64, 125, 216, 343, 512, 729]"
       ]
      }
     ],
     "prompt_number": 21
    },
    {
     "cell_type": "heading",
     "level": 3,
     "metadata": {},
     "source": [
      "Getting help"
     ]
    },
    {
     "cell_type": "code",
     "collapsed": false,
     "input": [
      "%quickref"
     ],
     "language": "python",
     "metadata": {},
     "outputs": []
    },
    {
     "cell_type": "markdown",
     "metadata": {},
     "source": [
      "IPython has a sophisticated help and tab completion system, which allows **introspection**: i.e.\n",
      "If you want details regarding the properties and functionality of any Python objects currently loaded into IPython, you can use the `?` to reveal any details that are available:"
     ]
    },
    {
     "cell_type": "code",
     "collapsed": false,
     "input": [
      "some_dict = {}\n",
      "some_dict?"
     ],
     "language": "python",
     "metadata": {},
     "outputs": []
    },
    {
     "cell_type": "code",
     "collapsed": false,
     "input": [
      "from numpy import random \n",
      "random?"
     ],
     "language": "python",
     "metadata": {},
     "outputs": []
    },
    {
     "cell_type": "code",
     "collapsed": false,
     "input": [
      "help(random) # produces a long output below instead of in a dedicated frame. <CTRL>-<M> <D>"
     ],
     "language": "python",
     "metadata": {},
     "outputs": []
    },
    {
     "cell_type": "heading",
     "level": 3,
     "metadata": {},
     "source": [
      "Tab completion"
     ]
    },
    {
     "cell_type": "markdown",
     "metadata": {},
     "source": [
      "Because IPython allows for introspection, it is able to afford the user the ability to tab-complete commands that have been partially typed. This is done by pressing the `<tab>` key at any point during the process of typing a command:"
     ]
    },
    {
     "cell_type": "code",
     "collapsed": false,
     "input": [
      "listA = [1, 2., 'sentence', 1, (1,2), {'answer': 42}] # here I construct a LIST containing different items"
     ],
     "language": "python",
     "metadata": {},
     "outputs": []
    },
    {
     "cell_type": "code",
     "collapsed": false,
     "input": [
      "listA."
     ],
     "language": "python",
     "metadata": {},
     "outputs": []
    },
    {
     "cell_type": "code",
     "collapsed": true,
     "input": [
      "listA.count(1)\n",
      "listA.count(2.0)"
     ],
     "language": "python",
     "metadata": {},
     "outputs": []
    },
    {
     "cell_type": "markdown",
     "metadata": {},
     "source": [
      "And opening a parenthesis and pressing `<tab>` gives details about the arguments of a function or method"
     ]
    },
    {
     "cell_type": "code",
     "collapsed": true,
     "input": [
      "listA.count()"
     ],
     "language": "python",
     "metadata": {},
     "outputs": []
    },
    {
     "cell_type": "code",
     "collapsed": false,
     "input": [
      "listA"
     ],
     "language": "python",
     "metadata": {},
     "outputs": []
    },
    {
     "cell_type": "heading",
     "level": 3,
     "metadata": {},
     "source": [
      "including markdown comments "
     ]
    },
    {
     "cell_type": "markdown",
     "metadata": {},
     "source": [
      "#### A short introduction to markdown syntax \n",
      "\n",
      "Using markdown cells, you can insert formatted comments, observations ... directly in between executable code and outputs ... \n",
      "\n",
      "To toggle from *code cell* (the default) to *markdown cell*, you can use the toolbar, or ```<ctrl>-<m> + <m>``` (```<command>-<m> + <m>``` on Macs)\n",
      "\n",
      "You can *italicize*, **boldface**\n",
      "\n",
      "\n",
      "\n",
      "* build\n",
      "\n",
      "* lists\n",
      "\n",
      "\n",
      "1. enumerate  \n",
      "\n",
      "2. stuff\n",
      "\n",
      "and embed syntax highlighted code meant for illustration instead of execution in Python:\n",
      "\n",
      "```python\n",
      "print('hello')\n",
      "```\n",
      "\n",
      "```python\n",
      "def f(x):\n",
      "    \"\"\"a docstring\"\"\"\n",
      "    return x**2\n",
      "```\n",
      "\n",
      "or other languages:\n",
      "\n",
      "```C\n",
      "if (i=0; i<n; i++) {\n",
      "  printf(\"hello %d\\n\", i);\n",
      "  x += 4;\n",
      "}\n",
      "```"
     ]
    },
    {
     "cell_type": "markdown",
     "metadata": {},
     "source": [
      "You can insert images seemlessly into a Markdown cell, but if it is local instead of on the web, it needs to reside in an **images** folder in the same directory as your notebook. \n",
      "\n",
      "The syntax is then \n",
      "\n",
      "    ![optional tag](files/images/image.png)\n",
      "    \n",
      "e.g.\n",
      "\n",
      "<div align=\"center\">\n",
      "![](files/images/presentation.png)\n",
      "</div>\n"
     ]
    },
    {
     "cell_type": "markdown",
     "metadata": {},
     "source": [
      "Thanks to [MathJax](www.wikipedia/mathjax), you can include mathematical expressions in a markdown cell using Latex syntax both inline and displayed: \n",
      "\n",
      "For example ```$e^{i\\pi} + 1 = 0$``` becomes $e^{i\\pi} + 1 = 0$ \n",
      "\n",
      "and \n",
      "\n",
      "```$$e^x=\\sum_{i=0}^\\infty \\frac{1}{i!}x^i$$```\n",
      "\n",
      "becomes: \n",
      "\n",
      "$$e^x=\\sum_{i=0}^\\infty \\frac{1}{i!}x^i$$\n",
      "\n",
      "Mathjax is a JavaScript library, and by default IPython uses the online version, if you want  to be able to use it offline, you need to install MathJax locally by running that (once) in a code cell: \n",
      "\n",
      "    from IPython.external.mathjax import install_mathjax\n",
      "    install_mathjax()\n",
      "    "
     ]
    },
    {
     "cell_type": "heading",
     "level": 3,
     "metadata": {},
     "source": [
      "The IPython notebook rich display system"
     ]
    },
    {
     "cell_type": "code",
     "collapsed": false,
     "input": [
      "from IPython.display import Image, YouTubeVideo"
     ],
     "language": "python",
     "metadata": {},
     "outputs": [],
     "prompt_number": 23
    },
    {
     "cell_type": "code",
     "collapsed": false,
     "input": [
      "### that will display a frame with specified width and height ... \n",
      "\n",
      "HTML('<iframe src=\"http://numpy.org/\" height=300 width=600>'\n",
      "     '</iframe>')"
     ],
     "language": "python",
     "metadata": {},
     "outputs": [
      {
       "html": [
        "<iframe src=\"http://numpy.org/\" height=300 width=600></iframe>"
       ],
       "metadata": {},
       "output_type": "pyout",
       "prompt_number": 24,
       "text": [
        "<IPython.core.display.HTML at 0x1054892d0>"
       ]
      }
     ],
     "prompt_number": 24
    },
    {
     "cell_type": "code",
     "collapsed": false,
     "input": [
      "### This inserts an image in the output cell\n",
      "\n",
      "Image(filename='images/lost_wormhole.jpg',width=500)"
     ],
     "language": "python",
     "metadata": {},
     "outputs": [
      {
       "jpeg": "[encoded data removed]",
       "metadata": {
        "jpeg": {
         "width": 500
        }
       },
       "output_type": "pyout",
       "prompt_number": 25,
       "text": [
        "<IPython.core.display.Image at 0x10567f990>"
       ]
      }
     ],
     "prompt_number": 25
    },
    {
     "cell_type": "code",
     "collapsed": false,
     "input": [
      "### This embeds a video from YouTube\n",
      "### You can embed Vimeo videos by calling from IPython.display import VimeoVideo\n",
      "\n",
      "# Fernando P\u00e9rez at PyConCA, here I start at 30 minutes \n",
      "YouTubeVideo('F4rFuIb1Ie4', start = 30*60)  "
     ],
     "language": "python",
     "metadata": {},
     "outputs": [
      {
       "html": [
        "\n",
        "        <iframe\n",
        "            width=\"400\"\n",
        "            height=300\"\n",
        "            src=\"https://www.youtube.com/embed/F4rFuIb1Ie4?start=1800\"\n",
        "            frameborder=\"0\"\n",
        "            allowfullscreen\n",
        "        ></iframe>\n",
        "        "
       ],
       "metadata": {},
       "output_type": "pyout",
       "prompt_number": 26,
       "text": [
        "<IPython.lib.display.YouTubeVideo at 0x10567f710>"
       ]
      }
     ],
     "prompt_number": 26
    },
    {
     "cell_type": "code",
     "collapsed": true,
     "input": [
      "### You can also embed a LOCAL video in the notebook, but have to encode it: Not sure it will work \n",
      "### on Windows ...\n",
      "\n",
      "import io\n",
      "import base64\n",
      "\n",
      "filename = './data/Astro_ML_PYDATA2012.mp4'\n",
      "\n",
      "video = io.open(filename, 'r+b').read()\n",
      "encoded = base64.b64encode(video)\n",
      "HTML(data='''<video alt=\"AstroML talk\" controls>\n",
      "           <source src=\"data:video/mp4;base64,{0}\" type=\"video/mp4\" />\n",
      "           </video>'''.format(encoded.decode('ascii')))"
     ],
     "language": "python",
     "metadata": {},
     "outputs": []
    },
    {
     "cell_type": "heading",
     "level": 3,
     "metadata": {},
     "source": [
      "Inline plots with matplotlib "
     ]
    },
    {
     "cell_type": "code",
     "collapsed": false,
     "input": [
      "import numpy as np\n",
      "import matplotlib.pyplot as plt"
     ],
     "language": "python",
     "metadata": {},
     "outputs": []
    },
    {
     "cell_type": "code",
     "collapsed": false,
     "input": [
      "# this is a magic IPython command (%) allowing matplotlib plots to be displayed inline in the notebook \n",
      "%matplotlib inline"
     ],
     "language": "python",
     "metadata": {},
     "outputs": []
    },
    {
     "cell_type": "code",
     "collapsed": true,
     "input": [
      "t = np.linspace(0, 2*np.pi, 100)\n",
      "plt.plot(np.sin(t))"
     ],
     "language": "python",
     "metadata": {},
     "outputs": []
    },
    {
     "cell_type": "code",
     "collapsed": false,
     "input": [
      "# you can also choose to display figure OUTSIDE the notebook\n",
      "# the available backends are [inline|qt|osx|gtx] ... For Windows try qt\n",
      "%matplotlib osx "
     ],
     "language": "python",
     "metadata": {},
     "outputs": []
    },
    {
     "cell_type": "code",
     "collapsed": false,
     "input": [
      "t = np.linspace(0, 2*np.pi, 100)\n",
      "plt.plot(np.sin(t))"
     ],
     "language": "python",
     "metadata": {},
     "outputs": []
    },
    {
     "cell_type": "markdown",
     "metadata": {},
     "source": [
      "from version 1.4 of Matplotlib, a special interactive backend for the IPython notebook is available\n",
      "\n",
      "You need to restart the kernel and then run the following cell for it to work "
     ]
    },
    {
     "cell_type": "code",
     "collapsed": false,
     "input": [
      "import matplotlib\n",
      "matplotlib.use('nbagg')"
     ],
     "language": "python",
     "metadata": {},
     "outputs": []
    },
    {
     "cell_type": "code",
     "collapsed": false,
     "input": [
      "%matplotlib inline"
     ],
     "language": "python",
     "metadata": {},
     "outputs": []
    },
    {
     "cell_type": "heading",
     "level": 3,
     "metadata": {},
     "source": [
      "Some useful magic commands in IPython"
     ]
    },
    {
     "cell_type": "code",
     "collapsed": false,
     "input": [
      "# for a list of available magic command \n",
      "\n",
      "%lsmagic "
     ],
     "language": "python",
     "metadata": {},
     "outputs": []
    },
    {
     "cell_type": "markdown",
     "metadata": {},
     "source": [
      "For example \n",
      "\n",
      "    %whos\n",
      "\n",
      "list all variables (incl. classes, functions, etc) in the **namespace**"
     ]
    },
    {
     "cell_type": "code",
     "collapsed": false,
     "input": [
      "%whos "
     ],
     "language": "python",
     "metadata": {},
     "outputs": []
    },
    {
     "cell_type": "heading",
     "level": 3,
     "metadata": {},
     "source": [
      "Writing the content of a cell to file "
     ]
    },
    {
     "cell_type": "code",
     "collapsed": false,
     "input": [
      "%%file tmp.py\n",
      "#!/usr/bin/env python \n",
      "import numpy as np\n",
      "\n",
      "print('Hello world')\n",
      "\n",
      "a = np.arange(10) ### will be available in the namespace "
     ],
     "language": "python",
     "metadata": {},
     "outputs": []
    },
    {
     "cell_type": "heading",
     "level": 3,
     "metadata": {},
     "source": [
      "Running some external python script (local or online)"
     ]
    },
    {
     "cell_type": "code",
     "collapsed": false,
     "input": [
      "%run tmp.py"
     ],
     "language": "python",
     "metadata": {},
     "outputs": []
    },
    {
     "cell_type": "code",
     "collapsed": false,
     "input": [
      "a"
     ],
     "language": "python",
     "metadata": {},
     "outputs": []
    },
    {
     "cell_type": "heading",
     "level": 3,
     "metadata": {},
     "source": [
      "Loading the content of some local python script "
     ]
    },
    {
     "cell_type": "markdown",
     "metadata": {},
     "source": [
      "you can load actually anything, e.g. a Markdown file"
     ]
    },
    {
     "cell_type": "code",
     "collapsed": false,
     "input": [
      "%load tmp.py"
     ],
     "language": "python",
     "metadata": {},
     "outputs": []
    },
    {
     "cell_type": "code",
     "collapsed": false,
     "input": [
      "#!/usr/bin/env python \n",
      "import numpy as np\n",
      "\n",
      "print('Hello world')\n",
      "\n",
      "a = np.arange(10) ### will be available in the namespace "
     ],
     "language": "python",
     "metadata": {},
     "outputs": []
    },
    {
     "cell_type": "markdown",
     "metadata": {},
     "source": [
      "#### works as well for scripts available online"
     ]
    },
    {
     "cell_type": "code",
     "collapsed": false,
     "input": [
      "### loading an example from the matplotlib gallery\n",
      "\n",
      "%load http://matplotlib.org/mpl_examples/images_contours_and_fields/streamplot_demo_features.py"
     ],
     "language": "python",
     "metadata": {},
     "outputs": []
    },
    {
     "cell_type": "code",
     "collapsed": false,
     "input": [
      "\"\"\"\n",
      "Demo of the `streamplot` function.\n",
      "\n",
      "A streamplot, or streamline plot, is used to display 2D vector fields. This\n",
      "example shows a few features of the stream plot function:\n",
      "\n",
      "    * Varying the color along a streamline.\n",
      "    * Varying the density of streamlines.\n",
      "    * Varying the line width along a stream line.\n",
      "\"\"\"\n",
      "import numpy as np\n",
      "import matplotlib.pyplot as plt\n",
      "\n",
      "Y, X = np.mgrid[-3:3:100j, -3:3:100j]\n",
      "U = -1 - X**2 + Y\n",
      "V = 1 + X - Y**2\n",
      "speed = np.sqrt(U*U + V*V)\n",
      "\n",
      "plt.streamplot(X, Y, U, V, color=U, linewidth=2, cmap=plt.cm.autumn)\n",
      "plt.colorbar()\n",
      "\n",
      "f, (ax1, ax2) = plt.subplots(ncols=2)\n",
      "ax1.streamplot(X, Y, U, V, density=[0.5, 1])\n",
      "\n",
      "lw = 5*speed/speed.max()\n",
      "ax2.streamplot(X, Y, U, V, density=0.6, color='k', linewidth=lw)\n",
      "\n",
      "plt.show()\n",
      "\n"
     ],
     "language": "python",
     "metadata": {},
     "outputs": []
    },
    {
     "cell_type": "heading",
     "level": 3,
     "metadata": {},
     "source": [
      "Interacting with the OS: the IPython notebook as an enhanced shell"
     ]
    },
    {
     "cell_type": "code",
     "collapsed": false,
     "input": [
      "!rm tmp.py  ### ! escapes to the OS (!del tmp.py on windows)"
     ],
     "language": "python",
     "metadata": {},
     "outputs": []
    },
    {
     "cell_type": "code",
     "collapsed": false,
     "input": [
      "notebooks = !ls *.ipynb ### notebooks is a python list ... not sure how to use wildcards on Windows"
     ],
     "language": "python",
     "metadata": {},
     "outputs": []
    },
    {
     "cell_type": "code",
     "collapsed": false,
     "input": [
      "notebooks"
     ],
     "language": "python",
     "metadata": {},
     "outputs": []
    },
    {
     "cell_type": "markdown",
     "metadata": {},
     "source": [
      "And if you need to actually quickly put together and run a bash script (linux / Mac), you don't need to escape the IPython notebook thanks to the \n",
      "\n",
      "    %%bash \n",
      "    \n",
      "cell magic ..."
     ]
    },
    {
     "cell_type": "code",
     "collapsed": false,
     "input": [
      "%%bash\n",
      "\n",
      "# Substitutes underscores for blanks in all the filenames in a directory.\n",
      "\n",
      "ONE=1                     # For getting singular/plural right (see below).\n",
      "number=0                  # Keeps track of how many files actually renamed.\n",
      "FOUND=0                   # Successful return value.\n",
      "\n",
      "for filename in *         # Traverses all files in directory.\n",
      "do\n",
      "     echo \"$filename\" | grep -q \" \"         # Checks whether filename\n",
      "     if [ $? -eq $FOUND ]                   # contains space(s).\n",
      "     then\n",
      "       fname=$filename                      # Strips off path.\n",
      "       n=`echo $fname | sed -e \"s/ /_/g\"`   # Substitutes underscore for blank.\n",
      "       mv \"$fname\" \"$n\"                     # Do the actual renaming.\n",
      "       let \"number += 1\"\n",
      "     fi\n",
      "done   \n",
      "\n",
      "if [ \"$number\" -eq \"$ONE\" ]                 # For correct grammar.\n",
      "then\n",
      " echo \"$number file renamed.\"\n",
      "else \n",
      " echo \"$number files renamed.\"\n",
      "fi \n",
      "\n",
      "exit 0"
     ],
     "language": "python",
     "metadata": {},
     "outputs": []
    },
    {
     "cell_type": "heading",
     "level": 3,
     "metadata": {},
     "source": [
      "Exporting your notebook in other formats "
     ]
    },
    {
     "cell_type": "markdown",
     "metadata": {},
     "source": [
      "A notebook (extension .ipynb) is actually just a [JSON](http://en.wikipedia.org/wiki/JSON) file, using built-in converters you can \n",
      "convert a notebook into a variety of formats for sharing, illustration, publishing, etc. "
     ]
    },
    {
     "cell_type": "code",
     "collapsed": false,
     "input": [
      "#!ipython nbconvert --help\n",
      "!ipython nbconvert --help"
     ],
     "language": "python",
     "metadata": {},
     "outputs": []
    },
    {
     "cell_type": "code",
     "collapsed": false,
     "input": [
      "name = 'IPython_notebook'"
     ],
     "language": "python",
     "metadata": {},
     "outputs": [],
     "prompt_number": 10
    },
    {
     "cell_type": "code",
     "collapsed": false,
     "input": [
      "!ipython nbconvert {name}.ipynb --to html"
     ],
     "language": "python",
     "metadata": {},
     "outputs": [
      {
       "output_type": "stream",
       "stream": "stdout",
       "text": [
        "[NbConvertApp] Using existing profile dir: u'/Users/nicolasf/.ipython/profile_default'\r\n"
       ]
      },
      {
       "output_type": "stream",
       "stream": "stdout",
       "text": [
        "[NbConvertApp] Converting notebook IPython_notebook.ipynb to html\r\n",
        "[NbConvertApp] Support files will be in IPython_notebook_files/\r\n"
       ]
      },
      {
       "output_type": "stream",
       "stream": "stdout",
       "text": [
        "[NbConvertApp] Loaded template full.tpl\r\n"
       ]
      },
      {
       "output_type": "stream",
       "stream": "stdout",
       "text": [
        "[NbConvertApp] Writing 230915 bytes to IPython_notebook.html\r\n"
       ]
      }
     ],
     "prompt_number": 15
    },
    {
     "cell_type": "code",
     "collapsed": false,
     "input": [
      "display(HTML(\"<a href='{name}.html' target='_blank'> {name}.html </a>\".format(name=name)))"
     ],
     "language": "python",
     "metadata": {},
     "outputs": [
      {
       "html": [
        "<a href='IPython_notebook.html' target='_blank'> IPython_notebook.html </a>"
       ],
       "metadata": {},
       "output_type": "display_data",
       "text": [
        "<IPython.core.display.HTML at 0x10567f850>"
       ]
      }
     ],
     "prompt_number": 16
    },
    {
     "cell_type": "code",
     "collapsed": false,
     "input": [
      "!open ./{name}.html"
     ],
     "language": "python",
     "metadata": {},
     "outputs": [],
     "prompt_number": 17
    },
    {
     "cell_type": "heading",
     "level": 2,
     "metadata": {},
     "source": [
      "Sharing your IPython notebook"
     ]
    },
    {
     "cell_type": "markdown",
     "metadata": {},
     "source": [
      "1. host your IPython notebook on the public internet (e.g. github repo, github gist)\n",
      "2. go to [http://nbviewer.ipython.org/](http://nbviewer.ipython.org/) and copy the URL\n",
      "3. Et voila !"
     ]
    },
    {
     "cell_type": "heading",
     "level": 2,
     "metadata": {},
     "source": [
      "Interacting with your code with the IPython notebook widgets"
     ]
    },
    {
     "cell_type": "markdown",
     "metadata": {},
     "source": [
      "[Follow this link](./IPython_widgets.ipynb)"
     ]
    },
    {
     "cell_type": "heading",
     "level": 2,
     "metadata": {},
     "source": [
      "IPython Parallel"
     ]
    },
    {
     "cell_type": "markdown",
     "metadata": {},
     "source": [
      "* [Part 1](https://www.youtube.com/watch?v=y4hgalfhc1Y&list=PLYx7XA2nY5GfuhCvStxgbynFNrxr3VFog&index=49)"
     ]
    },
    {
     "cell_type": "code",
     "collapsed": false,
     "input": [
      "YouTubeVideo('y4hgalfhc1Y')"
     ],
     "language": "python",
     "metadata": {},
     "outputs": [
      {
       "html": [
        "\n",
        "        <iframe\n",
        "            width=\"400\"\n",
        "            height=300\"\n",
        "            src=\"https://www.youtube.com/embed/y4hgalfhc1Y\"\n",
        "            frameborder=\"0\"\n",
        "            allowfullscreen\n",
        "        ></iframe>\n",
        "        "
       ],
       "metadata": {},
       "output_type": "pyout",
       "prompt_number": 29,
       "text": [
        "<IPython.lib.display.YouTubeVideo at 0x10567f3d0>"
       ]
      }
     ],
     "prompt_number": 29
    },
    {
     "cell_type": "markdown",
     "metadata": {},
     "source": [
      "* [Part 2](https://www.youtube.com/watch?v=-9ijnHPCYhY&list=PLYx7XA2nY5GfuhCvStxgbynFNrxr3VFog&index=50)"
     ]
    },
    {
     "cell_type": "code",
     "collapsed": false,
     "input": [
      "YouTubeVideo('-9ijnHPCYhY')"
     ],
     "language": "python",
     "metadata": {},
     "outputs": [
      {
       "html": [
        "\n",
        "        <iframe\n",
        "            width=\"400\"\n",
        "            height=300\"\n",
        "            src=\"https://www.youtube.com/embed/-9ijnHPCYhY\"\n",
        "            frameborder=\"0\"\n",
        "            allowfullscreen\n",
        "        ></iframe>\n",
        "        "
       ],
       "metadata": {},
       "output_type": "pyout",
       "prompt_number": 30,
       "text": [
        "<IPython.lib.display.YouTubeVideo at 0x10567f290>"
       ]
      }
     ],
     "prompt_number": 30
    },
    {
     "cell_type": "markdown",
     "metadata": {},
     "source": [
      "[Part 3](https://www.youtube.com/watch?v=U5mhpKkIx2Y&index=51&list=PLYx7XA2nY5GfuhCvStxgbynFNrxr3VFog)"
     ]
    },
    {
     "cell_type": "code",
     "collapsed": false,
     "input": [
      "YouTubeVideo('U5mhpKkIx2Y')"
     ],
     "language": "python",
     "metadata": {},
     "outputs": [
      {
       "html": [
        "\n",
        "        <iframe\n",
        "            width=\"400\"\n",
        "            height=300\"\n",
        "            src=\"https://www.youtube.com/embed/U5mhpKkIx2Y\"\n",
        "            frameborder=\"0\"\n",
        "            allowfullscreen\n",
        "        ></iframe>\n",
        "        "
       ],
       "metadata": {},
       "output_type": "pyout",
       "prompt_number": 35,
       "text": [
        "<IPython.lib.display.YouTubeVideo at 0x1056b3450>"
       ]
      }
     ],
     "prompt_number": 35
    },
    {
     "cell_type": "code",
     "collapsed": false,
     "input": [],
     "language": "python",
     "metadata": {},
     "outputs": []
    }
   ],
   "metadata": {}
  }
 ]
}